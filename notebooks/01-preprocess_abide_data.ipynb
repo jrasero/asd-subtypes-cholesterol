{
 "cells": [
  {
   "cell_type": "markdown",
   "metadata": {},
   "source": [
    "In this notebook we postprocess a little bit the ABIDE data"
   ]
  },
  {
   "cell_type": "code",
   "execution_count": 1,
   "metadata": {},
   "outputs": [],
   "source": [
    "import pandas as pd\n",
    "import numpy as np\n",
    "import os, glob\n",
    "from os.path import join as opj"
   ]
  },
  {
   "cell_type": "code",
   "execution_count": 2,
   "metadata": {},
   "outputs": [],
   "source": [
    "data_dir = '../data'"
   ]
  },
  {
   "cell_type": "code",
   "execution_count": 3,
   "metadata": {},
   "outputs": [],
   "source": [
    "# For reproducibility of this notebook\n",
    "RANDOM_STATE = 0\n",
    "\n",
    "# SOCIAL NETWORK LABELS (just for plotting)    \n",
    "sn_labels = ['cerebellum_lh','anteriorcingulate_lh', 'temporoparietal_lh',\n",
    "             'amygdala_lh', 'superiortemporal_rh', 'cerebellum_rh',\n",
    "             'extrastriate_rh', 'fusiform_lh', 'temporalpole_rh',\n",
    "             'posterirocingulate_lh', 'retrosperial_lh','dorsomedial_lh',\n",
    "             'retrosperial_rh','temporalpole_lh', 'ventromedial_rh','extrastriate_lh',\n",
    "             'superiortemporal_lh','amygdala_rh','temporoparietal_rh',\n",
    "             'anteriorcingulate_rh','ventromedial_lh', 'insula_lh', 'dorsomedial_rh',\n",
    "             'insula_rh','fusiform_rh', 'posterirocingulate_rh']"
   ]
  },
  {
   "cell_type": "code",
   "execution_count": 4,
   "metadata": {},
   "outputs": [],
   "source": [
    "vars_to_see=['SITE_ID', 'SUB_ID', 'DX_GROUP', 'SEX','AGE_AT_SCAN', 'DSM_IV_TR', 'FIQ', 'VIQ', 'PIQ',\n",
    "             'ADI_R_SOCIAL_TOTAL_A','ADI_R_VERBAL_TOTAL_BV']"
   ]
  },
  {
   "cell_type": "code",
   "execution_count": 5,
   "metadata": {},
   "outputs": [],
   "source": [
    "abide_I = pd.read_csv(\"../data/ABIDEI_Composite_Phenotypic.csv\", encoding = \"ISO-8859-1\")\n",
    "\n",
    "abide_I.loc[:, 'ABIDE_ID'] = np.repeat(1, abide_I.shape[0])\n",
    "abide_II = pd.read_csv(\"../data/ABIDEII_Composite_Phenotypic.csv\", encoding = \"ISO-8859-1\")\n",
    "abide_II.loc[:, 'ABIDE_ID'] = np.repeat(2, abide_II.shape[0])\n",
    "\n",
    "abide_II = abide_II.rename(columns = {'PDD_DSM_IV_TR':'DSM_IV_TR', \n",
    "                                     'AGE_AT_SCAN ': 'AGE_AT_SCAN'})\n",
    "\n",
    "abide_merged = pd.concat([abide_I.loc[:, vars_to_see + ['ABIDE_ID']], abide_II.loc[:, vars_to_see + ['ABIDE_ID']]])\n",
    "\n",
    "abide_merged = abide_merged.replace(to_replace=-9999.0, value = np.nan)"
   ]
  },
  {
   "cell_type": "code",
   "execution_count": 6,
   "metadata": {},
   "outputs": [
    {
     "data": {
      "text/plain": [
       "array(['CALTECH', 'CMU', 'KKI', 'LEUVEN_1', 'LEUVEN_2', 'MAX_MUN', 'NYU',\n",
       "       'OHSU', 'OLIN', 'PITT', 'SBL', 'SDSU', 'STANFORD', 'TRINITY',\n",
       "       'UCLA_1', 'UCLA_2', 'UM_1', 'UM_2', 'USM', 'YALE', 'ABIDEII-BNI_1',\n",
       "       'ABIDEII-EMC_1', 'ABIDEII-ETH_1', 'ABIDEII-GU_1', 'ABIDEII-IP_1',\n",
       "       'ABIDEII-IU_1', 'ABIDEII-KKI_1', 'ABIDEII-KUL_3', 'ABIDEII-NYU_1',\n",
       "       'ABIDEII-NYU_2', 'ABIDEII-OHSU_1', 'ABIDEII-ONRC_2',\n",
       "       'ABIDEII-SDSU_1', 'ABIDEII-TCD_1', 'ABIDEII-UCD_1',\n",
       "       'ABIDEII-UCLA_1', 'ABIDEII-USM_1'], dtype=object)"
      ]
     },
     "execution_count": 6,
     "metadata": {},
     "output_type": "execute_result"
    }
   ],
   "source": [
    "abide_merged.SITE_ID.unique()"
   ]
  },
  {
   "cell_type": "code",
   "execution_count": 7,
   "metadata": {},
   "outputs": [],
   "source": [
    "abide_merged.SITE_ID = abide_merged.SITE_ID.replace(to_replace=abide_merged.SITE_ID.unique(), \n",
    "                                                    value=['CALTECH', 'CMU', 'KKI', 'LEUVEN', 'LEUVEN', 'MAX_MUN', \n",
    "                                                           'NYU', 'OHSU', 'OLIN', 'PITT', 'SBL', 'SDSU','STANFORD', \n",
    "                                                           'TCD', 'UCLA',  'UCLA', 'UM', 'UM', 'USM', \n",
    "                                                           'YALE', 'BNI', 'EMC', 'ETH', \n",
    "                                                           'GU', 'IP', 'IU',\n",
    "                                                           'KKI', 'KUL', 'NYU', \n",
    "                                                           'NYU', 'OHSU', 'ONRC', \n",
    "                                                           'SDSU', 'TCD', 'UCD', \n",
    "                                                           'UCLA', 'USM'])"
   ]
  },
  {
   "cell_type": "code",
   "execution_count": 8,
   "metadata": {},
   "outputs": [
    {
     "data": {
      "text/plain": [
       "array(['CALTECH', 'CMU', 'KKI', 'LEUVEN', 'MAX_MUN', 'NYU', 'OHSU',\n",
       "       'OLIN', 'PITT', 'SBL', 'SDSU', 'STANFORD', 'TCD', 'UCLA', 'UM',\n",
       "       'USM', 'YALE', 'BNI', 'EMC', 'ETH', 'GU', 'IP', 'IU', 'KUL',\n",
       "       'ONRC', 'UCD'], dtype=object)"
      ]
     },
     "execution_count": 8,
     "metadata": {},
     "output_type": "execute_result"
    }
   ],
   "source": [
    "abide_merged.SITE_ID.unique()"
   ]
  },
  {
   "cell_type": "code",
   "execution_count": 9,
   "metadata": {},
   "outputs": [],
   "source": [
    "abide_merged.to_csv(\"../data/abide_I_II_demo_clean.csv\")"
   ]
  },
  {
   "cell_type": "code",
   "execution_count": 29,
   "metadata": {},
   "outputs": [],
   "source": [
    "ts_I_path = '/home/javier/Documents/amaia/Time Series'"
   ]
  },
  {
   "cell_type": "code",
   "execution_count": 4,
   "metadata": {},
   "outputs": [],
   "source": [
    "for ts_file in os.listdir(ts_I_path):\n",
    "    name_splitted = ts_file.split(\".txt\")\n",
    "    name_splitted = name_splitted[0].split(\"_\")\n",
    "    \n",
    "    if len(name_splitted) is 2:\n",
    "        sub_id = int(name_splitted[1])\n",
    "        os.rename(opj(ts_I_path, ts_file), opj(ts_I_path, str(sub_id) + \".txt\"))\n",
    "        \n",
    "    elif len(name_splitted) is 3:\n",
    "        sub_id = int(name_splitted[2])\n",
    "        os.rename(opj(ts_I_path, ts_file), opj(ts_I_path, str(sub_id) + \".txt\"))     "
   ]
  },
  {
   "cell_type": "code",
   "execution_count": 60,
   "metadata": {},
   "outputs": [],
   "source": [
    "ts_I_path = '/media/javier/ExtraDrive2/amaia-abide/ts_I/'"
   ]
  },
  {
   "cell_type": "code",
   "execution_count": 61,
   "metadata": {},
   "outputs": [],
   "source": [
    "for ts_file in os.listdir(ts_I_path):\n",
    "    name_splitted = ts_file.split(\".txt\")\n",
    "    name_splitted = name_splitted[0].split(\"_\")\n",
    "    \n",
    "    if len(name_splitted) is 2:\n",
    "        sub_id = int(name_splitted[1])\n",
    "        os.rename(opj(ts_I_path, ts_file), opj(ts_I_path, str(sub_id) + \".txt\"))\n",
    "        \n",
    "    elif len(name_splitted) is 3:\n",
    "        sub_id = int(name_splitted[2])\n",
    "        os.rename(opj(ts_I_path, ts_file), opj(ts_I_path, str(sub_id) + \".txt\"))\n",
    "        \n",
    "    elif len(name_splitted) is 4:\n",
    "        sub_id = int(name_splitted[3])\n",
    "        os.rename(opj(ts_I_path, ts_file), opj(ts_I_path, str(sub_id) + \".txt\"))"
   ]
  },
  {
   "cell_type": "code",
   "execution_count": 63,
   "metadata": {},
   "outputs": [
    {
     "name": "stdout",
     "output_type": "stream",
     "text": [
      "1036\n",
      "1036\n"
     ]
    }
   ],
   "source": [
    "print(len(np.unique([int(ts_file.split(\".txt\")[0]) for ts_file in os.listdir(ts_I_path)])))\n",
    "\n",
    "print(len(os.listdir(ts_I_path)))"
   ]
  },
  {
   "cell_type": "code",
   "execution_count": 23,
   "metadata": {},
   "outputs": [],
   "source": [
    "ts_II_path = \"/media/javier/ExtraDrive2/amaia-abide/ts_II/\" "
   ]
  },
  {
   "cell_type": "markdown",
   "metadata": {},
   "source": [
    "Remove volumes from Longitudinal data and take only ids"
   ]
  },
  {
   "cell_type": "code",
   "execution_count": 21,
   "metadata": {},
   "outputs": [],
   "source": [
    "for ts_file in os.listdir(ts_II_path):\n",
    "    \n",
    "    if  'Long' in ts_file:\n",
    "        os.remove(opj(ts_II_path, ts_file))\n",
    "    else:\n",
    "        name_splitted = ts_file.split(\".txt\")\n",
    "        name_splitted = name_splitted[0].split(\"_\")\n",
    "\n",
    "        if len(name_splitted) is 3:\n",
    "            sub_id = int(name_splitted[2])\n",
    "            os.rename(opj(ts_II_path, ts_file), opj(ts_II_path, str(sub_id) + \".txt\"))\n",
    "            #print(sub_id)\n",
    "\n",
    "        elif len(name_splitted) is 4:\n",
    "            sub_id = int(name_splitted[3])\n",
    "            #print(sub_id)\n",
    "            os.rename(opj(ts_II_path, ts_file), opj(ts_II_path, str(sub_id) + \".txt\"))"
   ]
  },
  {
   "cell_type": "code",
   "execution_count": 22,
   "metadata": {},
   "outputs": [
    {
     "name": "stdout",
     "output_type": "stream",
     "text": [
      "1036\n",
      "968\n",
      "2004\n"
     ]
    }
   ],
   "source": [
    "# check that all IDs are unique\n",
    "print(len(np.unique([int(ts_file.split(\".txt\")[0]) for ts_file in os.listdir(ts_I_path)])))\n",
    "print(len(np.unique([int(ts_file.split(\".txt\")[0]) for ts_file in os.listdir(ts_II_path)])))\n",
    "\n",
    "print(len(np.unique([int(ts_file.split(\".txt\")[0]) for ts_file in os.listdir(ts_I_path)] + \\\n",
    "                    [int(ts_file.split(\".txt\")[0]) for ts_file in os.listdir(ts_II_path)] )))"
   ]
  },
  {
   "cell_type": "code",
   "execution_count": 18,
   "metadata": {},
   "outputs": [],
   "source": [
    "# Do the same with structural info to have only the Subject ID\n",
    "s_data = pd.read_csv(\"/media/javi/ExtraDrive2/amaia-abide/structural.csv\")"
   ]
  },
  {
   "cell_type": "code",
   "execution_count": 22,
   "metadata": {},
   "outputs": [],
   "source": [
    "s_data.sub_id.to_csv(\"../data/subjects_used.txt\", index=False, header=None)"
   ]
  },
  {
   "cell_type": "code",
   "execution_count": 27,
   "metadata": {},
   "outputs": [
    {
     "ename": "AttributeError",
     "evalue": "'int' object has no attribute 'split'",
     "output_type": "error",
     "traceback": [
      "\u001b[0;31m---------------------------------------------------------------------------\u001b[0m",
      "\u001b[0;31mAttributeError\u001b[0m                            Traceback (most recent call last)",
      "\u001b[0;32m<ipython-input-27-014579ea63c7>\u001b[0m in \u001b[0;36m<module>\u001b[0;34m\u001b[0m\n\u001b[1;32m      1\u001b[0m \u001b[0msub_id\u001b[0m \u001b[0;34m=\u001b[0m \u001b[0;34m[\u001b[0m\u001b[0;34m]\u001b[0m\u001b[0;34m\u001b[0m\u001b[0;34m\u001b[0m\u001b[0m\n\u001b[1;32m      2\u001b[0m \u001b[0;32mfor\u001b[0m \u001b[0mname\u001b[0m \u001b[0;32min\u001b[0m \u001b[0ms_data\u001b[0m\u001b[0;34m.\u001b[0m\u001b[0miloc\u001b[0m\u001b[0;34m[\u001b[0m\u001b[0;34m:\u001b[0m\u001b[0;34m,\u001b[0m\u001b[0;36m1\u001b[0m\u001b[0;34m]\u001b[0m\u001b[0;34m:\u001b[0m\u001b[0;34m\u001b[0m\u001b[0;34m\u001b[0m\u001b[0m\n\u001b[0;32m----> 3\u001b[0;31m     \u001b[0mname_splitted\u001b[0m \u001b[0;34m=\u001b[0m \u001b[0mname\u001b[0m\u001b[0;34m.\u001b[0m\u001b[0msplit\u001b[0m\u001b[0;34m(\u001b[0m\u001b[0;34m\"_\"\u001b[0m\u001b[0;34m)\u001b[0m\u001b[0;34m\u001b[0m\u001b[0;34m\u001b[0m\u001b[0m\n\u001b[0m\u001b[1;32m      4\u001b[0m     \u001b[0;32mif\u001b[0m \u001b[0mlen\u001b[0m\u001b[0;34m(\u001b[0m\u001b[0mname_splitted\u001b[0m\u001b[0;34m)\u001b[0m \u001b[0;32mis\u001b[0m \u001b[0;36m2\u001b[0m\u001b[0;34m:\u001b[0m\u001b[0;34m\u001b[0m\u001b[0;34m\u001b[0m\u001b[0m\n\u001b[1;32m      5\u001b[0m         \u001b[0msub_id\u001b[0m\u001b[0;34m.\u001b[0m\u001b[0mappend\u001b[0m\u001b[0;34m(\u001b[0m\u001b[0mint\u001b[0m\u001b[0;34m(\u001b[0m\u001b[0mname_splitted\u001b[0m\u001b[0;34m[\u001b[0m\u001b[0;36m1\u001b[0m\u001b[0;34m]\u001b[0m\u001b[0;34m)\u001b[0m\u001b[0;34m)\u001b[0m\u001b[0;34m\u001b[0m\u001b[0;34m\u001b[0m\u001b[0m\n",
      "\u001b[0;31mAttributeError\u001b[0m: 'int' object has no attribute 'split'"
     ]
    }
   ],
   "source": [
    "sub_id = []\n",
    "for name in s_data.iloc[:,1]:\n",
    "    name_splitted = name.split(\"_\")\n",
    "    if len(name_splitted) is 2:\n",
    "        sub_id.append(int(name_splitted[1]))\n",
    "    elif len(name_splitted) is 3:\n",
    "        sub_id.append(int(name_splitted[2]))\n",
    "    elif len(name_splitted) is 4:\n",
    "        sub_id.append(int(name_splitted[3]))"
   ]
  },
  {
   "cell_type": "code",
   "execution_count": 18,
   "metadata": {},
   "outputs": [
    {
     "name": "stdout",
     "output_type": "stream",
     "text": [
      "1917\n",
      "1917\n"
     ]
    }
   ],
   "source": [
    "print(len(sub_id))\n",
    "print(len(np.unique(sub_id)))"
   ]
  },
  {
   "cell_type": "code",
   "execution_count": 19,
   "metadata": {},
   "outputs": [],
   "source": [
    "s_data.iloc[:, 0] = sub_id"
   ]
  },
  {
   "cell_type": "code",
   "execution_count": 14,
   "metadata": {},
   "outputs": [],
   "source": [
    "s_data= s_data.rename(columns = {s_data.columns[0]: 'sub_id'})"
   ]
  },
  {
   "cell_type": "code",
   "execution_count": null,
   "metadata": {},
   "outputs": [],
   "source": []
  },
  {
   "cell_type": "code",
   "execution_count": 30,
   "metadata": {},
   "outputs": [],
   "source": [
    "s_data.to_csv(\"/home/javier/Documents/amaia/data/structural.csv\")"
   ]
  },
  {
   "cell_type": "code",
   "execution_count": 47,
   "metadata": {},
   "outputs": [
    {
     "data": {
      "text/plain": [
       "(1053, 36)"
      ]
     },
     "execution_count": 47,
     "metadata": {},
     "output_type": "execute_result"
    }
   ],
   "source": [
    "pd.read_csv(\"/home/javier/Documents/amaia/data/structural/abide_1/aparc_thickness_lh.txt\", sep=\"\\t\", skiprows=1,\n",
    "            header=None).shape"
   ]
  },
  {
   "cell_type": "code",
   "execution_count": 48,
   "metadata": {},
   "outputs": [
    {
     "data": {
      "text/plain": [
       "36"
      ]
     },
     "execution_count": 48,
     "metadata": {},
     "output_type": "execute_result"
    }
   ],
   "source": [
    "len(pd.read_csv(\"/home/javier/Documents/amaia/data/structural/abide_1/aparc_thickness_lh.txt\", sep=\"\\t\").columns)\n"
   ]
  },
  {
   "cell_type": "code",
   "execution_count": 46,
   "metadata": {},
   "outputs": [
    {
     "data": {
      "text/plain": [
       "Index(['lh.aparc.thickness', 'lh_bankssts_thickness',\n",
       "       'lh_caudalanteriorcingulate_thickness',\n",
       "       'lh_caudalmiddlefrontal_thickness', 'lh_cuneus_thickness',\n",
       "       'lh_entorhinal_thickness', 'lh_fusiform_thickness',\n",
       "       'lh_inferiorparietal_thickness', 'lh_inferiortemporal_thickness',\n",
       "       'lh_isthmuscingulate_thickness', 'lh_lateraloccipital_thickness',\n",
       "       'lh_lateralorbitofrontal_thickness', 'lh_lingual_thickness',\n",
       "       'lh_medialorbitofrontal_thickness', 'lh_middletemporal_thickness',\n",
       "       'lh_parahippocampal_thickness', 'lh_paracentral_thickness',\n",
       "       'lh_parsopercularis_thickness', 'lh_parsorbitalis_thickness',\n",
       "       'lh_parstriangularis_thickness', 'lh_pericalcarine_thickness',\n",
       "       'lh_postcentral_thickness', 'lh_posteriorcingulate_thickness',\n",
       "       'lh_precentral_thickness', 'lh_precuneus_thickness',\n",
       "       'lh_rostralanteriorcingulate_thickness',\n",
       "       'lh_rostralmiddlefrontal_thickness', 'lh_superiorfrontal_thickness',\n",
       "       'lh_superiorparietal_thickness', 'lh_superiortemporal_thickness',\n",
       "       'lh_supramarginal_thickness', 'lh_frontalpole_thickness',\n",
       "       'lh_temporalpole_thickness', 'lh_transversetemporal_thickness',\n",
       "       'lh_insula_thickness', 'lh_MeanThickness_thickness'],\n",
       "      dtype='object')"
      ]
     },
     "execution_count": 46,
     "metadata": {},
     "output_type": "execute_result"
    }
   ],
   "source": [
    "pd.read_csv(\"/home/javier/Documents/amaia/data/structural/abide_1/aparc_thickness_lh.txt\", sep=\"\\t\", skiprows=1,\n",
    "            header=None)\n",
    "pd.read_csv(\"/home/javier/Documents/amaia/data/structural/abide_1/aparc_thickness_lh.txt\", sep=\"\\t\").columns\n"
   ]
  },
  {
   "cell_type": "markdown",
   "metadata": {},
   "source": [
    "Here for our convenience, we transform the Freesurfer parcellation to have identified what is called \"social network\" regions."
   ]
  },
  {
   "cell_type": "code",
   "execution_count": 20,
   "metadata": {},
   "outputs": [],
   "source": [
    "import json\n",
    "\n",
    "with open(opj(data_dir, \"sn_map_fs.json\")) as json_file:\n",
    "    sn_fs = json.load(json_file)\n",
    "    \n",
    "with open(opj(data_dir, \"sn_out_fs.json\")) as json_file:\n",
    "    sn_out_fs = json.load(json_file)"
   ]
  },
  {
   "cell_type": "code",
   "execution_count": 37,
   "metadata": {},
   "outputs": [],
   "source": [
    "if os.path.exists(opj(data_dir, \"times_series_SN\")) is False:\n",
    "    os.mkdir(opj(data_dir, \"times_series_SN\"))"
   ]
  },
  {
   "cell_type": "code",
   "execution_count": 49,
   "metadata": {},
   "outputs": [
    {
     "data": {
      "text/plain": [
       "(120,)"
      ]
     },
     "execution_count": 49,
     "metadata": {},
     "output_type": "execute_result"
    }
   ],
   "source": [
    "np.loadtxt(opj(ts_I_path, os.listdir(ts_I_path)[0]))[ [1,2], :].mean(axis=0).shape"
   ]
  },
  {
   "cell_type": "code",
   "execution_count": 65,
   "metadata": {},
   "outputs": [
    {
     "name": "stdout",
     "output_type": "stream",
     "text": [
      "cerebellum_lh = ['Left-Cerebellum-Cortex']\n",
      "anteriorcingulate_lh = ['ctx-lh-rostralanteriorcingulate']\n",
      "temporoparietal_lh = ['ctx-lh-inferiorparietal' 'ctx-lh-superiortemporal']\n",
      "amygdala_lh = ['Left-Amygdala']\n",
      "superiortemporal_rh = ['ctx-rh-superiortemporal']\n",
      "cerebellum_rh = ['Right-Cerebellum-Cortex']\n",
      "extrastriate_rh = ['ctx-rh-lateraloccipital']\n",
      "fusiform_lh = ['ctx-lh-fusiform']\n",
      "temporalpole_rh = ['ctx-rh-temporalpole']\n",
      "posterirocingulate_lh = ['ctx-lh-posteriorcingulate']\n",
      "retrosperial_lh = ['ctx-lh-isthmuscingulate']\n",
      "dorsomedial_lh = ['ctx-lh-superiorfrontal']\n",
      "retrosperial_rh = ['ctx-rh-isthmuscingulate']\n",
      "temporalpole_lh = ['ctx-lh-temporalpole']\n",
      "ventromedial_rh = ['ctx-rh-superiorfrontal' 'ctx-rh-medialorbitofrontal']\n",
      "extrastriate_lh = ['ctx-lh-lateraloccipital']\n",
      "superiortemporal_lh = ['ctx-lh-superiortemporal']\n",
      "amygdala_rh = ['Right-Amygdala']\n",
      "temporoparietal_rh = ['ctx-rh-inferiorparietal' 'ctx-rh-superiortemporal']\n",
      "anteriorcingulate_rh = ['ctx-rh-rostralanteriorcingulate']\n",
      "ventromedial_lh = ['ctx-lh-superiorfrontal' 'ctx-lh-medialorbitofrontal']\n",
      "insula_lh = ['ctx-lh-insula']\n",
      "dorsomedial_rh = ['ctx-rh-superiorfrontal']\n",
      "insula_rh = ['ctx-rh-insula']\n",
      "fusiform_rh = ['ctx-rh-fusiform']\n",
      "posterirocingulate_rh = ['ctx-rh-posteriorcingulate']\n",
      " \n",
      "middletemporal_rh = ctx-rh-middletemporal\n",
      "caudalmiddlefrontal_lh = ctx-lh-caudalmiddlefrontal\n",
      "inferiortemporal_rh = ctx-rh-inferiortemporal\n",
      "Pallidum_rh = Right-Pallidum\n",
      "rostralmiddlefrontal_lh = ctx-lh-rostralmiddlefrontal\n",
      "frontalpole_lh = ctx-lh-frontalpole\n",
      "cuneus_lh = ctx-lh-cuneus\n",
      "Caudate_rh = Right-Caudate\n",
      "lingual_rh = ctx-rh-lingual\n",
      "rostralmiddlefrontal_rh = ctx-rh-rostralmiddlefrontal\n",
      "transversetemporal_lh = ctx-lh-transversetemporal\n",
      "precentral_rh = ctx-rh-precentral\n",
      "parstriangularis_rh = ctx-rh-parstriangularis\n",
      "VentralDC_rh = Right-VentralDC\n",
      "entorhinal_lh = ctx-lh-entorhinal\n",
      "Thalamus-Proper_rh = Right-Thalamus-Proper\n",
      "bankssts_lh = ctx-lh-bankssts\n",
      "parsopercularis_rh = ctx-rh-parsopercularis\n",
      "caudalanteriorcingulate_rh = ctx-rh-caudalanteriorcingulate\n",
      "Accumbens_lh = Left-Accumbens-area\n",
      "pericalcarine_lh = ctx-lh-pericalcarine\n",
      "postcentral_lh = ctx-lh-postcentral\n",
      "precentral_lh = ctx-lh-precentral\n",
      "middletemporal_lh = ctx-lh-middletemporal\n",
      "Putamen_rh = Right-Putamen\n",
      "Putamen_lh = Left-Putamen\n",
      "paracentral_lh = ctx-lh-paracentral\n",
      "parstriangularis_lh = ctx-lh-parstriangularis\n",
      "parsorbitalis_lh = ctx-lh-parsorbitalis\n",
      "VentralDC_lh = Left-VentralDC\n",
      "Thalamus-Proper_lh = Left-Thalamus-Proper\n",
      "superiorparietal_lh = ctx-lh-superiorparietal\n",
      "Caudate_lh = Left-Caudate\n",
      "precuneus_lh = ctx-lh-precuneus\n",
      "lateralorbitofrontal_lh = ctx-lh-lateralorbitofrontal\n",
      "cuneus_rh = ctx-rh-cuneus\n",
      "paracentral_rh = ctx-rh-paracentral\n",
      "transversetemporal_rh = ctx-rh-transversetemporal\n",
      "lateralorbitofrontal_rh = ctx-rh-lateralorbitofrontal\n",
      "frontalpole_rh = ctx-rh-frontalpole\n",
      "Pallidum_lh = Left-Pallidum\n",
      "parahippocampal_rh = ctx-rh-parahippocampal\n",
      "inferiortemporal_lh = ctx-lh-inferiortemporal\n",
      "lingual_lh = ctx-lh-lingual\n",
      "caudalmiddlefrontal_rh = ctx-rh-caudalmiddlefrontal\n",
      "supramarginal_rh = ctx-rh-supramarginal\n",
      "Hippocampus_lh = Left-Hippocampus\n",
      "bankssts_rh = ctx-rh-bankssts\n",
      "parsorbitalis_rh = ctx-rh-parsorbitalis\n",
      "entorhinal_rh = ctx-rh-entorhinal\n",
      "parahippocampal_lh = ctx-lh-parahippocampal\n",
      "Accumbens_rh = Right-Accumbens-area\n",
      "parsopercularis_lh = ctx-lh-parsopercularis\n",
      "pericalcarine_rh = ctx-rh-pericalcarine\n",
      "postcentral_rh = ctx-rh-postcentral\n",
      "caudalanteriorcingulate_lh = ctx-lh-caudalanteriorcingulate\n",
      "supramarginal_lh = ctx-lh-supramarginal\n",
      "superiorparietal_rh = ctx-rh-superiorparietal\n",
      "Hippocampus_rh = Right-Hippocampus\n",
      "precuneus_rh = ctx-rh-precuneus\n"
     ]
    }
   ],
   "source": [
    "rois = pd.read_csv('/media/javier/data/amaia-abide/rois.txt', header=None).iloc[:,0].values\n",
    "for key, value in sn_fs.items():\n",
    "    print(key,\"=\", rois[value])\n",
    "print(\" \")    \n",
    "for key, value in sn_out_fs.items():\n",
    "    print(key,\"=\", rois[value])"
   ]
  },
  {
   "cell_type": "code",
   "execution_count": 50,
   "metadata": {},
   "outputs": [],
   "source": [
    "ts_SN_dir = opj(data_dir, \"times_series_SN\")"
   ]
  },
  {
   "cell_type": "code",
   "execution_count": 26,
   "metadata": {},
   "outputs": [],
   "source": [
    "ts_I_path = '/media/javier/data/amaia-abide/ts_I/'\n",
    "ts_II_path = '/media/javier/data/amaia-abide/ts_II/'"
   ]
  },
  {
   "cell_type": "code",
   "execution_count": 52,
   "metadata": {},
   "outputs": [
    {
     "data": {
      "text/plain": [
       "[<matplotlib.lines.Line2D at 0x7fd5219b0e90>]"
      ]
     },
     "execution_count": 52,
     "metadata": {},
     "output_type": "execute_result"
    },
    {
     "data": {
      "image/png": "[encoded data removed]",
      "text/plain": [
       "<Figure size 432x288 with 1 Axes>"
      ]
     },
     "metadata": {
      "needs_background": "light"
     },
     "output_type": "display_data"
    }
   ],
   "source": [
    "from matplotlib.pylab import plt\n",
    "plt.plot(ts[sn_fs['temporoparietal_lh'],:][0,:])\n",
    "plt.plot(ts[sn_fs['temporoparietal_lh'],:][1,:])\n",
    "plt.plot(ts[sn_fs['temporoparietal_lh'],:].mean(axis=0))"
   ]
  },
  {
   "cell_type": "code",
   "execution_count": 76,
   "metadata": {},
   "outputs": [
    {
     "data": {
      "text/plain": [
       "-0.3591929141310654"
      ]
     },
     "execution_count": 76,
     "metadata": {},
     "output_type": "execute_result"
    }
   ],
   "source": [
    "ts.mean()"
   ]
  },
  {
   "cell_type": "code",
   "execution_count": 79,
   "metadata": {},
   "outputs": [
    {
     "name": "stdout",
     "output_type": "stream",
     "text": [
      "1.5095779549249724e-07   1.6387014049106545e-07\n",
      "-3.991350486331088e-08   -3.8401083342988976e-08\n",
      "-0.05583161306704583   -0.05604941658499313\n",
      "0.0011737005369820076   0.0013860773322650589\n",
      "1.549268696911749e-07   1.4472461434813787e-07\n",
      "-0.9055152104554206   -0.9056774116361931\n",
      "-5.073878368907466e-08   -4.694465932844164e-08\n",
      "-1.2462025735910295e-07   -1.2056720306808768e-07\n",
      "-0.0022231326976061   -0.002119673477937481\n",
      "-0.3591929141310654   -0.3562186725071393\n"
     ]
    }
   ],
   "source": [
    "for ts_file in os.listdir(ts_I_path)[:10]:\n",
    "    ts = np.loadtxt(opj(ts_I_path, ts_file))\n",
    "    ts_df = pd.DataFrame({})\n",
    "    for key in sn_fs.keys():\n",
    "        ts_df[key] = ts[sn_fs[key],:].mean(axis=0)\n",
    "        \n",
    "    for key in sn_out_fs.keys():\n",
    "        ts_df[key] = ts[sn_out_fs[key],:]\n",
    "    print(ts.mean(), \" \", ts_df.values.mean())\n",
    "    #ts_df = ts_df.T\n",
    "        \n",
    "    #ts_df.to_csv(opj(ts_SN_dir, ts_file), index=False, header=False)"
   ]
  },
  {
   "cell_type": "code",
   "execution_count": 71,
   "metadata": {},
   "outputs": [],
   "source": [
    "for ts_file in os.listdir(ts_II_path):\n",
    "    ts = np.loadtxt(opj(ts_II_path, ts_file))\n",
    "    ts_df = pd.DataFrame({})\n",
    "    for key in sn_fs.keys():\n",
    "        ts_df[key] = ts[sn_fs[key],:].mean(axis=0)\n",
    "        \n",
    "    for key in sn_out_fs.keys():\n",
    "        ts_df[key] = ts[sn_out_fs[key],:]\n",
    "        \n",
    "    #ts_df = ts_df.T\n",
    "        \n",
    "    #ts_df.to_csv(opj(ts_SN_dir, ts_file), index=False, header=False)"
   ]
  },
  {
   "cell_type": "code",
   "execution_count": 19,
   "metadata": {},
   "outputs": [],
   "source": [
    "import json\n",
    "\n",
    "with open(opj(\"sn_map_fs.json\") as json_file:\n",
    "    sn_fs = json.load(json_file)\n",
    "    \n",
    "with open(\"../sn_out_fs.json\") as json_file:\n",
    "    sn_out_fs = json.load(json_file)\n",
    "    \n",
    "# Time series for the social network regions\n",
    "TS_asd_sn_df = []\n",
    "for ts in TS_asd:\n",
    "    ts_df = pd.DataFrame({})\n",
    "    for key in sn_fs.keys():\n",
    "        ts_df[key] = ts[sn_fs[key],:].mean(axis=0)\n",
    "        \n",
    "    for key in sn_out_fs.keys():\n",
    "        ts_df[key] = ts[sn_out_fs[key],:]\n",
    "    TS_asd_sn_df.append(ts_df)\n",
    "\n",
    "# Time series for the regions outside the social network\n",
    "TS_tc_sn_df = []\n",
    "for ts in TS_tc:\n",
    "    ts_df = pd.DataFrame({})\n",
    "    for key in sn_fs.keys():\n",
    "        ts_df[key] = ts[sn_fs[key],:].mean(axis=0)\n",
    "        \n",
    "    for key in sn_out_fs.keys():\n",
    "        ts_df[key] = ts[sn_out_fs[key],:]\n",
    "    TS_tc_sn_df.append(ts_df)"
   ]
  }
 ],
 "metadata": {
  "kernelspec": {
   "display_name": "Python 3",
   "language": "python",
   "name": "python3"
  },
  "language_info": {
   "codemirror_mode": {
    "name": "ipython",
    "version": 3
   },
   "file_extension": ".py",
   "mimetype": "text/x-python",
   "name": "python",
   "nbconvert_exporter": "python",
   "pygments_lexer": "ipython3",
   "version": "3.8.5"
  }
 },
 "nbformat": 4,
 "nbformat_minor": 4
}
