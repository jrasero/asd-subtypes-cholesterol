{
 "cells": [
  {
   "cell_type": "code",
   "execution_count": 1,
   "metadata": {},
   "outputs": [],
   "source": [
    "import numpy as np\n",
    "import pandas as pd\n",
    "from nilearn import image, plotting\n",
    "import matplotlib.pylab as plt"
   ]
  },
  {
   "cell_type": "code",
   "execution_count": 2,
   "metadata": {},
   "outputs": [],
   "source": [
    "from scipy.io import loadmat\n",
    "import h5py"
   ]
  },
  {
   "cell_type": "code",
   "execution_count": 87,
   "metadata": {},
   "outputs": [],
   "source": [
    "%matplotlib inline"
   ]
  },
  {
   "cell_type": "code",
   "execution_count": 95,
   "metadata": {},
   "outputs": [],
   "source": [
    "# Expression data\n",
    "f_exp = h5py.File('AllenGen_javi/Exp_by_gene_oneprobe_noNaNs.mat', 'r')\n",
    "exp_mat = f_exp['Exp_by_gene_oneprobe_noNaNs'][:]\n",
    "f_exp.close()"
   ]
  },
  {
   "cell_type": "code",
   "execution_count": 113,
   "metadata": {},
   "outputs": [
    {
     "data": {
      "text/plain": [
       "13788"
      ]
     },
     "execution_count": 113,
     "metadata": {},
     "output_type": "execute_result"
    }
   ],
   "source": [
    "n_genes = exp_mat.shape[1]\n",
    "n_genes"
   ]
  },
  {
   "cell_type": "code",
   "execution_count": 90,
   "metadata": {},
   "outputs": [],
   "source": [
    "f_coords = h5py.File('AllenGen_javi/coord_gene_1mm.mat', 'r')\n",
    "coord_gene = f_coords['coord_gene'][:].astype(int).T\n",
    "f_coords.close()"
   ]
  },
  {
   "cell_type": "code",
   "execution_count": 281,
   "metadata": {},
   "outputs": [],
   "source": [
    "f_gene_list = h5py.File('AllenGen_javi/GenList_noNaNs.mat', 'r')"
   ]
  },
  {
   "cell_type": "code",
   "execution_count": 283,
   "metadata": {},
   "outputs": [],
   "source": [
    "gen_list = []\n",
    "for ii in range(n_genes):\n",
    "    st = f_gene_list['GenList_noNaNs'][0][ii]\n",
    "    obj = f_gene_list[st]\n",
    "    str1 = ''.join(chr(i) for i in obj[:])\n",
    "    gen_list.append(str1)"
   ]
  },
  {
   "cell_type": "code",
   "execution_count": 285,
   "metadata": {},
   "outputs": [
    {
     "data": {
      "text/plain": [
       "13788"
      ]
     },
     "execution_count": 285,
     "metadata": {},
     "output_type": "execute_result"
    }
   ],
   "source": [
    "len(gen_list)"
   ]
  },
  {
   "cell_type": "code",
   "execution_count": 89,
   "metadata": {},
   "outputs": [],
   "source": [
    "# Atlas\n",
    "atlas = image.load_img(\"../Desikan_ASD_cluster.nii.gz\") #image.load_img(\"../Desikan_ASD_javi.nii.gz\")"
   ]
  },
  {
   "cell_type": "code",
   "execution_count": 98,
   "metadata": {},
   "outputs": [],
   "source": [
    "# map samples to ROIs in atlas\n",
    "samples_in_atlas = []\n",
    "for ii in range(86):\n",
    "    roi_mask = image.index_img(atlas, ii)\n",
    "    \n",
    "    sample_in_roi = np.array([roi_mask.get_fdata()[x,y,z] for (x,y,z) in coord_gene])\n",
    "    \n",
    "    samples_in_atlas.append(np.where(sample_in_roi==1)[0])\n",
    "    #print(\"done ROI %i\" % (ii + 1) )"
   ]
  },
  {
   "cell_type": "code",
   "execution_count": 102,
   "metadata": {},
   "outputs": [
    {
     "name": "stderr",
     "output_type": "stream",
     "text": [
      "/home/javier/anaconda3/lib/python3.7/site-packages/numpy/lib/nanfunctions.py:1115: RuntimeWarning: All-NaN slice encountered\n",
      "  overwrite_input=overwrite_input)\n",
      "/home/javier/anaconda3/lib/python3.7/site-packages/numpy/lib/nanfunctions.py:1112: RuntimeWarning: Mean of empty slice\n",
      "  return np.nanmean(a, axis, out=out, keepdims=keepdims)\n"
     ]
    }
   ],
   "source": [
    "# Expression matrix in the atlas\n",
    "exp_mat_atlas = np.array([np.nanmedian(exp_mat[samples_in_atlas[ii],:], 0) for ii in range(86)])"
   ]
  },
  {
   "cell_type": "code",
   "execution_count": 104,
   "metadata": {},
   "outputs": [
    {
     "data": {
      "text/plain": [
       "(86, 13788)"
      ]
     },
     "execution_count": 104,
     "metadata": {},
     "output_type": "execute_result"
    }
   ],
   "source": [
    "exp_mat_atlas.shape"
   ]
  },
  {
   "cell_type": "code",
   "execution_count": 105,
   "metadata": {},
   "outputs": [],
   "source": [
    "Fs_df = pd.read_csv(\"../mdmr_clusters_healthy_stats.csv\")"
   ]
  },
  {
   "cell_type": "code",
   "execution_count": 115,
   "metadata": {},
   "outputs": [],
   "source": [
    "f = Fs_df.iloc[:,2].values\n",
    "r_obs_2 = []\n",
    "for ii in range(n_genes):\n",
    "    gen_value = exp_mat_atlas[:,ii]\n",
    "    mask = ~np.isnan(gen_value)\n",
    "    r_obs_2.append(np.corrcoef(f[mask], gen_value[mask])[0,1])"
   ]
  },
  {
   "cell_type": "code",
   "execution_count": 122,
   "metadata": {},
   "outputs": [],
   "source": [
    "foo = exp_mat_atlas[:,np.argmax(r_obs_2)]"
   ]
  },
  {
   "cell_type": "code",
   "execution_count": 259,
   "metadata": {},
   "outputs": [],
   "source": [
    "r_obs = np.zeros((exp_mat_desikan.shape[1], 3))\n",
    "for ii in range(exp_mat_desikan.shape[1]):\n",
    "        gen_value = exp_mat_desikan[:,ii]\n",
    "        mask = ~np.isnan(gen_value)\n",
    "        for jj in range(3):\n",
    "            f = Fs_df.iloc[:, jj+1].values\n",
    "            r_obs[ii, jj] = np.corrcoef(f[mask], gen_value[mask])[0,1]"
   ]
  },
  {
   "cell_type": "code",
   "execution_count": 264,
   "metadata": {},
   "outputs": [
    {
     "data": {
      "image/png": "[encoded data removed]",
      "text/plain": [
       "<Figure size 1440x720 with 3 Axes>"
      ]
     },
     "metadata": {
      "needs_background": "light"
     },
     "output_type": "display_data"
    }
   ],
   "source": [
    "fig, axs = plt.subplots(ncols=3, figsize=(20, 10))\n",
    "axs = axs.flatten()\n",
    "axs[0].hist(r_obs[:,0], bins=20)\n",
    "axs[1].hist(r_obs[:,1], bins=20)\n",
    "axs[2].hist(r_obs[:,2], bins=20)\n",
    "pass"
   ]
  },
  {
   "cell_type": "code",
   "execution_count": 265,
   "metadata": {},
   "outputs": [],
   "source": [
    "from scipy.stats import zscore"
   ]
  },
  {
   "cell_type": "code",
   "execution_count": 279,
   "metadata": {},
   "outputs": [
    {
     "name": "stdout",
     "output_type": "stream",
     "text": [
      "cluster 1 pos-corr = 384, neg-corr = 265\n",
      "cluster 2 pos-corr = 468, neg-corr = 47\n",
      "cluster 3 pos-corr = 494, neg-corr = 28\n"
     ]
    }
   ],
   "source": [
    "print(\"cluster 1 pos-corr = %i, neg-corr = %i\" % (sum(zscore(r_obs)[:,0]>2), \n",
    "                                                  sum(zscore(r_obs)[:,0]<-2)))\n",
    "print(\"cluster 2 pos-corr = %i, neg-corr = %i\" % (sum(zscore(r_obs)[:,1]>2), \n",
    "                                                  sum(zscore(r_obs)[:,1]<-2)))\n",
    "print(\"cluster 3 pos-corr = %i, neg-corr = %i\" % (sum(zscore(r_obs)[:,2]>2), \n",
    "                                                  sum(zscore(r_obs)[:,2]<-2)))"
   ]
  },
  {
   "cell_type": "code",
   "execution_count": 294,
   "metadata": {},
   "outputs": [
    {
     "name": "stdout",
     "output_type": "stream",
     "text": [
      "right = 0.1844771261610107\n",
      "left =  -0.22442532360478154\n",
      " \n",
      "right = 0.3199103200109247\n",
      "left =  -0.4113252421786268\n",
      " \n",
      "right = 0.3979056912935274\n",
      "left =  -0.5558240644772785\n",
      " \n"
     ]
    }
   ],
   "source": [
    "#print thresholds\n",
    "for ii in range(3):\n",
    "    print(\"right =\", np.min(r_obs[np.where(zscore(r_obs)[:,ii]>2)[0], ii]))\n",
    "    print(\"left = \", np.max(r_obs[np.where(zscore(r_obs)[:,ii]<-2)[0], ii]))\n",
    "    print(\" \")"
   ]
  },
  {
   "cell_type": "code",
   "execution_count": 123,
   "metadata": {},
   "outputs": [],
   "source": [
    "ROI_coords = []\n",
    "for ii in range(86):\n",
    "    ROI_coords.append(plotting.find_parcellation_cut_coords(image.index_img(atlas, ii))[0])\n",
    "ROI_coords=np.array(ROI_coords)"
   ]
  },
  {
   "cell_type": "code",
   "execution_count": 136,
   "metadata": {},
   "outputs": [],
   "source": [
    "from scipy.spatial import distance\n",
    "D_atlas =distance.squareform(distance.pdist(ROI_coords))"
   ]
  },
  {
   "cell_type": "code",
   "execution_count": 132,
   "metadata": {},
   "outputs": [],
   "source": [
    "# Fill diagonal with nans\n",
    "np.fill_diagonal(D_atlas, np.nan)"
   ]
  },
  {
   "cell_type": "code",
   "execution_count": 140,
   "metadata": {},
   "outputs": [],
   "source": [
    "# Matrix of neighbours\n",
    "neigh_mat = np.argsort(D_atlas, axis=1)[:,1:]"
   ]
  },
  {
   "cell_type": "code",
   "execution_count": 151,
   "metadata": {},
   "outputs": [],
   "source": [
    "n_rois = 86"
   ]
  },
  {
   "cell_type": "code",
   "execution_count": 159,
   "metadata": {},
   "outputs": [
    {
     "data": {
      "text/plain": [
       "(86, 85)"
      ]
     },
     "execution_count": 159,
     "metadata": {},
     "output_type": "execute_result"
    }
   ],
   "source": [
    "neigh_mat.shape"
   ]
  },
  {
   "cell_type": "code",
   "execution_count": 136,
   "metadata": {},
   "outputs": [],
   "source": [
    "from scipy.spatial import distance\n",
    "D_atlas =distance.squareform(distance.pdist(ROI_coords))"
   ]
  },
  {
   "cell_type": "code",
   "execution_count": 132,
   "metadata": {},
   "outputs": [],
   "source": [
    "# Fill diagonal with nans\n",
    "np.fill_diagonal(D_atlas, np.nan)"
   ]
  },
  {
   "cell_type": "code",
   "execution_count": 140,
   "metadata": {},
   "outputs": [],
   "source": [
    "# Matrix of neighbours\n",
    "neigh_mat = np.argsort(D_atlas, axis=1)[:,1:]"
   ]
  },
  {
   "cell_type": "code",
   "execution_count": 192,
   "metadata": {},
   "outputs": [
    {
     "data": {
      "text/plain": [
       "array([False, False, False, False, False, False, False, False,  True,\n",
       "       False, False, False, False, False, False, False, False,  True,\n",
       "       False, False, False, False, False, False, False, False, False,\n",
       "       False, False, False, False, False, False, False, False, False,\n",
       "       False, False, False, False, False, False, False, False, False,\n",
       "       False, False, False, False, False, False, False, False, False,\n",
       "       False, False, False, False, False, False, False, False, False,\n",
       "       False, False, False, False, False, False, False, False, False,\n",
       "       False, False, False, False, False, False, False, False, False,\n",
       "       False, False, False, False, False])"
      ]
     },
     "execution_count": 192,
     "metadata": {},
     "output_type": "execute_result"
    }
   ],
   "source": [
    "(np.isnan(foo))*(~np.isnan(f))"
   ]
  },
  {
   "cell_type": "code",
   "execution_count": 328,
   "metadata": {},
   "outputs": [],
   "source": [
    "def rpearson_nan(x, y):\n",
    "    \n",
    "    \"\"\" Function to compute pearson correlation between x and y with nans\"\"\"\n",
    "    \n",
    "    mask_x = ~np.isnan(x)\n",
    "    mask_y = ~np.isnan(y)\n",
    "    mask = mask_x*mask_y\n",
    "    \n",
    "    n_comp = sum(mask)\n",
    "    \n",
    "    # Mask both vectors and the distance matrix\n",
    "    x = x[mask]\n",
    "    y = y[mask]\n",
    "    return np.corrcoef(x,y)[0,1]"
   ]
  },
  {
   "cell_type": "code",
   "execution_count": 317,
   "metadata": {},
   "outputs": [],
   "source": [
    "def spatial_ar(x, y, D, n_neighs):\n",
    "    \n",
    "    \"\"\" Function to compute residuals of the n nearest neighbours \"\"\"\n",
    "    \n",
    "    mask_x = ~np.isnan(x)\n",
    "    mask_y = ~np.isnan(y)\n",
    "    mask = mask_x*mask_y\n",
    "    \n",
    "    n_comp = sum(mask)\n",
    "    \n",
    "    # Mask both vectors and the distance matrix\n",
    "    x = x[mask]\n",
    "    y = y[mask]\n",
    "    D = D[mask,:][:, mask]\n",
    "    \n",
    "    # First compute the unajusted pearson correlation\n",
    "    \n",
    "    r_und = np.corrcoef(x,y)[0,1]\n",
    "    \n",
    "    # Compute neighbours matrix\n",
    "    neigh_mat = np.argsort(D, axis=1)[:,1:] # This 1 is to not take itself\n",
    "    \n",
    "    x_ar = []\n",
    "    y_ar = []\n",
    "    for kk in range(n_neighs):\n",
    "        neighs = neigh_mat[:,kk]\n",
    "        x_ar.append([x[neighs[ii]] for ii in range(n_comp)])\n",
    "        y_ar.append([y[neighs[ii]] for ii in range(n_comp)])\n",
    "\n",
    "    x_ar = np.column_stack(x_ar)\n",
    "    y_ar = np.column_stack(y_ar)\n",
    "    \n",
    "    # Fit these to a linear regression and compute the residuals\n",
    "    from sklearn.linear_model import LinearRegression\n",
    "    \n",
    "    linReg = LinearRegression()\n",
    "    \n",
    "    linReg.fit(x_ar, x)\n",
    "    eps_x = x - linReg.predict(x_ar) + linReg.intercept_\n",
    "    \n",
    "    linReg.fit(y_ar, y)\n",
    "    eps_y = y - linReg.predict(y_ar) + linReg.intercept_\n",
    "    \n",
    "    r_adj = np.corrcoef(eps_x, eps_y)[0,1]\n",
    "    \n",
    "    from scipy.stats import linregress\n",
    "    \n",
    "    return linregress(x, y), linregress(eps_x, eps_y)\n"
   ]
  },
  {
   "cell_type": "code",
   "execution_count": 274,
   "metadata": {},
   "outputs": [],
   "source": [
    "f = Fs_df.iloc[:,3].values\n",
    "r_obs_adj =  []\n",
    "p_obs_adj =  []\n",
    "for ii in range(n_genes):\n",
    "    res = spatial_ar(exp_mat_atlas[:,ii], f, D, 1)[1]\n",
    "    r_obs_adj.append(res.rvalue)\n",
    "    p_obs_adj.append(res.pvalue)\n"
   ]
  },
  {
   "cell_type": "code",
   "execution_count": 261,
   "metadata": {},
   "outputs": [],
   "source": [
    "from statsmodels.stats.multitest import fdrcorrection"
   ]
  },
  {
   "cell_type": "code",
   "execution_count": 293,
   "metadata": {},
   "outputs": [],
   "source": [
    "pos_sig_gen = np.where((np.array(r_obs_adj)>0)*fdrcorrection(p_obs_adj)[0])[0]\n",
    "pos_sig_gen = [gen_list[idx] for idx in pos_sig_gen]\n",
    "\n",
    "neg_sig_gen = np.where((np.array(r_obs_adj)<0)*fdrcorrection(p_obs_adj)[0])[0]\n",
    "neg_sig_gen = [gen_list[idx] for idx in neg_sig_gen]"
   ]
  },
  {
   "cell_type": "code",
   "execution_count": 298,
   "metadata": {},
   "outputs": [
    {
     "data": {
      "text/plain": [
       "441"
      ]
     },
     "execution_count": 298,
     "metadata": {},
     "output_type": "execute_result"
    }
   ],
   "source": [
    "len(pos_sig_gen) + len(neg_sig_gen)"
   ]
  },
  {
   "cell_type": "code",
   "execution_count": 302,
   "metadata": {},
   "outputs": [],
   "source": [
    "np.savetxt(\"pos_gen_list_w_ar_subtype3.txt\", pos_sig_gen, fmt=\"%s\")\n",
    "np.savetxt(\"neg_gen_list_w_ar_subtype3.txt\", neg_sig_gen, fmt=\"%s\")"
   ]
  },
  {
   "cell_type": "code",
   "execution_count": 251,
   "metadata": {},
   "outputs": [
    {
     "data": {
      "image/png": "[encoded data removed]",
      "text/plain": [
       "<Figure size 432x288 with 1 Axes>"
      ]
     },
     "metadata": {
      "needs_background": "light"
     },
     "output_type": "display_data"
    }
   ],
   "source": [
    "plt.hist(r_obs_adj)\n",
    "pass"
   ]
  },
  {
   "cell_type": "code",
   "execution_count": 178,
   "metadata": {},
   "outputs": [],
   "source": [
    "# Compute neighbourhs vectors\n",
    "n_neighs = 3\n",
    "f_neight_mat = []\n",
    "gen_neight_mat = []\n",
    "for kk in range(n_neighs):\n",
    "    neighs = neigh_mat[:,kk]\n",
    "    f_neight_mat.append([f[neighs[ii]] for ii in range(n_rois)])\n",
    "    gen_neight_mat.append([foo[neighs[ii]] for ii in range(n_rois)])\n",
    "\n",
    "f_neight_mat = np.column_stack(f_neight_mat)\n",
    "gen_neight_mat = np.column_stack(gen_neight_mat)"
   ]
  },
  {
   "cell_type": "code",
   "execution_count": 187,
   "metadata": {},
   "outputs": [
    {
     "data": {
      "text/plain": [
       "array([[  0.        , 106.01073528,  71.54138342, ...,  98.27229429,\n",
       "         69.99076872,  81.57940627],\n",
       "       [106.01073528,   0.        , 112.06335607, ..., 111.21730935,\n",
       "         67.79029014,  99.96970011],\n",
       "       [ 71.54138342, 112.06335607,   0.        , ...,  67.16645733,\n",
       "         94.48059025,  54.39247676],\n",
       "       ...,\n",
       "       [ 98.27229429, 111.21730935,  67.16645733, ...,   0.        ,\n",
       "         73.96867757,  17.79250609],\n",
       "       [ 69.99076872,  67.79029014,  94.48059025, ...,  73.96867757,\n",
       "          0.        ,  62.80262726],\n",
       "       [ 81.57940627,  99.96970011,  54.39247676, ...,  17.79250609,\n",
       "         62.80262726,   0.        ]])"
      ]
     },
     "execution_count": 187,
     "metadata": {},
     "output_type": "execute_result"
    }
   ],
   "source": [
    "D[~np.isnan(foo),:][:,~np.isnan(foo)]"
   ]
  },
  {
   "cell_type": "code",
   "execution_count": 162,
   "metadata": {},
   "outputs": [],
   "source": [
    "# Take for example three nearest neighbours and create binary matrix for each one\n",
    "n_neighs = 3\n",
    "\n",
    "bin_mats = []\n",
    "for kk in range(n_neighs):\n",
    "    \n",
    "    temp = np.zeros((n_rois,n_rois), dtype=int)\n",
    "    \n",
    "    neighs = neigh_mat[:,kk]\n",
    "    for ii in range(n_rois):\n",
    "        temp[ii, neighs[ii]] = 1\n",
    "        \n",
    "    bin_mats.append(temp)"
   ]
  },
  {
   "cell_type": "code",
   "execution_count": 170,
   "metadata": {},
   "outputs": [
    {
     "data": {
      "text/plain": [
       "False"
      ]
     },
     "execution_count": 170,
     "metadata": {},
     "output_type": "execute_result"
    }
   ],
   "source": [
    "# Compute neighbourhs vectors\n"
   ]
  },
  {
   "cell_type": "markdown",
   "metadata": {},
   "source": [
    "## surrogates"
   ]
  },
  {
   "cell_type": "code",
   "execution_count": 70,
   "metadata": {},
   "outputs": [],
   "source": [
    "#Find coordinates of each ROI:\n",
    "ROI_coords = []\n",
    "for ii in range(86):\n",
    "    ROI_coords.append(plotting.find_parcellation_cut_coords(image.index_img(atlas, ii))[0])\n",
    "ROI_coords=np.array(ROI_coords)"
   ]
  },
  {
   "cell_type": "code",
   "execution_count": 463,
   "metadata": {},
   "outputs": [
    {
     "data": {
      "text/plain": [
       "<nilearn.plotting.displays.OrthoProjector at 0x7f2c3d6888d0>"
      ]
     },
     "execution_count": 463,
     "metadata": {},
     "output_type": "execute_result"
    },
    {
     "data": {
      "image/png": "[encoded data removed]",
      "text/plain": [
       "<Figure size 475.2x187.2 with 4 Axes>"
      ]
     },
     "metadata": {},
     "output_type": "display_data"
    }
   ],
   "source": [
    "plotting.plot_glass_brain(image.index_img(atlas, 2))"
   ]
  },
  {
   "cell_type": "code",
   "execution_count": 472,
   "metadata": {},
   "outputs": [
    {
     "data": {
      "text/plain": [
       "<nilearn.plotting.displays.OrthoProjector at 0x7f2c3d24e750>"
      ]
     },
     "execution_count": 472,
     "metadata": {},
     "output_type": "execute_result"
    },
    {
     "data": {
      "image/png": "[encoded data removed]",
      "text/plain": [
       "<Figure size 475.2x187.2 with 4 Axes>"
      ]
     },
     "metadata": {},
     "output_type": "display_data"
    }
   ],
   "source": [
    "plotting.plot_glass_brain(image.index_img(atlas, 14))"
   ]
  },
  {
   "cell_type": "code",
   "execution_count": 484,
   "metadata": {},
   "outputs": [
    {
     "data": {
      "text/plain": [
       "'temporoparietal_lh'"
      ]
     },
     "execution_count": 484,
     "metadata": {},
     "output_type": "execute_result"
    }
   ],
   "source": [
    "Fs_df.iloc[2,0]"
   ]
  },
  {
   "cell_type": "code",
   "execution_count": 482,
   "metadata": {},
   "outputs": [
    {
     "data": {
      "text/plain": [
       "'superiortemporal_lh'"
      ]
     },
     "execution_count": 482,
     "metadata": {},
     "output_type": "execute_result"
    }
   ],
   "source": [
    "Fs_df.iloc[16,0]"
   ]
  },
  {
   "cell_type": "code",
   "execution_count": 490,
   "metadata": {},
   "outputs": [
    {
     "data": {
      "text/plain": [
       "array([-50.65384832, -12.28762579,  -4.79867319])"
      ]
     },
     "execution_count": 490,
     "metadata": {},
     "output_type": "execute_result"
    }
   ],
   "source": [
    "ROI_coords[16]"
   ]
  },
  {
   "cell_type": "code",
   "execution_count": 485,
   "metadata": {},
   "outputs": [
    {
     "data": {
      "text/plain": [
       "66.83870634615747"
      ]
     },
     "execution_count": 485,
     "metadata": {},
     "output_type": "execute_result"
    }
   ],
   "source": [
    "D[2,16]"
   ]
  },
  {
   "cell_type": "code",
   "execution_count": 74,
   "metadata": {},
   "outputs": [],
   "source": [
    "from scipy.spatial import distance\n",
    "D=distance.squareform(distance.pdist(ROI_coords))"
   ]
  },
  {
   "cell_type": "code",
   "execution_count": 79,
   "metadata": {},
   "outputs": [
    {
     "data": {
      "text/plain": [
       "(3702, 13788)"
      ]
     },
     "execution_count": 79,
     "metadata": {},
     "output_type": "execute_result"
    }
   ],
   "source": [
    "exp_mat"
   ]
  },
  {
   "cell_type": "code",
   "execution_count": 306,
   "metadata": {},
   "outputs": [],
   "source": [
    "from brainsmash.mapgen.base import Base"
   ]
  },
  {
   "cell_type": "code",
   "execution_count": 437,
   "metadata": {},
   "outputs": [
    {
     "data": {
      "text/plain": [
       "array([240.22718565, 236.78895011, 239.00396943, 240.50972309,\n",
       "       240.01136519, 246.05124018, 245.98363349, 237.16008858,\n",
       "       222.72131473, 232.57889161, 237.57156309, 233.37557622,\n",
       "       246.80940799, 234.36487719, 236.20709344, 237.1652086 ,\n",
       "       224.94862646, 235.15735678, 246.93993356, 229.728117  ,\n",
       "       234.08504605, 238.82414132, 236.71349556, 236.15210057,\n",
       "       239.09212967, 242.52447195, 240.36778717, 227.93576567,\n",
       "       246.54931091, 233.37674337, 242.74922421, 237.79773942,\n",
       "       239.79265786, 232.04809196, 239.74380975, 237.48205407,\n",
       "       228.61503118, 251.16414362, 233.19975327, 241.25389873,\n",
       "       239.02691813, 238.27187455, 238.65599055, 249.32637325,\n",
       "       234.34606387, 238.52640952, 242.24153834, 226.39623345,\n",
       "       229.74933859, 232.61262119, 225.28381882, 238.93218847,\n",
       "       246.33870491, 233.76926393, 233.8801567 , 241.80918938,\n",
       "       237.04951472, 246.40663809, 237.19188111, 254.78470938,\n",
       "       236.86112398, 246.29893355, 260.96634358, 247.07356759,\n",
       "       227.8711581 , 231.03448561, 232.06707197, 237.06089365,\n",
       "       229.795308  , 233.86029669, 242.02691662, 243.87367057,\n",
       "       240.12672446, 251.56240279, 242.87017155, 232.33723581,\n",
       "       233.96166308, 222.71078825, 234.52863028, 243.65227642,\n",
       "       246.06311774, 232.42214704, 234.83983321, 243.05323273,\n",
       "       233.60044991, 240.17207743])"
      ]
     },
     "execution_count": 437,
     "metadata": {},
     "output_type": "execute_result"
    }
   ],
   "source": [
    "surrogates_1[0,:]"
   ]
  },
  {
   "cell_type": "code",
   "execution_count": 440,
   "metadata": {},
   "outputs": [],
   "source": [
    "# Resample option keeps the same value distributions\n",
    "gen_1 = Base(Fs_df.iloc[:,1].values, D, seed=0, resample=True)  # note: can pass numpy arrays as well as filenames\n",
    "gen_2 = Base(Fs_df.iloc[:,2].values, D, seed=0, resample=True)  # note: can pass numpy arrays as well as filenames\n",
    "gen_3 = Base(Fs_df.iloc[:,3].values, D, seed=0, resample=True)  # note: can pass numpy arrays as well as filenames"
   ]
  },
  {
   "cell_type": "code",
   "execution_count": 313,
   "metadata": {},
   "outputs": [],
   "source": [
    "n_boots = 10000\n",
    "n_genes = exp_mat_desikan.shape[1]"
   ]
  },
  {
   "cell_type": "code",
   "execution_count": 441,
   "metadata": {},
   "outputs": [],
   "source": [
    "surrogates_1 = gen_1(n=n_boots)\n",
    "surrogates_2 = gen_2(n=n_boots)\n",
    "surrogates_3 = gen_3(n=n_boots)"
   ]
  },
  {
   "cell_type": "code",
   "execution_count": 442,
   "metadata": {},
   "outputs": [],
   "source": [
    "np.save(\"surrogates_F_1_antonio.npy\", surrogates_1)\n",
    "np.save(\"surrogates_F_2_antonio.npy\", surrogates_2)\n",
    "np.save(\"surrogates_F_3_antonio.npy\", surrogates_3)"
   ]
  },
  {
   "cell_type": "code",
   "execution_count": 549,
   "metadata": {},
   "outputs": [
    {
     "data": {
      "text/plain": [
       "(10000, 86)"
      ]
     },
     "execution_count": 549,
     "metadata": {},
     "output_type": "execute_result"
    }
   ],
   "source": [
    "surrogates_2.shape"
   ]
  },
  {
   "cell_type": "code",
   "execution_count": null,
   "metadata": {},
   "outputs": [],
   "source": [
    "#brainsmash.mapgen.stats.nonparp\n",
    "r_null_2 = np.zeros((n_boots, n_genes))\n",
    "for jj in range(n_genes):\n",
    "    a = exp_mat_desikan[:, jj]\n",
    "    for kk in range(n_boots):\n",
    "        b = surrogates_2[kk, :]\n",
    "        mask = ~np.isnan(a)\n",
    "        r_null_2[kk, jj] = np.corrcoef(a[mask], b[mask])[0,1]"
   ]
  },
  {
   "cell_type": "code",
   "execution_count": 450,
   "metadata": {},
   "outputs": [],
   "source": [
    "l_null = np.zeros((n_boots, 3))\n",
    "u_null = np.zeros((n_boots, 3))\n",
    "max_null = np.zeros((n_boots, 3))\n",
    "min_null = np.zeros((n_boots, 3))"
   ]
  },
  {
   "cell_type": "code",
   "execution_count": 451,
   "metadata": {},
   "outputs": [
    {
     "data": {
      "text/plain": [
       "(86, 10000)"
      ]
     },
     "execution_count": 451,
     "metadata": {},
     "output_type": "execute_result"
    }
   ],
   "source": [
    "surrogates_1.T.shape"
   ]
  },
  {
   "cell_type": "code",
   "execution_count": 532,
   "metadata": {},
   "outputs": [],
   "source": [
    "foo = []\n",
    "for jj in range(n_boots):\n",
    "    null_dist = []\n",
    "    for kk in range(n_genes):\n",
    "        gen_value = exp_mat_desikan[:,kk]\n",
    "        mask = ~np.isnan(gen_value)\n",
    "        null_dist.append(np.corrcoef(gen_value[mask], surrogates_1[jj,:][mask])[0,1]) \n",
    "        \n",
    "    foo.append(np.quantile(null_dist, q = [0.025, 0.975]))\n",
    "    \n",
    "foo = np.array(foo)"
   ]
  },
  {
   "cell_type": "code",
   "execution_count": 547,
   "metadata": {},
   "outputs": [
    {
     "data": {
      "text/plain": [
       "array([[-0.21373165, -0.3432788 , -0.46155808],\n",
       "       [ 0.18850249,  0.34015799,  0.42752998]])"
      ]
     },
     "execution_count": 547,
     "metadata": {},
     "output_type": "execute_result"
    }
   ],
   "source": [
    "np.quantile(r_obs, q = [0.025, 0.975], axis=0)"
   ]
  },
  {
   "cell_type": "code",
   "execution_count": 539,
   "metadata": {},
   "outputs": [
    {
     "data": {
      "text/plain": [
       "0.2670618959485375"
      ]
     },
     "execution_count": 539,
     "metadata": {},
     "output_type": "execute_result"
    }
   ],
   "source": [
    "np.median(foo[:,1])"
   ]
  },
  {
   "cell_type": "code",
   "execution_count": null,
   "metadata": {},
   "outputs": [
    {
     "name": "stdout",
     "output_type": "stream",
     "text": [
      "doing cluster 0\n",
      "surrogate number 0 done\n",
      "surrogate number 1000 done\n",
      "surrogate number 2000 done\n",
      "surrogate number 3000 done\n"
     ]
    }
   ],
   "source": [
    "list_surrogates = [surrogates_1.T, surrogates_2.T, surrogates_3.T]\n",
    "for ii in range(3):\n",
    "    print(\"doing cluster %d\" % ii)\n",
    "    surrogates = list_surrogates[ii]\n",
    "    \n",
    "    for jj in range(n_boots):\n",
    "        \n",
    "        f_perm = surrogates[:, jj]\n",
    "        null_dist = []\n",
    "        for kk in range(n_genes):\n",
    "            gen_value = exp_mat_desikan[:,kk]\n",
    "            mask = ~np.isnan(gen_value)\n",
    "            null_dist.append(np.corrcoef(gen_value[mask], f_perm[mask])[0,1]) \n",
    "        \n",
    "        l_boot, u_boot = np.quantile(null_dist, [0.025, 0.975])\n",
    "        max_boot = np.max(null_dist)\n",
    "        min_boot = np.min(null_dist)\n",
    "        \n",
    "        l_null[jj, ii] = l_boot\n",
    "        u_null[jj, ii] = u_boot\n",
    "        max_null[jj, ii] = max_boot\n",
    "        min_null[jj, ii] = min_boot\n",
    "        \n",
    "        if jj % 1000==0:\n",
    "            print(\"surrogate number %d done\" % jj)"
   ]
  },
  {
   "cell_type": "code",
   "execution_count": 533,
   "metadata": {},
   "outputs": [
    {
     "data": {
      "text/plain": [
       "0.2670618959485375"
      ]
     },
     "execution_count": 533,
     "metadata": {},
     "output_type": "execute_result"
    }
   ],
   "source": [
    "np.median(u_null[:,0])"
   ]
  },
  {
   "cell_type": "code",
   "execution_count": 521,
   "metadata": {},
   "outputs": [
    {
     "data": {
      "text/plain": [
       "(array([9.000e+00, 1.410e+02, 1.050e+03, 3.870e+03, 4.845e+03, 2.859e+03,\n",
       "        8.850e+02, 1.200e+02, 8.000e+00, 1.000e+00]),\n",
       " array([-0.43819033, -0.34305731, -0.24792429, -0.15279128, -0.05765826,\n",
       "         0.03747475,  0.13260777,  0.22774079,  0.3228738 ,  0.41800682,\n",
       "         0.51313983]),\n",
       " <a list of 10 Patch objects>)"
      ]
     },
     "execution_count": 521,
     "metadata": {},
     "output_type": "execute_result"
    },
    {
     "data": {
      "image/png": "[encoded data removed]",
      "text/plain": [
       "<Figure size 432x288 with 1 Axes>"
      ]
     },
     "metadata": {
      "needs_background": "light"
     },
     "output_type": "display_data"
    }
   ],
   "source": [
    "plt.hist(u_null[:,0])\n",
    "plt.hist(r_obs[:,0])"
   ]
  },
  {
   "cell_type": "code",
   "execution_count": 458,
   "metadata": {},
   "outputs": [
    {
     "name": "stdout",
     "output_type": "stream",
     "text": [
      "37\n",
      "82\n"
     ]
    }
   ],
   "source": [
    "print(sum(r_obs[:,0] > np.median(u_null[:, 0])))\n",
    "print(sum(r_obs[:,0] < np.median(l_null[:, 0])))"
   ]
  },
  {
   "cell_type": "code",
   "execution_count": 456,
   "metadata": {},
   "outputs": [
    {
     "name": "stdout",
     "output_type": "stream",
     "text": [
      "974\n",
      "1535\n"
     ]
    }
   ],
   "source": [
    "print(sum(r_obs[:,1] > np.median(u_null[:, 1])))\n",
    "print(sum(r_obs[:,1] < np.median(l_null[:, 1])))"
   ]
  },
  {
   "cell_type": "code",
   "execution_count": 457,
   "metadata": {},
   "outputs": [
    {
     "name": "stdout",
     "output_type": "stream",
     "text": [
      "1316\n",
      "3357\n"
     ]
    }
   ],
   "source": [
    "print(sum(r_obs[:,2] > np.median(u_null[:, 2])))\n",
    "print(sum(r_obs[:,2] < np.median(l_null[:, 2])))"
   ]
  },
  {
   "cell_type": "code",
   "execution_count": 346,
   "metadata": {},
   "outputs": [],
   "source": [
    "f_gene_list = h5py.File('AllenGen_javi/GenList_noNaNs.mat', 'r')"
   ]
  },
  {
   "cell_type": "code",
   "execution_count": 352,
   "metadata": {},
   "outputs": [
    {
     "ename": "TypeError",
     "evalue": "an integer is required (got type h5py.h5r.Reference)",
     "output_type": "error",
     "traceback": [
      "\u001b[0;31m---------------------------------------------------------------------------\u001b[0m",
      "\u001b[0;31mTypeError\u001b[0m                                 Traceback (most recent call last)",
      "\u001b[0;32m<ipython-input-352-7bea8d81896e>\u001b[0m in \u001b[0;36m<module>\u001b[0;34m\u001b[0m\n\u001b[0;32m----> 1\u001b[0;31m \u001b[0;34m''\u001b[0m\u001b[0;34m.\u001b[0m\u001b[0mjoin\u001b[0m\u001b[0;34m(\u001b[0m\u001b[0mchr\u001b[0m\u001b[0;34m(\u001b[0m\u001b[0mi\u001b[0m\u001b[0;34m)\u001b[0m \u001b[0;32mfor\u001b[0m \u001b[0mi\u001b[0m \u001b[0;32min\u001b[0m \u001b[0mf_gene_list\u001b[0m\u001b[0;34m[\u001b[0m\u001b[0;34m'GenList_noNaNs'\u001b[0m\u001b[0;34m]\u001b[0m\u001b[0;34m[\u001b[0m\u001b[0;34m:\u001b[0m\u001b[0;34m]\u001b[0m\u001b[0;34m[\u001b[0m\u001b[0;36m0\u001b[0m\u001b[0;34m]\u001b[0m\u001b[0;34m)\u001b[0m\u001b[0;34m\u001b[0m\u001b[0;34m\u001b[0m\u001b[0m\n\u001b[0m",
      "\u001b[0;32m<ipython-input-352-7bea8d81896e>\u001b[0m in \u001b[0;36m<genexpr>\u001b[0;34m(.0)\u001b[0m\n\u001b[0;32m----> 1\u001b[0;31m \u001b[0;34m''\u001b[0m\u001b[0;34m.\u001b[0m\u001b[0mjoin\u001b[0m\u001b[0;34m(\u001b[0m\u001b[0mchr\u001b[0m\u001b[0;34m(\u001b[0m\u001b[0mi\u001b[0m\u001b[0;34m)\u001b[0m \u001b[0;32mfor\u001b[0m \u001b[0mi\u001b[0m \u001b[0;32min\u001b[0m \u001b[0mf_gene_list\u001b[0m\u001b[0;34m[\u001b[0m\u001b[0;34m'GenList_noNaNs'\u001b[0m\u001b[0;34m]\u001b[0m\u001b[0;34m[\u001b[0m\u001b[0;34m:\u001b[0m\u001b[0;34m]\u001b[0m\u001b[0;34m[\u001b[0m\u001b[0;36m0\u001b[0m\u001b[0;34m]\u001b[0m\u001b[0;34m)\u001b[0m\u001b[0;34m\u001b[0m\u001b[0;34m\u001b[0m\u001b[0m\n\u001b[0m",
      "\u001b[0;31mTypeError\u001b[0m: an integer is required (got type h5py.h5r.Reference)"
     ]
    }
   ],
   "source": [
    "''.join(chr(i) for i in f_gene_list['GenList_noNaNs'][:][0])"
   ]
  },
  {
   "cell_type": "code",
   "execution_count": 368,
   "metadata": {},
   "outputs": [],
   "source": [
    "gen_list = []\n",
    "for ii in range(n_genes):\n",
    "    st = f_gene_list['GenList_noNaNs'][0][ii]\n",
    "    obj = f_gene_list[st]\n",
    "    str1 = ''.join(chr(i) for i in obj[:])\n",
    "    gen_list.append(str1)"
   ]
  },
  {
   "cell_type": "code",
   "execution_count": 370,
   "metadata": {},
   "outputs": [],
   "source": [
    "gen_list = np.array(gen_list)"
   ]
  },
  {
   "cell_type": "code",
   "execution_count": 507,
   "metadata": {},
   "outputs": [
    {
     "data": {
      "text/plain": [
       "-0.26061966275185666"
      ]
     },
     "execution_count": 507,
     "metadata": {},
     "output_type": "execute_result"
    }
   ],
   "source": [
    "np.median(l_null[:, 1])"
   ]
  },
  {
   "cell_type": "code",
   "execution_count": 502,
   "metadata": {},
   "outputs": [],
   "source": [
    "np.savetxt(\"gen_list_antonio_subtype_2.txt\", gen_list[r_obs[:,1] < np.median(l_null[:, 1])], fmt=\"%s\")"
   ]
  },
  {
   "cell_type": "code",
   "execution_count": 389,
   "metadata": {},
   "outputs": [
    {
     "data": {
      "text/plain": [
       "array(['MCM3', 'LIMK2', 'APOE', ..., 'WIPF2', 'DUXAP9', 'COL5A2'],\n",
       "      dtype='<U25')"
      ]
     },
     "execution_count": 389,
     "metadata": {},
     "output_type": "execute_result"
    }
   ],
   "source": [
    "gen_list[np.argsort(zscore(r_obs)[:,1])]"
   ]
  },
  {
   "cell_type": "code",
   "execution_count": 383,
   "metadata": {},
   "outputs": [],
   "source": []
  },
  {
   "cell_type": "code",
   "execution_count": 433,
   "metadata": {},
   "outputs": [],
   "source": [
    "np.savetxt(\"gen_list_antonio_subtype_2.txt\", gen_list[r_obs[:,1]<-0.4], fmt=\"%s\")"
   ]
  },
  {
   "cell_type": "code",
   "execution_count": 376,
   "metadata": {},
   "outputs": [
    {
     "data": {
      "text/plain": [
       "array([-0.33249072, -0.32552553, -0.29873453, ..., -0.33465984,\n",
       "       -0.29553667, -0.32724749])"
      ]
     },
     "execution_count": 376,
     "metadata": {},
     "output_type": "execute_result"
    }
   ],
   "source": [
    "r_obs[r_obs[:,1] < np.median(l_null[:, 1]),1]"
   ]
  },
  {
   "cell_type": "code",
   "execution_count": 493,
   "metadata": {},
   "outputs": [],
   "source": [
    "ps_1_left = [sum(r_obs[ii,0] > min_null[:,0])/n_boots for ii in range(n_genes)]\n",
    "ps_2_left = [sum(r_obs[ii,1] > min_null[:,1])/n_boots for ii in range(n_genes)]\n",
    "ps_3_left = [sum(r_obs[ii,2] > min_null[:,2])/n_boots for ii in range(n_genes)]"
   ]
  },
  {
   "cell_type": "code",
   "execution_count": 494,
   "metadata": {},
   "outputs": [],
   "source": [
    "ps_1_right = [sum(r_obs[ii,0] < max_null[:,0])/n_boots for ii in range(n_genes)]\n",
    "ps_2_right = [sum(r_obs[ii,1] < max_null[:,1])/n_boots for ii in range(n_genes)]\n",
    "ps_3_right = [sum(r_obs[ii,2] < max_null[:,2])/n_boots for ii in range(n_genes)]"
   ]
  },
  {
   "cell_type": "code",
   "execution_count": 511,
   "metadata": {},
   "outputs": [
    {
     "data": {
      "text/plain": [
       "345"
      ]
     },
     "execution_count": 511,
     "metadata": {},
     "output_type": "execute_result"
    }
   ],
   "source": [
    "\n",
    "sum(r_obs[:,1]<np.quantile(r_obs[:,1], q=[0.025, 0.975])[0])\n",
    "sum(r_obs[:,1]>np.quantile(r_obs[:,1], q=[0.025, 0.975])[1])"
   ]
  },
  {
   "cell_type": "code",
   "execution_count": 517,
   "metadata": {},
   "outputs": [
    {
     "data": {
      "text/plain": [
       "29"
      ]
     },
     "execution_count": 517,
     "metadata": {},
     "output_type": "execute_result"
    }
   ],
   "source": [
    "sum(r_obs[:,1]<-0.42121772)"
   ]
  },
  {
   "cell_type": "code",
   "execution_count": 519,
   "metadata": {},
   "outputs": [
    {
     "data": {
      "text/plain": [
       "array([-0.42317705, -0.26786648, -0.13988547])"
      ]
     },
     "execution_count": 519,
     "metadata": {},
     "output_type": "execute_result"
    }
   ],
   "source": [
    "np.quantile(l_null[:,0], q=[0.025, 0.5, 0.975])"
   ]
  },
  {
   "cell_type": "code",
   "execution_count": 421,
   "metadata": {},
   "outputs": [
    {
     "name": "stdout",
     "output_type": "stream",
     "text": [
      "[0.34222658]\n",
      "335\n",
      "355\n"
     ]
    }
   ],
   "source": [
    "#thr = 0.34222658\n",
    "thr = np.quantile(np.abs(r_obs[:,1]), q=[0.95])\n",
    "print(thr)\n",
    "print(sum(r_obs[:,1] > thr))\n",
    "print(sum(r_obs[:,1] < -thr))"
   ]
  },
  {
   "cell_type": "code",
   "execution_count": 422,
   "metadata": {},
   "outputs": [],
   "source": [
    "np.savetxt(\"gen_list_antonio_subtype_2.txt\", gen_list[r_obs[:,1] < -thr], fmt=\"%s\")"
   ]
  },
  {
   "cell_type": "code",
   "execution_count": 419,
   "metadata": {},
   "outputs": [
    {
     "name": "stdout",
     "output_type": "stream",
     "text": [
      "[0.45059688]\n",
      "270\n",
      "420\n"
     ]
    }
   ],
   "source": [
    "#thr = 0.34222658\n",
    "thr = np.quantile(np.abs(r_obs[:,2]), q=[0.95])\n",
    "print(thr)\n",
    "print(sum(r_obs[:,2] > thr))\n",
    "print(sum(r_obs[:,2] < -thr))"
   ]
  },
  {
   "cell_type": "code",
   "execution_count": 430,
   "metadata": {},
   "outputs": [
    {
     "data": {
      "text/plain": [
       "-0.4113252421786268"
      ]
     },
     "execution_count": 430,
     "metadata": {},
     "output_type": "execute_result"
    }
   ],
   "source": [
    "np.min(r_obs[zscore(r_obs[:,1])>2,1])\n",
    "np.max(r_obs[zscore(r_obs[:,1])<-2,1])"
   ]
  },
  {
   "cell_type": "code",
   "execution_count": 332,
   "metadata": {},
   "outputs": [],
   "source": [
    "rpearson_nan??"
   ]
  },
  {
   "cell_type": "code",
   "execution_count": 320,
   "metadata": {},
   "outputs": [],
   "source": [
    "surrogates_1 = np.load(\"surrogates_F_1_antonio.npy\")\n",
    "surrogates_2 = np.load(\"surrogates_F_2_antonio.npy\")\n",
    "surrogates_3 = np.load(\"surrogates_F_3_antonio.npy\")"
   ]
  },
  {
   "cell_type": "code",
   "execution_count": 335,
   "metadata": {},
   "outputs": [],
   "source": [
    "# Compute null distribution for each gene\n",
    "r_null_2 = np.zeros((10000, n_genes))\n",
    "\n",
    "for jj in range(10000):\n",
    "    f_sur = surrogates_2[jj,:]\n",
    "    r_null_2[jj,:] = [rpearson_nan(f_sur, exp_mat_atlas[:, kk]) for kk in range(n_genes)]"
   ]
  },
  {
   "cell_type": "code",
   "execution_count": null,
   "metadata": {},
   "outputs": [],
   "source": [
    "r_null_3 = np.zeros((10000, n_genes))\n",
    "\n",
    "for jj in range(10000):\n",
    "    f_sur = surrogates_3[jj,:]\n",
    "    r_null_3[jj,:] = [rpearson_nan(f_sur, exp_mat_atlas[:, kk]) for kk in range(n_genes)]"
   ]
  },
  {
   "cell_type": "code",
   "execution_count": 334,
   "metadata": {},
   "outputs": [
    {
     "data": {
      "text/plain": [
       "(86, 13788)"
      ]
     },
     "execution_count": 334,
     "metadata": {},
     "output_type": "execute_result"
    }
   ],
   "source": [
    "exp_mat_atlas.shape"
   ]
  },
  {
   "cell_type": "code",
   "execution_count": 337,
   "metadata": {},
   "outputs": [
    {
     "data": {
      "text/plain": [
       "(10000, 13788)"
      ]
     },
     "execution_count": 337,
     "metadata": {},
     "output_type": "execute_result"
    }
   ],
   "source": [
    "r_null_2.shape"
   ]
  },
  {
   "cell_type": "code",
   "execution_count": 338,
   "metadata": {},
   "outputs": [],
   "source": [
    "from brainsmash.mapgen.stats import nonparp"
   ]
  },
  {
   "cell_type": "code",
   "execution_count": 351,
   "metadata": {},
   "outputs": [],
   "source": [
    "r_obs_2 = [rpearson_nan(Fs_df.iloc[:,2].values, exp_mat_atlas[:, ii]) for ii in range(n_genes)]"
   ]
  },
  {
   "cell_type": "code",
   "execution_count": 358,
   "metadata": {},
   "outputs": [
    {
     "data": {
      "text/plain": [
       "-0.5092412892599881"
      ]
     },
     "execution_count": 358,
     "metadata": {},
     "output_type": "execute_result"
    }
   ],
   "source": [
    "np.min(r_obs_2)"
   ]
  },
  {
   "cell_type": "code",
   "execution_count": 348,
   "metadata": {},
   "outputs": [
    {
     "data": {
      "text/plain": [
       "(86, 13788)"
      ]
     },
     "execution_count": 348,
     "metadata": {},
     "output_type": "execute_result"
    }
   ],
   "source": [
    "exp_mat_atlas.shape"
   ]
  },
  {
   "cell_type": "code",
   "execution_count": 359,
   "metadata": {},
   "outputs": [
    {
     "data": {
      "text/plain": [
       "(10000, 13788)"
      ]
     },
     "execution_count": 359,
     "metadata": {},
     "output_type": "execute_result"
    }
   ],
   "source": [
    "r_null_2.shape"
   ]
  },
  {
   "cell_type": "code",
   "execution_count": 361,
   "metadata": {},
   "outputs": [],
   "source": [
    "p_2 = [nonparp(r_obs_2[ii],r_null_2[:,ii]) for ii in range(n_genes)]"
   ]
  },
  {
   "cell_type": "code",
   "execution_count": 370,
   "metadata": {},
   "outputs": [
    {
     "data": {
      "text/plain": [
       "(array([ 4234.,  5388.,  6698.,  7777.,  8715.,  9648., 10623., 11663.,\n",
       "        12643., 13788.]),\n",
       " array([0.47765076, 0.52986568, 0.5820806 , 0.63429553, 0.68651045,\n",
       "        0.73872538, 0.7909403 , 0.84315523, 0.89537015, 0.94758508,\n",
       "        0.9998    ]),\n",
       " <a list of 10 Patch objects>)"
      ]
     },
     "execution_count": 370,
     "metadata": {},
     "output_type": "execute_result"
    },
    {
     "data": {
      "image/png": "[encoded data removed]",
      "text/plain": [
       "<Figure size 432x288 with 1 Axes>"
      ]
     },
     "metadata": {
      "needs_background": "light"
     },
     "output_type": "display_data"
    }
   ],
   "source": [
    "plt.hist(fdrcorrection(p_2)[1],cumulative=True)"
   ]
  },
  {
   "cell_type": "code",
   "execution_count": 369,
   "metadata": {},
   "outputs": [],
   "source": [
    "plt.hist?"
   ]
  }
 ],
 "metadata": {
  "kernelspec": {
   "display_name": "Python 3",
   "language": "python",
   "name": "python3"
  },
  "language_info": {
   "codemirror_mode": {
    "name": "ipython",
    "version": 3
   },
   "file_extension": ".py",
   "mimetype": "text/x-python",
   "name": "python",
   "nbconvert_exporter": "python",
   "pygments_lexer": "ipython3",
   "version": "3.7.4"
  }
 },
 "nbformat": 4,
 "nbformat_minor": 4
}
