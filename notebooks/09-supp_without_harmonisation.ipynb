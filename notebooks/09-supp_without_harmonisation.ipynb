{
 "cells": [
  {
   "cell_type": "markdown",
   "metadata": {},
   "source": [
    "In this notebook we are going to see the results without harmonisation"
   ]
  },
  {
   "cell_type": "code",
   "execution_count": 56,
   "metadata": {},
   "outputs": [],
   "source": [
    "import numpy as np\n",
    "import pandas as pd\n",
    "import matplotlib.pylab as plt\n",
    "from os.path import join as opj\n",
    "from scipy.spatial.distance import squareform, pdist\n",
    "from scipy.io import savemat, loadmat\n",
    "import pickle"
   ]
  },
  {
   "cell_type": "code",
   "execution_count": 17,
   "metadata": {},
   "outputs": [],
   "source": [
    "Y = np.load('../data/data_after_combat.npz')['Y']\n",
    "Y_combat = np.load('../data/data_after_combat.npz')['Y_combat']\n",
    "group = np.load('../data/data_after_combat.npz')['group']"
   ]
  },
  {
   "cell_type": "code",
   "execution_count": 125,
   "metadata": {},
   "outputs": [
    {
     "data": {
      "text/plain": [
       "['subjects', 'age', 'sex', 'site', 'group', 'Y', 'Y_combat', 'CC_adjust']"
      ]
     },
     "execution_count": 125,
     "metadata": {},
     "output_type": "execute_result"
    }
   ],
   "source": [
    "list(np.load('../data/data_after_combat.npz').keys())"
   ]
  },
  {
   "cell_type": "code",
   "execution_count": 8,
   "metadata": {},
   "outputs": [
    {
     "data": {
      "text/plain": [
       "0.9524071457045249"
      ]
     },
     "execution_count": 8,
     "metadata": {},
     "output_type": "execute_result"
    }
   ],
   "source": [
    "np.corrcoef(Y.flat, Y_combat.flat)[0,1]"
   ]
  },
  {
   "cell_type": "code",
   "execution_count": 15,
   "metadata": {},
   "outputs": [
    {
     "data": {
      "image/png": "[encoded data removed]",
      "text/plain": [
       "<Figure size 432x288 with 1 Axes>"
      ]
     },
     "metadata": {
      "needs_background": "light"
     },
     "output_type": "display_data"
    }
   ],
   "source": [
    "plt.hist([np.corrcoef(Y[ii, :], Y_combat[ii, :])[0,1] for ii in range(Y.shape[0])], bins=50)\n",
    "pass"
   ]
  },
  {
   "cell_type": "code",
   "execution_count": 30,
   "metadata": {},
   "outputs": [],
   "source": [
    "n_rois = 86\n",
    "CC_asd_no_harm = np.array([squareform(Y[group==1][ii, :]) + np.identity(n_rois) for ii in range(sum(group==1))])"
   ]
  },
  {
   "cell_type": "code",
   "execution_count": 31,
   "metadata": {},
   "outputs": [],
   "source": [
    "savemat('../data/cors_no_harm.mat', {'CC_no_harm': CC_asd_no_harm})"
   ]
  },
  {
   "cell_type": "code",
   "execution_count": 32,
   "metadata": {},
   "outputs": [],
   "source": [
    "data_dir = \"/home/javier/Documentos/amaia-abide/data/\"\n",
    "plot_dir = \"/home/javier/Documentos/amaia-abide/plots\""
   ]
  },
  {
   "cell_type": "code",
   "execution_count": 207,
   "metadata": {},
   "outputs": [],
   "source": [
    "demo_data = pd.read_csv(opj(data_dir, \"abide_I_II_demo_clean.csv\"))\n"
   ]
  },
  {
   "cell_type": "code",
   "execution_count": 44,
   "metadata": {},
   "outputs": [],
   "source": [
    "\n",
    "cons_res_harm = loadmat('../data/results_clustering_both.mat', \n",
    "                            struct_as_record=False, \n",
    "                            squeeze_me=True)['res_cluster_pearson']\n",
    "\n",
    "cons_res_no_harm = loadmat('../data/results_clustering_no_harm.mat', \n",
    "                            struct_as_record=False, \n",
    "                            squeeze_me=True)['res_cluster_pearson']"
   ]
  },
  {
   "cell_type": "code",
   "execution_count": 43,
   "metadata": {},
   "outputs": [
    {
     "data": {
      "text/plain": [
       "(array([1, 2, 3, 4, 5], dtype=uint8), array([170, 218, 482,   9,   1]))"
      ]
     },
     "execution_count": 43,
     "metadata": {},
     "output_type": "execute_result"
    }
   ],
   "source": [
    "np.unique(cons_res.S, return_counts=True)"
   ]
  },
  {
   "cell_type": "code",
   "execution_count": 47,
   "metadata": {},
   "outputs": [
    {
     "data": {
      "text/plain": [
       "(array([  0,   6,  10,  28,  47, 103, 105, 106, 110, 115, 116, 121, 123,\n",
       "        124, 125, 127, 128, 131, 132, 136, 139, 141, 142, 143, 144, 147,\n",
       "        149, 153, 154, 159, 160, 161, 162, 167, 170, 171, 173, 179, 180,\n",
       "        183, 184, 185, 186, 187, 188, 189, 190, 191, 192, 193, 194, 195,\n",
       "        196, 197, 198, 199, 200, 201, 202, 203, 220, 252, 272, 273, 274,\n",
       "        275, 304, 308, 343, 345, 349, 361, 362, 365, 368, 370, 372, 373,\n",
       "        405, 430, 456, 457, 458, 459, 462, 463, 464, 465, 467, 469, 470,\n",
       "        471, 472, 473, 474, 475, 476, 478, 479, 480, 481, 488, 491, 494,\n",
       "        527, 533, 547, 550, 555, 572, 577, 584, 588, 589, 660, 665, 666,\n",
       "        667, 668, 670, 671, 672, 673, 679, 680, 681, 686, 692, 694, 695,\n",
       "        701, 702, 703, 704, 705, 706, 707, 709, 710, 712, 713, 714, 715,\n",
       "        716, 717, 718, 719, 720, 721, 722, 723, 724, 725, 726, 727, 728,\n",
       "        729, 731, 732, 733, 734, 741, 751, 756, 777, 781, 794, 833, 834,\n",
       "        875]),)"
      ]
     },
     "execution_count": 47,
     "metadata": {},
     "output_type": "execute_result"
    }
   ],
   "source": [
    "np.where(cons_res_no_harm.S==1)"
   ]
  },
  {
   "cell_type": "code",
   "execution_count": 52,
   "metadata": {},
   "outputs": [
    {
     "data": {
      "text/plain": [
       "102"
      ]
     },
     "execution_count": 52,
     "metadata": {},
     "output_type": "execute_result"
    }
   ],
   "source": [
    "len(set(list(np.where(cons_res_harm.S==1)[0])) & set(list(np.where(cons_res_no_harm.S==1)[0])))"
   ]
  },
  {
   "cell_type": "code",
   "execution_count": 53,
   "metadata": {},
   "outputs": [
    {
     "data": {
      "text/plain": [
       "195"
      ]
     },
     "execution_count": 53,
     "metadata": {},
     "output_type": "execute_result"
    }
   ],
   "source": [
    "len(set(list(np.where(cons_res_harm.S==2)[0])) & set(list(np.where(cons_res_no_harm.S==2)[0])))"
   ]
  },
  {
   "cell_type": "code",
   "execution_count": 54,
   "metadata": {},
   "outputs": [
    {
     "data": {
      "text/plain": [
       "426"
      ]
     },
     "execution_count": 54,
     "metadata": {},
     "output_type": "execute_result"
    }
   ],
   "source": [
    "len(set(list(np.where(cons_res_harm.S==3)[0])) & set(list(np.where(cons_res_no_harm.S==3)[0])))"
   ]
  },
  {
   "cell_type": "code",
   "execution_count": 57,
   "metadata": {},
   "outputs": [],
   "source": [
    "# Read ASD subjects\n",
    "\n",
    "f = open(opj(data_dir, \"subjects_subgroups.pkl\"), \"rb\")\n",
    "subjects_subgroups = pickle.load(f, encoding='utf-8')\n",
    "f.close()\n",
    "\n",
    "asd_subjects = subjects_subgroups['asd_subjs']\n",
    "td_subjects = subjects_subgroups['tc_subjs']"
   ]
  },
  {
   "cell_type": "code",
   "execution_count": 58,
   "metadata": {},
   "outputs": [],
   "source": [
    "subjects = np.concatenate((td_subjects, asd_subjects))"
   ]
  },
  {
   "cell_type": "code",
   "execution_count": 63,
   "metadata": {},
   "outputs": [],
   "source": [
    "age_asd = pd.merge(pd.DataFrame({\"SUB_ID\":asd_subjects}), demo_data, on=[\"SUB_ID\"]).AGE_AT_SCAN"
   ]
  },
  {
   "cell_type": "code",
   "execution_count": 79,
   "metadata": {},
   "outputs": [
    {
     "name": "stdout",
     "output_type": "stream",
     "text": [
      "12.910366712752944\n",
      "18.054187210779816\n",
      "16.41272611292737\n"
     ]
    }
   ],
   "source": [
    "[print(age_asd[cons_res_no_harm.S==ii+1].dropna().mean()) for ii in range(3)]\n",
    "pass"
   ]
  },
  {
   "cell_type": "code",
   "execution_count": 80,
   "metadata": {},
   "outputs": [
    {
     "name": "stdout",
     "output_type": "stream",
     "text": [
      "14.936236429933889\n",
      "16.29394330733452\n",
      "16.211499374747834\n"
     ]
    }
   ],
   "source": [
    "[print(age_asd[cons_res_harm.S==ii+1].dropna().mean()) for ii in range(3)]\n",
    "pass"
   ]
  },
  {
   "cell_type": "code",
   "execution_count": 67,
   "metadata": {},
   "outputs": [
    {
     "data": {
      "text/plain": [
       "18.054187210779816"
      ]
     },
     "execution_count": 67,
     "metadata": {},
     "output_type": "execute_result"
    }
   ],
   "source": [
    "age_asd[cons_res_no_harm.S==2].mean()"
   ]
  },
  {
   "cell_type": "code",
   "execution_count": 91,
   "metadata": {},
   "outputs": [
    {
     "name": "stdout",
     "output_type": "stream",
     "text": [
      "F_onewayResult(statistic=15.932507169243921, pvalue=1.602222848450456e-07)\n",
      "F_onewayResult(statistic=1.0933734201269356, pvalue=0.3355495323887677)\n"
     ]
    }
   ],
   "source": [
    "from scipy.stats import f_oneway, kruskal\n",
    "print(f_oneway(*[age_asd[cons_res_no_harm.S==1],age_asd[cons_res_no_harm.S==2], age_asd[cons_res_no_harm.S==3]]))\n",
    "print(f_oneway(*[age_asd[cons_res_harm.S==1],age_asd[cons_res_harm.S==2], age_asd[cons_res_harm.S==3]]))"
   ]
  },
  {
   "cell_type": "code",
   "execution_count": 88,
   "metadata": {},
   "outputs": [],
   "source": [
    "viq = pd.merge(pd.DataFrame({\"SUB_ID\":asd_subjects}), demo_data, on=[\"SUB_ID\"]).VIQ\n",
    "fiq = pd.merge(pd.DataFrame({\"SUB_ID\":asd_subjects}), demo_data, on=[\"SUB_ID\"]).FIQ\n",
    "piq = pd.merge(pd.DataFrame({\"SUB_ID\":asd_subjects}), demo_data, on=[\"SUB_ID\"]).PIQ"
   ]
  },
  {
   "cell_type": "code",
   "execution_count": 89,
   "metadata": {},
   "outputs": [
    {
     "name": "stdout",
     "output_type": "stream",
     "text": [
      "F_onewayResult(statistic=0.07078949761354791, pvalue=0.9316646850851478)\n",
      "F_onewayResult(statistic=0.027390303504665103, pvalue=0.9729823149654404)\n",
      "F_onewayResult(statistic=0.13080694692573847, pvalue=0.8774082203819756)\n"
     ]
    }
   ],
   "source": [
    "print(f_oneway(*[viq[cons_res_no_harm.S==(ii+1)].dropna() for ii in range(3)]))\n",
    "print(f_oneway(*[fiq[cons_res_no_harm.S==(ii+1)].dropna() for ii in range(3)]))\n",
    "print(f_oneway(*[piq[cons_res_no_harm.S==(ii+1)].dropna() for ii in range(3)]))"
   ]
  },
  {
   "cell_type": "code",
   "execution_count": 94,
   "metadata": {},
   "outputs": [
    {
     "name": "stdout",
     "output_type": "stream",
     "text": [
      " kruskal-wallis of AGE_AT_SCAN across modules = 0.00000\n",
      " kruskal-wallis of DSM_IV_TR across modules = 0.02142\n",
      " kruskal-wallis of FIQ across modules = 0.84099\n",
      " kruskal-wallis of VIQ across modules = 0.69811\n",
      " kruskal-wallis of PIQ across modules = 0.73058\n",
      " kruskal-wallis of ADI_R_SOCIAL_TOTAL_A across modules = 0.31577\n",
      " kruskal-wallis of ADI_R_VERBAL_TOTAL_BV across modules = 0.26046\n"
     ]
    }
   ],
   "source": [
    "float_columns = demo_data.select_dtypes(float).columns\n",
    "\n",
    "p_columns=[]\n",
    "for column in float_columns:\n",
    "    temp = pd.merge(pd.DataFrame({\"SUB_ID\":asd_subjects}), demo_data, on=[\"SUB_ID\"]).loc[:, column]\n",
    "    \n",
    "    f, p = kruskal(*[temp.loc[cons_res_no_harm.S==(ii+1)].dropna() for ii in range(3)])\n",
    "    print(\" kruskal-wallis of %s across modules = %.5f\" %(column, p))"
   ]
  },
  {
   "cell_type": "code",
   "execution_count": 147,
   "metadata": {},
   "outputs": [],
   "source": [
    "from joblib import Parallel, delayed"
   ]
  },
  {
   "cell_type": "code",
   "execution_count": 227,
   "metadata": {},
   "outputs": [],
   "source": [
    "def gower(D): \n",
    "    # Convert distance object to matrix form\n",
    "    #D = as.matrix(D)\n",
    "\n",
    "    # Dimensionality of distance matrix\n",
    "    n = int(D.shape[0])\n",
    "\n",
    "    # Create Gower's symmetry matrix (Gower, 1966)\n",
    "    A = -0.5*np.square(D)\n",
    "\n",
    "    # Subtract column means As = (I - 1/n * 11\")A\n",
    "    As = A - np.outer(np.ones(n),  A.mean(0))\n",
    "    #Substract row\n",
    "    G = As - np.outer(As.mean(1), np.ones(n))\n",
    "\n",
    "    return G\n",
    "\n",
    "def hat_matrix(X):\n",
    "    \"\"\"\n",
    "    Calculates distance-based hat matrix for an NxM matrix of M predictors from\n",
    "    N variables. Adds the intercept term for you.\n",
    "    \"\"\"\n",
    "    n = X.shape[0]\n",
    "    \n",
    "    \n",
    "    X = np.column_stack((np.ones(n), X)) # add intercept\n",
    "    \n",
    "    XXT = np.matmul(X.T, X)\n",
    "    XXT_inv = np.linalg.inv(XXT)\n",
    "    \n",
    "    H = np.matmul(np.matmul(X, XXT_inv), X.T)\n",
    "\n",
    "    return H\n",
    "\n",
    "def compute_SSB(H, G, df1):\n",
    "    trace_HG = np.trace(np.matmul(H, G))\n",
    "    return trace_HG/df1\n",
    "    \n",
    "def compute_SSW(H, G, df2):\n",
    "    trace_HG = np.trace(np.matmul(H, G))\n",
    "    trace_G  = np.trace(G)\n",
    "\n",
    "    return (trace_G - trace_HG )/df2\n",
    "\n",
    "def design_matrices(df):\n",
    "    \n",
    "    X_list = []\n",
    "    for ii in  range(df.shape[1]):\n",
    "        #TODO: category gives error\n",
    "        if (df.iloc[:, ii].dtype=='object'):\n",
    "            X_list.append(pd.get_dummies(df.iloc[:, ii], \n",
    "                                         drop_first=True).values)\n",
    "        else:\n",
    "            X_list.append(df.iloc[:, ii].values[:, np.newaxis])\n",
    "            \n",
    "    return X_list\n",
    "\n",
    "def mdmr(X, D, n_perm=100):\n",
    "    H = hat_matrix(X)\n",
    "    \n",
    "    #omnibus effect \n",
    "    \n",
    "    # Computational trick: H is idempotent, so H = HH. tr(ABC) = tr(CAB), so\n",
    "    # tr(HGH) = tr(HHG) = tr(HG). Also, tr(AB) = vec(A)\"vec(B), so\n",
    "    trHG = np.matmul(H.flatten().T, G.flatten())\n",
    "\n",
    "    # Numerical trick: tr((I-H)G(I-H)) = tr(G) - tr(HGH), so\n",
    "    trG  = np.trace(G)\n",
    "    \n",
    "    F = trHG/(trG - trHG )\n",
    "\n",
    "class MDMR(object):\n",
    "    \n",
    "    def __init__(self, n_perms = 100, random_state=None, n_jobs = None):\n",
    "        self.n_perms = n_perms\n",
    "        self.random_state = random_state\n",
    "        self.n_jobs = n_jobs\n",
    "        \n",
    "    def fit(self, X_df, D, G=None):\n",
    "         \n",
    "        #TODO: Check D symmetrical and convert to numpy\n",
    "        \n",
    "        # Compute Gower matrix and its trace for later\n",
    "        if G is None:\n",
    "            G = gower(D)\n",
    "        trG = np.trace(G)\n",
    "        \n",
    "        # Check input is a dataframe\n",
    "        if isinstance(X_df, pd.DataFrame) is False:\n",
    "            raise AttributeError(\"Input data must be a dataframe\")\n",
    "\n",
    "        # Extract list of design matrices from the dataframe. This is done\n",
    "        # to be able to handle categorical features\n",
    "        X_list = design_matrices(X_df)\n",
    "    \n",
    "        # Full model hat matrix\n",
    "        X_full = np.column_stack(X_list)\n",
    "        \n",
    "        # N observations and m features (without intercept)\n",
    "        N, m = X_full.shape\n",
    "        \n",
    "        H_full = hat_matrix(X_full)\n",
    "        df2 = N - m\n",
    "        \n",
    "        den = compute_SSW(H_full, G, df2) \n",
    "        \n",
    "        # Compute SSB for full model (omnibus)\n",
    "        num_omni = compute_SSB(H_full, G, m)\n",
    "        \n",
    "        # Compute F and R2 for omnibus model\n",
    "        self.F_omni_ = num_omni/den\n",
    "        self.r2_omni_ = num_omni*m/trG\n",
    "\n",
    "        # Compute differences between H and defreees of freedom\n",
    "        H_list = []\n",
    "        for ii in range(len(X_list)):\n",
    "            temp = X_list.copy()\n",
    "            temp.pop(ii)\n",
    "            if temp:\n",
    "                H_ii = H_full - hat_matrix(np.column_stack(temp))\n",
    "            else:\n",
    "                H_ii = H_full \n",
    "            H_list.append(H_ii)\n",
    "            \n",
    "        # Compute degrees of freedom\n",
    "        df1_list = []\n",
    "        for X in X_list:\n",
    "            m_ii = X.shape[1]\n",
    "            df1_list.append(m_ii)\n",
    "        \n",
    "        # Compute SSB for each column\n",
    "        num_x = Parallel(n_jobs=self.n_jobs)(delayed(compute_SSB)(H, G, df1) for \\\n",
    "                                           (H, df1) in zip(H_list, df1_list))            \n",
    "        num_x = np.array(num_x)\n",
    "            \n",
    "        self.F_ = num_x/den\n",
    "        # pseudo R2.Note that we have to multiply by the degrees of freedom\n",
    "        self.r2_ = np.multiply(num_x, np.array(df1_list))/trG\n",
    "\n",
    "       "
   ]
  },
  {
   "cell_type": "code",
   "execution_count": 208,
   "metadata": {},
   "outputs": [],
   "source": [
    "demo_cluster = pd.merge(pd.DataFrame({\"SUB_ID\":subjects}), demo_data, on=[\"SUB_ID\"])"
   ]
  },
  {
   "cell_type": "code",
   "execution_count": 209,
   "metadata": {},
   "outputs": [],
   "source": [
    "demo_cluster.loc[:,'clus_id'] = 0"
   ]
  },
  {
   "cell_type": "code",
   "execution_count": 210,
   "metadata": {},
   "outputs": [],
   "source": [
    "for ii in cons_res_no_harm.S:    \n",
    "    demo_cluster.loc[1010 + np.where(cons_res_no_harm.S==ii)[0],'clus_id'] = ii"
   ]
  },
  {
   "cell_type": "code",
   "execution_count": 211,
   "metadata": {},
   "outputs": [
    {
     "data": {
      "text/plain": [
       "0    1010\n",
       "3     482\n",
       "2     218\n",
       "1     170\n",
       "4       9\n",
       "5       1\n",
       "Name: clus_id, dtype: int64"
      ]
     },
     "execution_count": 211,
     "metadata": {},
     "output_type": "execute_result"
    }
   ],
   "source": [
    "demo_cluster.clus_id.value_counts()"
   ]
  },
  {
   "cell_type": "code",
   "execution_count": 212,
   "metadata": {},
   "outputs": [],
   "source": [
    "vars_interest = ['clus_id', 'AGE_AT_SCAN', 'SEX',  'FIQ', 'VIQ', 'PIQ']"
   ]
  },
  {
   "cell_type": "code",
   "execution_count": 213,
   "metadata": {},
   "outputs": [],
   "source": [
    "to_take = ~np.any(demo_cluster.loc[:, vars_interest].isna(), axis=1).values"
   ]
  },
  {
   "cell_type": "code",
   "execution_count": 214,
   "metadata": {},
   "outputs": [],
   "source": [
    "CC_no_harm = np.array([squareform(Y[ii,:]) + np.identity(86) for ii in range(Y.shape[0])])"
   ]
  },
  {
   "cell_type": "code",
   "execution_count": 215,
   "metadata": {},
   "outputs": [],
   "source": [
    "X_df = demo_cluster.loc[to_take, vars_interest]\n",
    "YY = CC_no_harm[to_take, :, :]"
   ]
  },
  {
   "cell_type": "code",
   "execution_count": 201,
   "metadata": {},
   "outputs": [],
   "source": [
    "#np.savez_compressed('../data/mdmr_no_harm.npz', YY = YY, XX = X_df)"
   ]
  },
  {
   "cell_type": "code",
   "execution_count": 216,
   "metadata": {},
   "outputs": [
    {
     "data": {
      "text/plain": [
       "0    770\n",
       "3    359\n",
       "2    167\n",
       "1    136\n",
       "4      8\n",
       "Name: clus_id, dtype: int64"
      ]
     },
     "execution_count": 216,
     "metadata": {},
     "output_type": "execute_result"
    }
   ],
   "source": [
    "X_df.clus_id.value_counts()"
   ]
  },
  {
   "cell_type": "code",
   "execution_count": 158,
   "metadata": {},
   "outputs": [],
   "source": [
    "#X_df['clus_id'] = X_df['clus_id'].astype(str)\n",
    "#X_df['SEX'] = X_df['SEX'].astype(str)"
   ]
  },
  {
   "cell_type": "code",
   "execution_count": 206,
   "metadata": {},
   "outputs": [
    {
     "data": {
      "text/plain": [
       "(1440, 86, 86)"
      ]
     },
     "execution_count": 206,
     "metadata": {},
     "output_type": "execute_result"
    }
   ],
   "source": [
    "YY.shape"
   ]
  },
  {
   "cell_type": "code",
   "execution_count": 228,
   "metadata": {},
   "outputs": [],
   "source": [
    "res_F_df = pd.DataFrame({})\n",
    "for jj in np.arange(1, 4):\n",
    "    list_Fs = []\n",
    "    cond = (X_df.clus_id==0) | (X_df.clus_id==jj)\n",
    "    \n",
    "    XX = X_df.loc[cond,:]\n",
    "    \n",
    "    for ii in range(YY.shape[1]):\n",
    "\n",
    "            D = squareform(np.sqrt(2*pdist(YY[cond, ii, :], 'correlation')))\n",
    "            mdmr = MDMR()\n",
    "            mdmr.fit(XX, D)\n",
    "            list_Fs.append(mdmr.F_[0])\n",
    "            \n",
    "    res_F_df['clus_' + str(jj)] = list_Fs"
   ]
  },
  {
   "cell_type": "code",
   "execution_count": 230,
   "metadata": {},
   "outputs": [
    {
     "data": {
      "text/plain": [
       "(1129, 6)"
      ]
     },
     "execution_count": 230,
     "metadata": {},
     "output_type": "execute_result"
    }
   ],
   "source": [
    "XX.shape"
   ]
  },
  {
   "cell_type": "code",
   "execution_count": 236,
   "metadata": {},
   "outputs": [
    {
     "data": {
      "text/html": [
       "<div>\n",
       "<style scoped>\n",
       "    .dataframe tbody tr th:only-of-type {\n",
       "        vertical-align: middle;\n",
       "    }\n",
       "\n",
       "    .dataframe tbody tr th {\n",
       "        vertical-align: top;\n",
       "    }\n",
       "\n",
       "    .dataframe thead th {\n",
       "        text-align: right;\n",
       "    }\n",
       "</style>\n",
       "<table border=\"1\" class=\"dataframe\">\n",
       "  <thead>\n",
       "    <tr style=\"text-align: right;\">\n",
       "      <th></th>\n",
       "      <th>clus_1</th>\n",
       "      <th>clus_2</th>\n",
       "      <th>clus_3</th>\n",
       "    </tr>\n",
       "  </thead>\n",
       "  <tbody>\n",
       "    <tr>\n",
       "      <th>0</th>\n",
       "      <td>26.692526</td>\n",
       "      <td>9.066575</td>\n",
       "      <td>2.932128</td>\n",
       "    </tr>\n",
       "    <tr>\n",
       "      <th>1</th>\n",
       "      <td>9.596232</td>\n",
       "      <td>16.705837</td>\n",
       "      <td>2.463054</td>\n",
       "    </tr>\n",
       "    <tr>\n",
       "      <th>2</th>\n",
       "      <td>14.655098</td>\n",
       "      <td>16.880814</td>\n",
       "      <td>9.566029</td>\n",
       "    </tr>\n",
       "    <tr>\n",
       "      <th>3</th>\n",
       "      <td>19.747739</td>\n",
       "      <td>5.642910</td>\n",
       "      <td>3.382138</td>\n",
       "    </tr>\n",
       "    <tr>\n",
       "      <th>4</th>\n",
       "      <td>9.120115</td>\n",
       "      <td>9.167111</td>\n",
       "      <td>8.863810</td>\n",
       "    </tr>\n",
       "    <tr>\n",
       "      <th>...</th>\n",
       "      <td>...</td>\n",
       "      <td>...</td>\n",
       "      <td>...</td>\n",
       "    </tr>\n",
       "    <tr>\n",
       "      <th>81</th>\n",
       "      <td>22.827710</td>\n",
       "      <td>5.813969</td>\n",
       "      <td>5.062552</td>\n",
       "    </tr>\n",
       "    <tr>\n",
       "      <th>82</th>\n",
       "      <td>26.022973</td>\n",
       "      <td>16.792641</td>\n",
       "      <td>7.561432</td>\n",
       "    </tr>\n",
       "    <tr>\n",
       "      <th>83</th>\n",
       "      <td>43.114282</td>\n",
       "      <td>11.550613</td>\n",
       "      <td>7.084193</td>\n",
       "    </tr>\n",
       "    <tr>\n",
       "      <th>84</th>\n",
       "      <td>23.404453</td>\n",
       "      <td>9.382862</td>\n",
       "      <td>2.899048</td>\n",
       "    </tr>\n",
       "    <tr>\n",
       "      <th>85</th>\n",
       "      <td>32.675967</td>\n",
       "      <td>22.227890</td>\n",
       "      <td>6.023392</td>\n",
       "    </tr>\n",
       "  </tbody>\n",
       "</table>\n",
       "<p>86 rows × 3 columns</p>\n",
       "</div>"
      ],
      "text/plain": [
       "       clus_1     clus_2    clus_3\n",
       "0   26.692526   9.066575  2.932128\n",
       "1    9.596232  16.705837  2.463054\n",
       "2   14.655098  16.880814  9.566029\n",
       "3   19.747739   5.642910  3.382138\n",
       "4    9.120115   9.167111  8.863810\n",
       "..        ...        ...       ...\n",
       "81  22.827710   5.813969  5.062552\n",
       "82  26.022973  16.792641  7.561432\n",
       "83  43.114282  11.550613  7.084193\n",
       "84  23.404453   9.382862  2.899048\n",
       "85  32.675967  22.227890  6.023392\n",
       "\n",
       "[86 rows x 3 columns]"
      ]
     },
     "execution_count": 236,
     "metadata": {},
     "output_type": "execute_result"
    }
   ],
   "source": [
    "res_F_df"
   ]
  },
  {
   "cell_type": "code",
   "execution_count": 237,
   "metadata": {},
   "outputs": [],
   "source": [
    "res_F_df.to_csv(\"../data/mdmr_cluster_stats_no_harm.csv\")"
   ]
  },
  {
   "cell_type": "code",
   "execution_count": 240,
   "metadata": {},
   "outputs": [],
   "source": [
    "res_F_df_harm = pd.read_csv(\"../data/mdmr_clusters_healthy_stats.csv\")"
   ]
  },
  {
   "cell_type": "code",
   "execution_count": 250,
   "metadata": {},
   "outputs": [
    {
     "data": {
      "text/plain": [
       "0.9051476462686716"
      ]
     },
     "execution_count": 250,
     "metadata": {},
     "output_type": "execute_result"
    }
   ],
   "source": [
    "np.corrcoef(res_F_df_harm.iloc[:, 1].values, res_F_df.iloc[:, 0].values)[0,1]"
   ]
  },
  {
   "cell_type": "code",
   "execution_count": 252,
   "metadata": {},
   "outputs": [
    {
     "data": {
      "text/plain": [
       "0.9276671097817923"
      ]
     },
     "execution_count": 252,
     "metadata": {},
     "output_type": "execute_result"
    }
   ],
   "source": [
    "np.corrcoef(res_F_df_harm.iloc[:, 2].values, res_F_df.iloc[:, 1].values)[0,1]"
   ]
  },
  {
   "cell_type": "code",
   "execution_count": 254,
   "metadata": {},
   "outputs": [
    {
     "data": {
      "text/plain": [
       "0.9521951430758964"
      ]
     },
     "execution_count": 254,
     "metadata": {},
     "output_type": "execute_result"
    }
   ],
   "source": [
    "np.corrcoef(res_F_df_harm.iloc[:, 3].values, res_F_df.iloc[:, 2].values)[0,1]"
   ]
  },
  {
   "cell_type": "code",
   "execution_count": null,
   "metadata": {},
   "outputs": [],
   "source": []
  }
 ],
 "metadata": {
  "kernelspec": {
   "display_name": "Python 3",
   "language": "python",
   "name": "python3"
  },
  "language_info": {
   "codemirror_mode": {
    "name": "ipython",
    "version": 3
   },
   "file_extension": ".py",
   "mimetype": "text/x-python",
   "name": "python",
   "nbconvert_exporter": "python",
   "pygments_lexer": "ipython3",
   "version": "3.8.5"
  }
 },
 "nbformat": 4,
 "nbformat_minor": 4
}
