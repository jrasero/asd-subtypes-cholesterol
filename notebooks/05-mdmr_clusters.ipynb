{
 "cells": [
  {
   "cell_type": "code",
   "execution_count": 1,
   "metadata": {},
   "outputs": [],
   "source": [
    "import os\n",
    "import numpy as np\n",
    "import pandas as pd\n",
    "from scipy.io import loadmat\n",
    "import json\n",
    "import matplotlib.pylab as plt\n",
    "import numpy as np\n",
    "from joblib import Parallel, delayed"
   ]
  },
  {
   "cell_type": "markdown",
   "metadata": {},
   "source": [
    "Load the combat data"
   ]
  },
  {
   "cell_type": "code",
   "execution_count": 3,
   "metadata": {},
   "outputs": [],
   "source": [
    "data_after_combat = np.load('../data/data_after_combat.npz')\n",
    "demo_cluster = pd.read_excel(\"../data/pheno_w_clusters.xlsx\")"
   ]
  },
  {
   "cell_type": "code",
   "execution_count": 4,
   "metadata": {},
   "outputs": [],
   "source": [
    "CC_adjust = data_after_combat['CC_adjust']\n",
    "subjects = data_after_combat['subjects']\n",
    "age = data_after_combat['age']\n",
    "sex = data_after_combat['sex']\n",
    "group = data_after_combat['group']"
   ]
  },
  {
   "cell_type": "code",
   "execution_count": 5,
   "metadata": {},
   "outputs": [
    {
     "data": {
      "text/plain": [
       "(1890, 86, 86)"
      ]
     },
     "execution_count": 5,
     "metadata": {},
     "output_type": "execute_result"
    }
   ],
   "source": [
    "CC_adjust.shape"
   ]
  },
  {
   "cell_type": "markdown",
   "metadata": {},
   "source": [
    "Load computed cluster"
   ]
  },
  {
   "cell_type": "code",
   "execution_count": 6,
   "metadata": {},
   "outputs": [],
   "source": [
    "n_rois = CC_adjust.shape[1]"
   ]
  },
  {
   "cell_type": "code",
   "execution_count": 7,
   "metadata": {},
   "outputs": [],
   "source": [
    "def gower(D): \n",
    "    # Convert distance object to matrix form\n",
    "    #D = as.matrix(D)\n",
    "\n",
    "    # Dimensionality of distance matrix\n",
    "    n = int(D.shape[0])\n",
    "\n",
    "    # Create Gower's symmetry matrix (Gower, 1966)\n",
    "    A = -0.5*np.square(D)\n",
    "\n",
    "    # Subtract column means As = (I - 1/n * 11\")A\n",
    "    As = A - np.outer(np.ones(n),  A.mean(0))\n",
    "    #Substract row\n",
    "    G = As - np.outer(As.mean(1), np.ones(n))\n",
    "\n",
    "    return G\n",
    "\n",
    "def hat_matrix(X):\n",
    "    \"\"\"\n",
    "    Calculates distance-based hat matrix for an NxM matrix of M predictors from\n",
    "    N variables. Adds the intercept term for you.\n",
    "    \"\"\"\n",
    "    n = X.shape[0]\n",
    "    \n",
    "    \n",
    "    X = np.column_stack((np.ones(n), X)) # add intercept\n",
    "    \n",
    "    XXT = np.matmul(X.T, X)\n",
    "    XXT_inv = np.linalg.inv(XXT)\n",
    "    \n",
    "    H = np.matmul(np.matmul(X, XXT_inv), X.T)\n",
    "\n",
    "    return H\n",
    "\n",
    "def compute_SSB(H, G, df1):\n",
    "    trace_HG = np.trace(np.matmul(H, G))\n",
    "    return trace_HG/df1\n",
    "    \n",
    "def compute_SSW(H, G, df2):\n",
    "    trace_HG = np.trace(np.matmul(H, G))\n",
    "    trace_G  = np.trace(G)\n",
    "\n",
    "    return (trace_G - trace_HG )/df2\n",
    "\n",
    "def design_matrices(df):\n",
    "    \n",
    "    X_list = []\n",
    "    for ii in  range(df.shape[1]):\n",
    "        #TODO: category gives error\n",
    "        if (df.iloc[:, ii].dtype=='object'):\n",
    "            X_list.append(pd.get_dummies(df.iloc[:, ii], \n",
    "                                         drop_first=True).values)\n",
    "        else:\n",
    "            X_list.append(df.iloc[:, ii].values[:, np.newaxis])\n",
    "            \n",
    "    return X_list\n",
    "\n",
    "def mdmr(X, D, n_perm=100):\n",
    "    H = hat_matrix(X)\n",
    "    \n",
    "    #omnibus effect \n",
    "    \n",
    "    # Computational trick: H is idempotent, so H = HH. tr(ABC) = tr(CAB), so\n",
    "    # tr(HGH) = tr(HHG) = tr(HG). Also, tr(AB) = vec(A)\"vec(B), so\n",
    "    trHG = np.matmul(H.flatten().T, G.flatten())\n",
    "\n",
    "    # Numerical trick: tr((I-H)G(I-H)) = tr(G) - tr(HGH), so\n",
    "    trG  = np.trace(G)\n",
    "    \n",
    "    F = trHG/(trG - trHG )\n",
    "\n",
    "class MDMR(object):\n",
    "    \n",
    "    def __init__(self, n_perms = 100, random_state=None, n_jobs = None):\n",
    "        self.n_perms = n_perms\n",
    "        self.random_state = random_state\n",
    "        self.n_jobs = n_jobs\n",
    "        \n",
    "    def fit(self, X_df, D, G=None):\n",
    "         \n",
    "        #TODO: Check D symmetrical and convert to numpy\n",
    "        \n",
    "        # Compute Gower matrix and its trace for later\n",
    "        if G is None:\n",
    "            G = gower(D)\n",
    "        trG = np.trace(G)\n",
    "        \n",
    "        # Check input is a dataframe\n",
    "        if isinstance(X_df, pd.DataFrame) is False:\n",
    "            raise AttributeError(\"Input data must be a dataframe\")\n",
    "\n",
    "        # Extract list of design matrices from the dataframe. This is done\n",
    "        # to be able to handle categorical features\n",
    "        X_list = design_matrices(X_df)\n",
    "    \n",
    "        # Full model hat matrix\n",
    "        X_full = np.column_stack(X_list)\n",
    "        \n",
    "        # N observations and m features (without intercept)\n",
    "        N, m = X_full.shape\n",
    "        \n",
    "        H_full = hat_matrix(X_full)\n",
    "        df2 = N - m\n",
    "        \n",
    "        den = compute_SSW(H_full, G, df2) \n",
    "        \n",
    "        # Compute SSB for full model (omnibus)\n",
    "        num_omni = compute_SSB(H_full, G, m)\n",
    "        \n",
    "        # Compute F and R2 for omnibus model\n",
    "        self.F_omni_ = num_omni/den\n",
    "        self.r2_omni_ = num_omni*m/trG\n",
    "\n",
    "        # Compute differences between H and defreees of freedom\n",
    "        H_list = []\n",
    "        for ii in range(len(X_list)):\n",
    "            temp = X_list.copy()\n",
    "            temp.pop(ii)\n",
    "            if temp:\n",
    "                H_ii = H_full - hat_matrix(np.column_stack(temp))\n",
    "            else:\n",
    "                H_ii = H_full \n",
    "            H_list.append(H_ii)\n",
    "            \n",
    "        # Compute degrees of freedom\n",
    "        df1_list = []\n",
    "        for X in X_list:\n",
    "            m_ii = X.shape[1]\n",
    "            df1_list.append(m_ii)\n",
    "        \n",
    "        # Compute SSB for each column\n",
    "        num_x = Parallel(n_jobs=self.n_jobs)(delayed(compute_SSB)(H, G, df1) for \\\n",
    "                                           (H, df1) in zip(H_list, df1_list))            \n",
    "        num_x = np.array(num_x)\n",
    "            \n",
    "        self.F_ = num_x/den\n",
    "        # pseudo R2.Note that we have to multiply by the degrees of freedom\n",
    "        self.r2_ = np.multiply(num_x, np.array(df1_list))/trG\n",
    "\n",
    "       "
   ]
  },
  {
   "cell_type": "code",
   "execution_count": 8,
   "metadata": {},
   "outputs": [],
   "source": [
    "from scipy.spatial.distance import pdist, squareform"
   ]
  },
  {
   "cell_type": "markdown",
   "metadata": {},
   "source": [
    "First, compute stats"
   ]
  },
  {
   "cell_type": "code",
   "execution_count": 9,
   "metadata": {},
   "outputs": [],
   "source": [
    "vars_interest = ['DX_GROUP', 'AGE_AT_SCAN', 'SEX',  'FIQ', 'VIQ', 'PIQ']"
   ]
  },
  {
   "cell_type": "code",
   "execution_count": 10,
   "metadata": {},
   "outputs": [],
   "source": [
    "to_take = ~np.any(demo_cluster.loc[:, vars_interest].isna(), axis=1).values"
   ]
  },
  {
   "cell_type": "code",
   "execution_count": 11,
   "metadata": {},
   "outputs": [],
   "source": [
    "X_df = demo_cluster.loc[to_take, vars_interest]\n",
    "YY = CC_adjust[to_take, :, :]"
   ]
  },
  {
   "cell_type": "code",
   "execution_count": 12,
   "metadata": {},
   "outputs": [],
   "source": [
    "X_df['DX_GROUP'] = X_df['DX_GROUP'].astype(str)\n",
    "X_df['SEX'] = X_df['SEX'].astype(str)"
   ]
  },
  {
   "cell_type": "code",
   "execution_count": 13,
   "metadata": {},
   "outputs": [
    {
     "data": {
      "text/html": [
       "<div>\n",
       "<style scoped>\n",
       "    .dataframe tbody tr th:only-of-type {\n",
       "        vertical-align: middle;\n",
       "    }\n",
       "\n",
       "    .dataframe tbody tr th {\n",
       "        vertical-align: top;\n",
       "    }\n",
       "\n",
       "    .dataframe thead th {\n",
       "        text-align: right;\n",
       "    }\n",
       "</style>\n",
       "<table border=\"1\" class=\"dataframe\">\n",
       "  <thead>\n",
       "    <tr style=\"text-align: right;\">\n",
       "      <th></th>\n",
       "      <th>DX_GROUP</th>\n",
       "      <th>AGE_AT_SCAN</th>\n",
       "      <th>SEX</th>\n",
       "      <th>FIQ</th>\n",
       "      <th>VIQ</th>\n",
       "      <th>PIQ</th>\n",
       "    </tr>\n",
       "  </thead>\n",
       "  <tbody>\n",
       "    <tr>\n",
       "      <th>0</th>\n",
       "      <td>2</td>\n",
       "      <td>44.2</td>\n",
       "      <td>1</td>\n",
       "      <td>104.0</td>\n",
       "      <td>113.0</td>\n",
       "      <td>94.0</td>\n",
       "    </tr>\n",
       "    <tr>\n",
       "      <th>1</th>\n",
       "      <td>2</td>\n",
       "      <td>39.3</td>\n",
       "      <td>1</td>\n",
       "      <td>123.0</td>\n",
       "      <td>127.0</td>\n",
       "      <td>112.0</td>\n",
       "    </tr>\n",
       "    <tr>\n",
       "      <th>2</th>\n",
       "      <td>2</td>\n",
       "      <td>42.5</td>\n",
       "      <td>1</td>\n",
       "      <td>97.0</td>\n",
       "      <td>85.0</td>\n",
       "      <td>109.0</td>\n",
       "    </tr>\n",
       "    <tr>\n",
       "      <th>3</th>\n",
       "      <td>2</td>\n",
       "      <td>19.7</td>\n",
       "      <td>1</td>\n",
       "      <td>116.0</td>\n",
       "      <td>117.0</td>\n",
       "      <td>116.0</td>\n",
       "    </tr>\n",
       "    <tr>\n",
       "      <th>4</th>\n",
       "      <td>2</td>\n",
       "      <td>20.0</td>\n",
       "      <td>2</td>\n",
       "      <td>111.0</td>\n",
       "      <td>110.0</td>\n",
       "      <td>109.0</td>\n",
       "    </tr>\n",
       "  </tbody>\n",
       "</table>\n",
       "</div>"
      ],
      "text/plain": [
       "  DX_GROUP  AGE_AT_SCAN SEX    FIQ    VIQ    PIQ\n",
       "0        2         44.2   1  104.0  113.0   94.0\n",
       "1        2         39.3   1  123.0  127.0  112.0\n",
       "2        2         42.5   1   97.0   85.0  109.0\n",
       "3        2         19.7   1  116.0  117.0  116.0\n",
       "4        2         20.0   2  111.0  110.0  109.0"
      ]
     },
     "execution_count": 13,
     "metadata": {},
     "output_type": "execute_result"
    }
   ],
   "source": [
    "X_df.head()"
   ]
  },
  {
   "cell_type": "code",
   "execution_count": 15,
   "metadata": {},
   "outputs": [
    {
     "ename": "ModuleNotFoundError",
     "evalue": "No module named 'mdmr'",
     "output_type": "error",
     "traceback": [
      "\u001b[0;31m---------------------------------------------------------------------------\u001b[0m",
      "\u001b[0;31mModuleNotFoundError\u001b[0m                       Traceback (most recent call last)",
      "\u001b[0;32m<ipython-input-15-2edebbfba824>\u001b[0m in \u001b[0;36m<module>\u001b[0;34m\u001b[0m\n\u001b[0;32m----> 1\u001b[0;31m \u001b[0;32mfrom\u001b[0m \u001b[0mmdmr\u001b[0m \u001b[0;32mimport\u001b[0m \u001b[0mMDMR\u001b[0m\u001b[0;34m\u001b[0m\u001b[0;34m\u001b[0m\u001b[0m\n\u001b[0m\u001b[1;32m      2\u001b[0m \u001b[0;32mfrom\u001b[0m \u001b[0mscipy\u001b[0m\u001b[0;34m.\u001b[0m\u001b[0mspatial\u001b[0m\u001b[0;34m.\u001b[0m\u001b[0mdistance\u001b[0m \u001b[0;32mimport\u001b[0m \u001b[0msquareform\u001b[0m\u001b[0;34m,\u001b[0m \u001b[0mpdist\u001b[0m\u001b[0;34m\u001b[0m\u001b[0;34m\u001b[0m\u001b[0m\n",
      "\u001b[0;31mModuleNotFoundError\u001b[0m: No module named 'mdmr'"
     ]
    }
   ],
   "source": [
    "from mdmr import MDMR\n",
    "from scipy.spatial.distance import squareform, pdist"
   ]
  },
  {
   "cell_type": "code",
   "execution_count": 57,
   "metadata": {},
   "outputs": [],
   "source": [
    "# save\n",
    "pd.DataFrame({\"F_tdc_asd\":np.array(list_Fs)}).to_csv(\"../data/F_tdc_asd.csv\", index=False)"
   ]
  },
  {
   "cell_type": "code",
   "execution_count": 63,
   "metadata": {},
   "outputs": [
    {
     "data": {
      "text/plain": [
       "[0.4580804278064599, 0.7587678867393802, 0.40477849395603344]"
      ]
     },
     "execution_count": 63,
     "metadata": {},
     "output_type": "execute_result"
    }
   ],
   "source": [
    "[np.corrcoef(pd.read_csv(\"../data/mdmr_clusters_healthy_stats.csv\").iloc[:, ii].values, \n",
    "             np.array(list_Fs))[0,1] for ii in range(1, 4)]"
   ]
  },
  {
   "cell_type": "code",
   "execution_count": 22,
   "metadata": {},
   "outputs": [],
   "source": [
    "import pandas as pd\n",
    "import numpy as np\n",
    "import matplotlib.pylab as plt\n",
    "import seaborn as sns"
   ]
  },
  {
   "cell_type": "code",
   "execution_count": 28,
   "metadata": {},
   "outputs": [],
   "source": [
    "from scipy.stats import spearmanr, pearsonr"
   ]
  },
  {
   "cell_type": "code",
   "execution_count": 32,
   "metadata": {},
   "outputs": [],
   "source": [
    "vars_interest = ['clus_id', 'AGE_AT_SCAN', 'SEX',  'FIQ', 'VIQ', 'PIQ']"
   ]
  },
  {
   "cell_type": "code",
   "execution_count": 33,
   "metadata": {},
   "outputs": [],
   "source": [
    "to_take = ~np.any(demo_cluster.loc[:, vars_interest].isna(), axis=1).values"
   ]
  },
  {
   "cell_type": "code",
   "execution_count": 34,
   "metadata": {},
   "outputs": [],
   "source": [
    "X_df = demo_cluster.loc[to_take, vars_interest]\n",
    "YY = CC_adjust[to_take, :, :]"
   ]
  },
  {
   "cell_type": "code",
   "execution_count": 36,
   "metadata": {},
   "outputs": [],
   "source": [
    "X_df['clus_id'] = X_df['clus_id'].astype(str)\n",
    "X_df['SEX'] = X_df['SEX'].astype(str)"
   ]
  },
  {
   "cell_type": "code",
   "execution_count": 57,
   "metadata": {
    "scrolled": true
   },
   "outputs": [],
   "source": [
    "res_F_df = pd.DataFrame({})\n",
    "res_r2_df = pd.DataFrame({})\n",
    "\n",
    "for jj in np.arange(1, 4):\n",
    "    list_Fs = []\n",
    "    list_rs = []\n",
    "    list_pv = []\n",
    "    cond = (X_df.clus_id=='0') | (X_df.clus_id==str(jj))\n",
    "    \n",
    "    XX = X_df.loc[cond,:]\n",
    "    \n",
    "    for ii in range(YY.shape[1]):\n",
    "\n",
    "            D = squareform(np.sqrt(2*pdist(YY[cond, ii, :], 'correlation')))\n",
    "            mdmr = MDMR(n_perms=None)\n",
    "            mdmr.fit(XX, D)\n",
    "            list_Fs.append(mdmr.F_[0])\n",
    "            list_rs.append(mdmr.r2_[0])\n",
    "            \n",
    "    res_F_df['clus_' + str(jj)] = list_Fs\n",
    "    res_r2_df['clus_' + str(jj)] = list_rs"
   ]
  },
  {
   "cell_type": "code",
   "execution_count": null,
   "metadata": {},
   "outputs": [],
   "source": [
    "res_F_df.to_csv('../data/mdmr_clusters_healthy_stats.csv')"
   ]
  },
  {
   "cell_type": "markdown",
   "metadata": {},
   "source": [
    "plot of stats"
   ]
  },
  {
   "cell_type": "code",
   "execution_count": 52,
   "metadata": {},
   "outputs": [],
   "source": [
    "import seaborn as sns\n",
    "current_palette=sns.color_palette('colorblind')\n",
    "colors = [current_palette[4], current_palette[1], current_palette[2]]"
   ]
  },
  {
   "cell_type": "code",
   "execution_count": 58,
   "metadata": {},
   "outputs": [
    {
     "name": "stderr",
     "output_type": "stream",
     "text": [
      "/home/javi/anaconda3/lib/python3.8/site-packages/seaborn/distributions.py:2551: FutureWarning: `distplot` is a deprecated function and will be removed in a future version. Please adapt your code to use either `displot` (a figure-level function with similar flexibility) or `kdeplot` (an axes-level function for kernel density plots).\n",
      "  warnings.warn(msg, FutureWarning)\n",
      "/home/javi/anaconda3/lib/python3.8/site-packages/seaborn/distributions.py:2055: FutureWarning: The `axis` variable is no longer used and will be removed. Instead, assign variables directly to `x` or `y`.\n",
      "  warnings.warn(msg, FutureWarning)\n",
      "/home/javi/anaconda3/lib/python3.8/site-packages/seaborn/distributions.py:2551: FutureWarning: `distplot` is a deprecated function and will be removed in a future version. Please adapt your code to use either `displot` (a figure-level function with similar flexibility) or `kdeplot` (an axes-level function for kernel density plots).\n",
      "  warnings.warn(msg, FutureWarning)\n",
      "/home/javi/anaconda3/lib/python3.8/site-packages/seaborn/distributions.py:2055: FutureWarning: The `axis` variable is no longer used and will be removed. Instead, assign variables directly to `x` or `y`.\n",
      "  warnings.warn(msg, FutureWarning)\n",
      "/home/javi/anaconda3/lib/python3.8/site-packages/seaborn/distributions.py:2551: FutureWarning: `distplot` is a deprecated function and will be removed in a future version. Please adapt your code to use either `displot` (a figure-level function with similar flexibility) or `kdeplot` (an axes-level function for kernel density plots).\n",
      "  warnings.warn(msg, FutureWarning)\n",
      "/home/javi/anaconda3/lib/python3.8/site-packages/seaborn/distributions.py:2055: FutureWarning: The `axis` variable is no longer used and will be removed. Instead, assign variables directly to `x` or `y`.\n",
      "  warnings.warn(msg, FutureWarning)\n"
     ]
    },
    {
     "data": {
      "text/plain": [
       "Text(0.5, 0, 'pseudo R-square')"
      ]
     },
     "execution_count": 58,
     "metadata": {},
     "output_type": "execute_result"
    },
    {
     "data": {
      "image/png": "[encoded data removed]",
      "text/plain": [
       "<Figure size 720x576 with 1 Axes>"
      ]
     },
     "metadata": {
      "needs_background": "light"
     },
     "output_type": "display_data"
    }
   ],
   "source": [
    "text_pos = [[0.022, 45],\n",
    "            [0.01, 70],\n",
    "            [0.008, 85]\n",
    "            ]\n",
    "\n",
    "fig, ax = plt.subplots(figsize=(10, 8))\n",
    "for ii in range(3):\n",
    "    \n",
    "    #mu, sd = res_F_df.iloc[:,ii].mean(), res_F_df.iloc[:,ii].std()\n",
    "    mu, sd = res_r2_df.iloc[:,ii].mean(), res_r2_df.iloc[:,ii].std()\n",
    "    sns.distplot(res_r2_df.iloc[:,ii], \n",
    "                 hist = False, \n",
    "                 rug=True,\n",
    "                 norm_hist=False, color=colors[ii], \n",
    "                 label=\"cluster %d\" % (ii+1), \n",
    "                 kde_kws={\"lw\": 2})\n",
    "    \n",
    "    pos = text_pos[ii]\n",
    "    ax.text(x=pos[0], y=pos[1], s = r'$\\mu$ =%.3f, $\\sigma$ =%.3f' % (mu, sd), size=15)\n",
    "#    ax.vlines(x=mu, ymin=-0.5, ymax=120)\n",
    "    \n",
    "ax.legend(prop={'size':20}, edgecolor = 'black')\n",
    "ax.tick_params(labelsize=20)\n",
    "ax.set_xlabel(\"pseudo R-square\", size=25, weight='bold')\n",
    "#plt.savefig(\"../plots/panel_d_fs.svg\", dpi=600)\n",
    "#plt.savefig(\"../plots/panel_d_fs.png\", dpi=600)"
   ]
  },
  {
   "cell_type": "code",
   "execution_count": 59,
   "metadata": {},
   "outputs": [
    {
     "name": "stderr",
     "output_type": "stream",
     "text": [
      "/home/javi/anaconda3/lib/python3.8/site-packages/seaborn/distributions.py:2551: FutureWarning: `distplot` is a deprecated function and will be removed in a future version. Please adapt your code to use either `displot` (a figure-level function with similar flexibility) or `kdeplot` (an axes-level function for kernel density plots).\n",
      "  warnings.warn(msg, FutureWarning)\n",
      "/home/javi/anaconda3/lib/python3.8/site-packages/seaborn/distributions.py:2055: FutureWarning: The `axis` variable is no longer used and will be removed. Instead, assign variables directly to `x` or `y`.\n",
      "  warnings.warn(msg, FutureWarning)\n",
      "/home/javi/anaconda3/lib/python3.8/site-packages/seaborn/distributions.py:2551: FutureWarning: `distplot` is a deprecated function and will be removed in a future version. Please adapt your code to use either `displot` (a figure-level function with similar flexibility) or `kdeplot` (an axes-level function for kernel density plots).\n",
      "  warnings.warn(msg, FutureWarning)\n",
      "/home/javi/anaconda3/lib/python3.8/site-packages/seaborn/distributions.py:2055: FutureWarning: The `axis` variable is no longer used and will be removed. Instead, assign variables directly to `x` or `y`.\n",
      "  warnings.warn(msg, FutureWarning)\n",
      "/home/javi/anaconda3/lib/python3.8/site-packages/seaborn/distributions.py:2551: FutureWarning: `distplot` is a deprecated function and will be removed in a future version. Please adapt your code to use either `displot` (a figure-level function with similar flexibility) or `kdeplot` (an axes-level function for kernel density plots).\n",
      "  warnings.warn(msg, FutureWarning)\n",
      "/home/javi/anaconda3/lib/python3.8/site-packages/seaborn/distributions.py:2055: FutureWarning: The `axis` variable is no longer used and will be removed. Instead, assign variables directly to `x` or `y`.\n",
      "  warnings.warn(msg, FutureWarning)\n"
     ]
    },
    {
     "data": {
      "image/png": "[encoded data removed]",
      "text/plain": [
       "<Figure size 720x576 with 1 Axes>"
      ]
     },
     "metadata": {
      "needs_background": "light"
     },
     "output_type": "display_data"
    }
   ],
   "source": [
    "text_pos = [[0.022, 45],\n",
    "            [0.01, 70],\n",
    "            [0.006, 125]\n",
    "            ]\n",
    "\n",
    "fig, ax = plt.subplots(figsize=(10, 8))\n",
    "for ii in range(3):\n",
    "    \n",
    "    mu, sd = res_r2_df.iloc[:,ii].mean(), res_r2_df.iloc[:,ii].std()\n",
    "    sns.distplot(res_r2_df.iloc[:,ii], \n",
    "                 hist = False,\n",
    "                 kde=True,\n",
    "                 rug=True, \n",
    "                 norm_hist=False, \n",
    "                 color=colors[ii],\n",
    "                 kde_kws={\"lw\": 2, 'shade':True})\n",
    "    \n",
    "    #pos = text_pos[ii]\n",
    "    #ax.text(x=pos[0], y=pos[1], s = r'$\\mu$ =%.3f, $\\sigma$ =%.3f' % (mu, sd), size=15)\n",
    "    #ax.vlines(x=mu, ymin=-0.5, ymax=120)\n",
    "\n",
    "#ax.vlines(x=0, ymin=-0.5, ymax=120)\n",
    "ax.tick_params(labelsize=20)\n",
    "ax.set_xlabel(\"pseudo R-squared\", size=25, weight='bold')\n",
    "ax.set_ylabel(\"Density\", size=25, weight='bold')\n",
    "ax.set_title(\"Separability w.r.t TDC\", size=35, weight='bold')\n",
    "ax.set_yticks([])\n",
    "sns.despine()\n",
    "plt.savefig(\"../plots/fig_2_panel_e.svg\", dpi=600)\n",
    "plt.savefig(\"../plots/fig_2_panel_e.png\", dpi=600)"
   ]
  },
  {
   "cell_type": "code",
   "execution_count": 61,
   "metadata": {},
   "outputs": [],
   "source": []
  }
 ],
 "metadata": {
  "kernelspec": {
   "display_name": "Python 3",
   "language": "python",
   "name": "python3"
  },
  "language_info": {
   "codemirror_mode": {
    "name": "ipython",
    "version": 3
   },
   "file_extension": ".py",
   "mimetype": "text/x-python",
   "name": "python",
   "nbconvert_exporter": "python",
   "pygments_lexer": "ipython3",
   "version": "3.8.5"
  }
 },
 "nbformat": 4,
 "nbformat_minor": 4
}
