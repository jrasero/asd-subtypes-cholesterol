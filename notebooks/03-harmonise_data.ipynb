{
 "cells": [
  {
   "cell_type": "markdown",
   "metadata": {},
   "source": [
    "In this notebook the list of distance matrices to fed into the consensus clustering algorithm are computed. In order to not cluster based on age, sex and center, we harmonise the data using pycombat, removing site, age and sex effects"
   ]
  },
  {
   "cell_type": "code",
   "execution_count": 1,
   "metadata": {},
   "outputs": [],
   "source": [
    "#IMPORTS\n",
    "import numpy as np\n",
    "import pandas as pd\n",
    "import matplotlib.pyplot as plt\n",
    "import seaborn as sns\n",
    "from os.path import join as opj\n",
    "from scipy.io import savemat, loadmat\n",
    "import os\n",
    "import pickle\n",
    "from scipy.stats import pearsonr, ttest_ind, kruskal,bartlett, levene\n",
    "from scipy.spatial.distance import squareform, pdist\n",
    "from statsmodels.stats.multitest import multipletests"
   ]
  },
  {
   "cell_type": "code",
   "execution_count": 2,
   "metadata": {},
   "outputs": [],
   "source": [
    "data_dir = \"../data\""
   ]
  },
  {
   "cell_type": "code",
   "execution_count": 3,
   "metadata": {},
   "outputs": [],
   "source": [
    "# Read ASD subjects\n",
    "\n",
    "f = open(opj(data_dir, \"subjects_subgroups.pkl\"), \"rb\")\n",
    "subjects_subgroups = pickle.load(f, encoding='utf-8')\n",
    "f.close()\n",
    "\n",
    "asd_subjects = subjects_subgroups['asd_subjs']\n",
    "td_subjects = subjects_subgroups['tc_subjs']"
   ]
  },
  {
   "cell_type": "code",
   "execution_count": 4,
   "metadata": {},
   "outputs": [],
   "source": [
    "#Concatenate subjects\n",
    "subjects = np.concatenate((td_subjects, asd_subjects))"
   ]
  },
  {
   "cell_type": "code",
   "execution_count": 5,
   "metadata": {},
   "outputs": [],
   "source": [
    "demo = pd.read_csv(opj(data_dir, \"abide_I_II_demo_clean.csv\"))"
   ]
  },
  {
   "cell_type": "code",
   "execution_count": 6,
   "metadata": {},
   "outputs": [
    {
     "name": "stdout",
     "output_type": "stream",
     "text": [
      "16.12\n",
      "9.18\n"
     ]
    }
   ],
   "source": [
    "print(np.round(pd.merge(pd.DataFrame({\"SUB_ID\":asd_subjects}), demo, on=[\"SUB_ID\"]).AGE_AT_SCAN.mean(), 2))\n",
    "print(np.round(pd.merge(pd.DataFrame({\"SUB_ID\":asd_subjects}), demo, on=[\"SUB_ID\"]).AGE_AT_SCAN.std(), 2))"
   ]
  },
  {
   "cell_type": "code",
   "execution_count": 7,
   "metadata": {},
   "outputs": [
    {
     "name": "stdout",
     "output_type": "stream",
     "text": [
      "106.32\n",
      "16.54\n"
     ]
    }
   ],
   "source": [
    "print(np.round(pd.merge(pd.DataFrame({\"SUB_ID\":asd_subjects}), demo, on=[\"SUB_ID\"]).FIQ.mean(), 2))\n",
    "print(np.round(pd.merge(pd.DataFrame({\"SUB_ID\":asd_subjects}), demo, on=[\"SUB_ID\"]).FIQ.std(), 2))"
   ]
  },
  {
   "cell_type": "code",
   "execution_count": 8,
   "metadata": {},
   "outputs": [
    {
     "data": {
      "text/plain": [
       "Ttest_indResult(statistic=-0.22239198164868654, pvalue=0.8240328075686425)"
      ]
     },
     "execution_count": 8,
     "metadata": {},
     "output_type": "execute_result"
    }
   ],
   "source": [
    "ttest_ind(pd.merge(pd.DataFrame({\"SUB_ID\":td_subjects}), demo, on=[\"SUB_ID\"]).AGE_AT_SCAN,\n",
    "          pd.merge(pd.DataFrame({\"SUB_ID\":asd_subjects}), demo, on=[\"SUB_ID\"]).AGE_AT_SCAN)"
   ]
  },
  {
   "cell_type": "code",
   "execution_count": 31,
   "metadata": {},
   "outputs": [
    {
     "data": {
      "text/plain": [
       "Index(['SUB_ID', 'Unnamed: 0', 'SITE_ID', 'DX_GROUP', 'SEX', 'AGE_AT_SCAN',\n",
       "       'DSM_IV_TR', 'FIQ', 'VIQ', 'PIQ', 'ADI_R_SOCIAL_TOTAL_A',\n",
       "       'ADI_R_VERBAL_TOTAL_BV', 'ABIDE_ID'],\n",
       "      dtype='object')"
      ]
     },
     "execution_count": 31,
     "metadata": {},
     "output_type": "execute_result"
    }
   ],
   "source": [
    "pd.merge(pd.DataFrame({\"SUB_ID\":asd_subjects}), demo, on=[\"SUB_ID\"]).columns"
   ]
  },
  {
   "cell_type": "code",
   "execution_count": 17,
   "metadata": {},
   "outputs": [
    {
     "data": {
      "text/html": [
       "<div>\n",
       "<style scoped>\n",
       "    .dataframe tbody tr th:only-of-type {\n",
       "        vertical-align: middle;\n",
       "    }\n",
       "\n",
       "    .dataframe tbody tr th {\n",
       "        vertical-align: top;\n",
       "    }\n",
       "\n",
       "    .dataframe thead th {\n",
       "        text-align: right;\n",
       "    }\n",
       "</style>\n",
       "<table border=\"1\" class=\"dataframe\">\n",
       "  <thead>\n",
       "    <tr style=\"text-align: right;\">\n",
       "      <th>SEX</th>\n",
       "      <th>1</th>\n",
       "      <th>2</th>\n",
       "    </tr>\n",
       "    <tr>\n",
       "      <th>DX_GROUP</th>\n",
       "      <th></th>\n",
       "      <th></th>\n",
       "    </tr>\n",
       "  </thead>\n",
       "  <tbody>\n",
       "    <tr>\n",
       "      <th>1</th>\n",
       "      <td>760</td>\n",
       "      <td>120</td>\n",
       "    </tr>\n",
       "    <tr>\n",
       "      <th>2</th>\n",
       "      <td>777</td>\n",
       "      <td>233</td>\n",
       "    </tr>\n",
       "  </tbody>\n",
       "</table>\n",
       "</div>"
      ],
      "text/plain": [
       "SEX         1    2\n",
       "DX_GROUP          \n",
       "1         760  120\n",
       "2         777  233"
      ]
     },
     "execution_count": 17,
     "metadata": {},
     "output_type": "execute_result"
    }
   ],
   "source": [
    "from scipy.stats import chi2_contingency\n",
    "pd.crosstab(pd.merge(pd.DataFrame({'SUB_ID': subjects}), demo).DX_GROUP,\n",
    "                             pd.merge(pd.DataFrame({'SUB_ID': subjects}), demo).SEX)"
   ]
  },
  {
   "cell_type": "code",
   "execution_count": 7,
   "metadata": {},
   "outputs": [],
   "source": [
    "n_asd = len(asd_subjects)\n",
    "n_td = len(td_subjects)"
   ]
  },
  {
   "cell_type": "code",
   "execution_count": 9,
   "metadata": {},
   "outputs": [],
   "source": [
    "# Read TS of these subjects and compute correlation matrix\n",
    "list_corrs = []\n",
    "for subj_id in subjects:\n",
    "    C_mat = pd.read_csv(opj(data_dir, \"times_series_SN\", str(subj_id) + \".txt\")).corr() # the original way, omiting the first point\n",
    "    list_corrs.append(C_mat.values)"
   ]
  },
  {
   "cell_type": "code",
   "execution_count": 11,
   "metadata": {},
   "outputs": [
    {
     "data": {
      "text/plain": [
       "86"
      ]
     },
     "execution_count": 11,
     "metadata": {},
     "output_type": "execute_result"
    }
   ],
   "source": [
    "n_rois = C_mat.shape[1]\n",
    "n_rois"
   ]
  },
  {
   "cell_type": "code",
   "execution_count": 12,
   "metadata": {},
   "outputs": [
    {
     "data": {
      "text/html": [
       "<div>\n",
       "<style scoped>\n",
       "    .dataframe tbody tr th:only-of-type {\n",
       "        vertical-align: middle;\n",
       "    }\n",
       "\n",
       "    .dataframe tbody tr th {\n",
       "        vertical-align: top;\n",
       "    }\n",
       "\n",
       "    .dataframe thead th {\n",
       "        text-align: right;\n",
       "    }\n",
       "</style>\n",
       "<table border=\"1\" class=\"dataframe\">\n",
       "  <thead>\n",
       "    <tr style=\"text-align: right;\">\n",
       "      <th></th>\n",
       "      <th>SUB_ID</th>\n",
       "      <th>Unnamed: 0</th>\n",
       "      <th>SITE_ID</th>\n",
       "      <th>DX_GROUP</th>\n",
       "      <th>SEX</th>\n",
       "      <th>AGE_AT_SCAN</th>\n",
       "      <th>DSM_IV_TR</th>\n",
       "      <th>FIQ</th>\n",
       "      <th>VIQ</th>\n",
       "      <th>PIQ</th>\n",
       "      <th>ADI_R_SOCIAL_TOTAL_A</th>\n",
       "      <th>ADI_R_VERBAL_TOTAL_BV</th>\n",
       "      <th>ABIDE_ID</th>\n",
       "    </tr>\n",
       "  </thead>\n",
       "  <tbody>\n",
       "    <tr>\n",
       "      <th>0</th>\n",
       "      <td>51475</td>\n",
       "      <td>19</td>\n",
       "      <td>CALTECH</td>\n",
       "      <td>2</td>\n",
       "      <td>1</td>\n",
       "      <td>44.2000</td>\n",
       "      <td>0.0</td>\n",
       "      <td>104.0</td>\n",
       "      <td>113.0</td>\n",
       "      <td>94.0</td>\n",
       "      <td>NaN</td>\n",
       "      <td>NaN</td>\n",
       "      <td>1</td>\n",
       "    </tr>\n",
       "    <tr>\n",
       "      <th>1</th>\n",
       "      <td>51476</td>\n",
       "      <td>20</td>\n",
       "      <td>CALTECH</td>\n",
       "      <td>2</td>\n",
       "      <td>1</td>\n",
       "      <td>39.3000</td>\n",
       "      <td>0.0</td>\n",
       "      <td>123.0</td>\n",
       "      <td>127.0</td>\n",
       "      <td>112.0</td>\n",
       "      <td>NaN</td>\n",
       "      <td>NaN</td>\n",
       "      <td>1</td>\n",
       "    </tr>\n",
       "    <tr>\n",
       "      <th>2</th>\n",
       "      <td>51477</td>\n",
       "      <td>21</td>\n",
       "      <td>CALTECH</td>\n",
       "      <td>2</td>\n",
       "      <td>1</td>\n",
       "      <td>42.5000</td>\n",
       "      <td>0.0</td>\n",
       "      <td>97.0</td>\n",
       "      <td>85.0</td>\n",
       "      <td>109.0</td>\n",
       "      <td>NaN</td>\n",
       "      <td>NaN</td>\n",
       "      <td>1</td>\n",
       "    </tr>\n",
       "    <tr>\n",
       "      <th>3</th>\n",
       "      <td>51478</td>\n",
       "      <td>22</td>\n",
       "      <td>CALTECH</td>\n",
       "      <td>2</td>\n",
       "      <td>1</td>\n",
       "      <td>19.7000</td>\n",
       "      <td>0.0</td>\n",
       "      <td>116.0</td>\n",
       "      <td>117.0</td>\n",
       "      <td>116.0</td>\n",
       "      <td>NaN</td>\n",
       "      <td>NaN</td>\n",
       "      <td>1</td>\n",
       "    </tr>\n",
       "    <tr>\n",
       "      <th>4</th>\n",
       "      <td>51479</td>\n",
       "      <td>23</td>\n",
       "      <td>CALTECH</td>\n",
       "      <td>2</td>\n",
       "      <td>2</td>\n",
       "      <td>20.0000</td>\n",
       "      <td>0.0</td>\n",
       "      <td>111.0</td>\n",
       "      <td>110.0</td>\n",
       "      <td>109.0</td>\n",
       "      <td>NaN</td>\n",
       "      <td>NaN</td>\n",
       "      <td>1</td>\n",
       "    </tr>\n",
       "    <tr>\n",
       "      <th>...</th>\n",
       "      <td>...</td>\n",
       "      <td>...</td>\n",
       "      <td>...</td>\n",
       "      <td>...</td>\n",
       "      <td>...</td>\n",
       "      <td>...</td>\n",
       "      <td>...</td>\n",
       "      <td>...</td>\n",
       "      <td>...</td>\n",
       "      <td>...</td>\n",
       "      <td>...</td>\n",
       "      <td>...</td>\n",
       "      <td>...</td>\n",
       "    </tr>\n",
       "    <tr>\n",
       "      <th>1885</th>\n",
       "      <td>29514</td>\n",
       "      <td>1023</td>\n",
       "      <td>USM</td>\n",
       "      <td>1</td>\n",
       "      <td>1</td>\n",
       "      <td>9.1198</td>\n",
       "      <td>NaN</td>\n",
       "      <td>87.0</td>\n",
       "      <td>104.0</td>\n",
       "      <td>98.0</td>\n",
       "      <td>NaN</td>\n",
       "      <td>NaN</td>\n",
       "      <td>2</td>\n",
       "    </tr>\n",
       "    <tr>\n",
       "      <th>1886</th>\n",
       "      <td>29515</td>\n",
       "      <td>1024</td>\n",
       "      <td>USM</td>\n",
       "      <td>1</td>\n",
       "      <td>1</td>\n",
       "      <td>15.0938</td>\n",
       "      <td>NaN</td>\n",
       "      <td>122.0</td>\n",
       "      <td>113.0</td>\n",
       "      <td>120.0</td>\n",
       "      <td>NaN</td>\n",
       "      <td>NaN</td>\n",
       "      <td>2</td>\n",
       "    </tr>\n",
       "    <tr>\n",
       "      <th>1887</th>\n",
       "      <td>29516</td>\n",
       "      <td>1025</td>\n",
       "      <td>USM</td>\n",
       "      <td>1</td>\n",
       "      <td>1</td>\n",
       "      <td>23.3320</td>\n",
       "      <td>NaN</td>\n",
       "      <td>102.0</td>\n",
       "      <td>95.0</td>\n",
       "      <td>99.0</td>\n",
       "      <td>NaN</td>\n",
       "      <td>NaN</td>\n",
       "      <td>2</td>\n",
       "    </tr>\n",
       "    <tr>\n",
       "      <th>1888</th>\n",
       "      <td>29521</td>\n",
       "      <td>1026</td>\n",
       "      <td>USM</td>\n",
       "      <td>1</td>\n",
       "      <td>2</td>\n",
       "      <td>20.6078</td>\n",
       "      <td>NaN</td>\n",
       "      <td>96.0</td>\n",
       "      <td>94.0</td>\n",
       "      <td>95.0</td>\n",
       "      <td>NaN</td>\n",
       "      <td>NaN</td>\n",
       "      <td>2</td>\n",
       "    </tr>\n",
       "    <tr>\n",
       "      <th>1889</th>\n",
       "      <td>29522</td>\n",
       "      <td>1027</td>\n",
       "      <td>USM</td>\n",
       "      <td>1</td>\n",
       "      <td>2</td>\n",
       "      <td>27.7700</td>\n",
       "      <td>NaN</td>\n",
       "      <td>101.0</td>\n",
       "      <td>87.0</td>\n",
       "      <td>95.0</td>\n",
       "      <td>NaN</td>\n",
       "      <td>NaN</td>\n",
       "      <td>2</td>\n",
       "    </tr>\n",
       "  </tbody>\n",
       "</table>\n",
       "<p>1890 rows × 13 columns</p>\n",
       "</div>"
      ],
      "text/plain": [
       "      SUB_ID  Unnamed: 0  SITE_ID  DX_GROUP  SEX  AGE_AT_SCAN  DSM_IV_TR  \\\n",
       "0      51475          19  CALTECH         2    1      44.2000        0.0   \n",
       "1      51476          20  CALTECH         2    1      39.3000        0.0   \n",
       "2      51477          21  CALTECH         2    1      42.5000        0.0   \n",
       "3      51478          22  CALTECH         2    1      19.7000        0.0   \n",
       "4      51479          23  CALTECH         2    2      20.0000        0.0   \n",
       "...      ...         ...      ...       ...  ...          ...        ...   \n",
       "1885   29514        1023      USM         1    1       9.1198        NaN   \n",
       "1886   29515        1024      USM         1    1      15.0938        NaN   \n",
       "1887   29516        1025      USM         1    1      23.3320        NaN   \n",
       "1888   29521        1026      USM         1    2      20.6078        NaN   \n",
       "1889   29522        1027      USM         1    2      27.7700        NaN   \n",
       "\n",
       "        FIQ    VIQ    PIQ  ADI_R_SOCIAL_TOTAL_A  ADI_R_VERBAL_TOTAL_BV  \\\n",
       "0     104.0  113.0   94.0                   NaN                    NaN   \n",
       "1     123.0  127.0  112.0                   NaN                    NaN   \n",
       "2      97.0   85.0  109.0                   NaN                    NaN   \n",
       "3     116.0  117.0  116.0                   NaN                    NaN   \n",
       "4     111.0  110.0  109.0                   NaN                    NaN   \n",
       "...     ...    ...    ...                   ...                    ...   \n",
       "1885   87.0  104.0   98.0                   NaN                    NaN   \n",
       "1886  122.0  113.0  120.0                   NaN                    NaN   \n",
       "1887  102.0   95.0   99.0                   NaN                    NaN   \n",
       "1888   96.0   94.0   95.0                   NaN                    NaN   \n",
       "1889  101.0   87.0   95.0                   NaN                    NaN   \n",
       "\n",
       "      ABIDE_ID  \n",
       "0            1  \n",
       "1            1  \n",
       "2            1  \n",
       "3            1  \n",
       "4            1  \n",
       "...        ...  \n",
       "1885         2  \n",
       "1886         2  \n",
       "1887         2  \n",
       "1888         2  \n",
       "1889         2  \n",
       "\n",
       "[1890 rows x 13 columns]"
      ]
     },
     "execution_count": 12,
     "metadata": {},
     "output_type": "execute_result"
    }
   ],
   "source": [
    " pd.merge(pd.DataFrame({'SUB_ID': subjects}), demo)"
   ]
  },
  {
   "cell_type": "code",
   "execution_count": 13,
   "metadata": {},
   "outputs": [],
   "source": [
    "# Compute non interest sources of variability\n",
    "# Beware, first subjects on the merge to preserve this order\n",
    "age = pd.merge(pd.DataFrame({'SUB_ID': subjects}), demo).AGE_AT_SCAN.values\n",
    "sex  = pd.merge(pd.DataFrame({'SUB_ID':subjects}), demo ).SEX.values\n",
    "site  = pd.merge(pd.DataFrame({'SUB_ID':subjects}), demo).SITE_ID\n",
    "group = pd.merge(pd.DataFrame({'SUB_ID':subjects}), demo).DX_GROUP"
   ]
  },
  {
   "cell_type": "code",
   "execution_count": 14,
   "metadata": {},
   "outputs": [
    {
     "data": {
      "text/html": [
       "<div>\n",
       "<style scoped>\n",
       "    .dataframe tbody tr th:only-of-type {\n",
       "        vertical-align: middle;\n",
       "    }\n",
       "\n",
       "    .dataframe tbody tr th {\n",
       "        vertical-align: top;\n",
       "    }\n",
       "\n",
       "    .dataframe thead th {\n",
       "        text-align: right;\n",
       "    }\n",
       "</style>\n",
       "<table border=\"1\" class=\"dataframe\">\n",
       "  <thead>\n",
       "    <tr style=\"text-align: right;\">\n",
       "      <th></th>\n",
       "      <th></th>\n",
       "      <th>SUB_ID</th>\n",
       "      <th>Unnamed: 0</th>\n",
       "      <th>SEX</th>\n",
       "      <th>AGE_AT_SCAN</th>\n",
       "      <th>DSM_IV_TR</th>\n",
       "      <th>FIQ</th>\n",
       "      <th>VIQ</th>\n",
       "      <th>PIQ</th>\n",
       "      <th>ADI_R_SOCIAL_TOTAL_A</th>\n",
       "      <th>ADI_R_VERBAL_TOTAL_BV</th>\n",
       "      <th>ABIDE_ID</th>\n",
       "    </tr>\n",
       "    <tr>\n",
       "      <th>SITE_ID</th>\n",
       "      <th>DX_GROUP</th>\n",
       "      <th></th>\n",
       "      <th></th>\n",
       "      <th></th>\n",
       "      <th></th>\n",
       "      <th></th>\n",
       "      <th></th>\n",
       "      <th></th>\n",
       "      <th></th>\n",
       "      <th></th>\n",
       "      <th></th>\n",
       "      <th></th>\n",
       "    </tr>\n",
       "  </thead>\n",
       "  <tbody>\n",
       "    <tr>\n",
       "      <th rowspan=\"2\" valign=\"top\">BNI</th>\n",
       "      <th>1</th>\n",
       "      <td>29</td>\n",
       "      <td>29</td>\n",
       "      <td>29</td>\n",
       "      <td>29</td>\n",
       "      <td>0</td>\n",
       "      <td>29</td>\n",
       "      <td>0</td>\n",
       "      <td>0</td>\n",
       "      <td>0</td>\n",
       "      <td>0</td>\n",
       "      <td>29</td>\n",
       "    </tr>\n",
       "    <tr>\n",
       "      <th>2</th>\n",
       "      <td>29</td>\n",
       "      <td>29</td>\n",
       "      <td>29</td>\n",
       "      <td>29</td>\n",
       "      <td>0</td>\n",
       "      <td>29</td>\n",
       "      <td>0</td>\n",
       "      <td>0</td>\n",
       "      <td>0</td>\n",
       "      <td>0</td>\n",
       "      <td>29</td>\n",
       "    </tr>\n",
       "    <tr>\n",
       "      <th rowspan=\"2\" valign=\"top\">CALTECH</th>\n",
       "      <th>1</th>\n",
       "      <td>19</td>\n",
       "      <td>19</td>\n",
       "      <td>19</td>\n",
       "      <td>19</td>\n",
       "      <td>19</td>\n",
       "      <td>18</td>\n",
       "      <td>18</td>\n",
       "      <td>18</td>\n",
       "      <td>15</td>\n",
       "      <td>15</td>\n",
       "      <td>19</td>\n",
       "    </tr>\n",
       "    <tr>\n",
       "      <th>2</th>\n",
       "      <td>19</td>\n",
       "      <td>19</td>\n",
       "      <td>19</td>\n",
       "      <td>19</td>\n",
       "      <td>19</td>\n",
       "      <td>19</td>\n",
       "      <td>19</td>\n",
       "      <td>19</td>\n",
       "      <td>0</td>\n",
       "      <td>0</td>\n",
       "      <td>19</td>\n",
       "    </tr>\n",
       "    <tr>\n",
       "      <th rowspan=\"2\" valign=\"top\">CMU</th>\n",
       "      <th>1</th>\n",
       "      <td>13</td>\n",
       "      <td>13</td>\n",
       "      <td>13</td>\n",
       "      <td>13</td>\n",
       "      <td>13</td>\n",
       "      <td>13</td>\n",
       "      <td>13</td>\n",
       "      <td>13</td>\n",
       "      <td>13</td>\n",
       "      <td>13</td>\n",
       "      <td>13</td>\n",
       "    </tr>\n",
       "    <tr>\n",
       "      <th>2</th>\n",
       "      <td>13</td>\n",
       "      <td>13</td>\n",
       "      <td>13</td>\n",
       "      <td>13</td>\n",
       "      <td>13</td>\n",
       "      <td>13</td>\n",
       "      <td>13</td>\n",
       "      <td>13</td>\n",
       "      <td>0</td>\n",
       "      <td>0</td>\n",
       "      <td>13</td>\n",
       "    </tr>\n",
       "    <tr>\n",
       "      <th rowspan=\"2\" valign=\"top\">EMC</th>\n",
       "      <th>1</th>\n",
       "      <td>23</td>\n",
       "      <td>23</td>\n",
       "      <td>23</td>\n",
       "      <td>23</td>\n",
       "      <td>0</td>\n",
       "      <td>0</td>\n",
       "      <td>0</td>\n",
       "      <td>20</td>\n",
       "      <td>0</td>\n",
       "      <td>0</td>\n",
       "      <td>23</td>\n",
       "    </tr>\n",
       "    <tr>\n",
       "      <th>2</th>\n",
       "      <td>26</td>\n",
       "      <td>26</td>\n",
       "      <td>26</td>\n",
       "      <td>26</td>\n",
       "      <td>0</td>\n",
       "      <td>0</td>\n",
       "      <td>0</td>\n",
       "      <td>25</td>\n",
       "      <td>0</td>\n",
       "      <td>0</td>\n",
       "      <td>26</td>\n",
       "    </tr>\n",
       "    <tr>\n",
       "      <th rowspan=\"2\" valign=\"top\">ETH</th>\n",
       "      <th>1</th>\n",
       "      <td>11</td>\n",
       "      <td>11</td>\n",
       "      <td>11</td>\n",
       "      <td>11</td>\n",
       "      <td>0</td>\n",
       "      <td>11</td>\n",
       "      <td>11</td>\n",
       "      <td>11</td>\n",
       "      <td>10</td>\n",
       "      <td>10</td>\n",
       "      <td>11</td>\n",
       "    </tr>\n",
       "    <tr>\n",
       "      <th>2</th>\n",
       "      <td>24</td>\n",
       "      <td>24</td>\n",
       "      <td>24</td>\n",
       "      <td>24</td>\n",
       "      <td>0</td>\n",
       "      <td>24</td>\n",
       "      <td>24</td>\n",
       "      <td>24</td>\n",
       "      <td>0</td>\n",
       "      <td>0</td>\n",
       "      <td>24</td>\n",
       "    </tr>\n",
       "    <tr>\n",
       "      <th rowspan=\"2\" valign=\"top\">GU</th>\n",
       "      <th>1</th>\n",
       "      <td>47</td>\n",
       "      <td>47</td>\n",
       "      <td>47</td>\n",
       "      <td>47</td>\n",
       "      <td>46</td>\n",
       "      <td>46</td>\n",
       "      <td>46</td>\n",
       "      <td>34</td>\n",
       "      <td>45</td>\n",
       "      <td>45</td>\n",
       "      <td>47</td>\n",
       "    </tr>\n",
       "    <tr>\n",
       "      <th>2</th>\n",
       "      <td>54</td>\n",
       "      <td>54</td>\n",
       "      <td>54</td>\n",
       "      <td>54</td>\n",
       "      <td>54</td>\n",
       "      <td>53</td>\n",
       "      <td>53</td>\n",
       "      <td>53</td>\n",
       "      <td>0</td>\n",
       "      <td>0</td>\n",
       "      <td>54</td>\n",
       "    </tr>\n",
       "    <tr>\n",
       "      <th rowspan=\"2\" valign=\"top\">IU</th>\n",
       "      <th>1</th>\n",
       "      <td>17</td>\n",
       "      <td>17</td>\n",
       "      <td>17</td>\n",
       "      <td>17</td>\n",
       "      <td>0</td>\n",
       "      <td>17</td>\n",
       "      <td>17</td>\n",
       "      <td>17</td>\n",
       "      <td>0</td>\n",
       "      <td>0</td>\n",
       "      <td>17</td>\n",
       "    </tr>\n",
       "    <tr>\n",
       "      <th>2</th>\n",
       "      <td>20</td>\n",
       "      <td>20</td>\n",
       "      <td>20</td>\n",
       "      <td>20</td>\n",
       "      <td>0</td>\n",
       "      <td>20</td>\n",
       "      <td>20</td>\n",
       "      <td>20</td>\n",
       "      <td>0</td>\n",
       "      <td>0</td>\n",
       "      <td>20</td>\n",
       "    </tr>\n",
       "    <tr>\n",
       "      <th rowspan=\"2\" valign=\"top\">KKI</th>\n",
       "      <th>1</th>\n",
       "      <td>77</td>\n",
       "      <td>77</td>\n",
       "      <td>77</td>\n",
       "      <td>77</td>\n",
       "      <td>72</td>\n",
       "      <td>76</td>\n",
       "      <td>55</td>\n",
       "      <td>55</td>\n",
       "      <td>75</td>\n",
       "      <td>75</td>\n",
       "      <td>77</td>\n",
       "    </tr>\n",
       "    <tr>\n",
       "      <th>2</th>\n",
       "      <td>186</td>\n",
       "      <td>186</td>\n",
       "      <td>186</td>\n",
       "      <td>186</td>\n",
       "      <td>182</td>\n",
       "      <td>186</td>\n",
       "      <td>154</td>\n",
       "      <td>154</td>\n",
       "      <td>0</td>\n",
       "      <td>0</td>\n",
       "      <td>186</td>\n",
       "    </tr>\n",
       "    <tr>\n",
       "      <th rowspan=\"2\" valign=\"top\">LEUVEN</th>\n",
       "      <th>1</th>\n",
       "      <td>29</td>\n",
       "      <td>29</td>\n",
       "      <td>29</td>\n",
       "      <td>29</td>\n",
       "      <td>29</td>\n",
       "      <td>14</td>\n",
       "      <td>29</td>\n",
       "      <td>29</td>\n",
       "      <td>0</td>\n",
       "      <td>0</td>\n",
       "      <td>29</td>\n",
       "    </tr>\n",
       "    <tr>\n",
       "      <th>2</th>\n",
       "      <td>35</td>\n",
       "      <td>35</td>\n",
       "      <td>35</td>\n",
       "      <td>35</td>\n",
       "      <td>35</td>\n",
       "      <td>15</td>\n",
       "      <td>35</td>\n",
       "      <td>35</td>\n",
       "      <td>0</td>\n",
       "      <td>0</td>\n",
       "      <td>35</td>\n",
       "    </tr>\n",
       "    <tr>\n",
       "      <th rowspan=\"2\" valign=\"top\">MAX_MUN</th>\n",
       "      <th>1</th>\n",
       "      <td>22</td>\n",
       "      <td>22</td>\n",
       "      <td>22</td>\n",
       "      <td>22</td>\n",
       "      <td>22</td>\n",
       "      <td>20</td>\n",
       "      <td>0</td>\n",
       "      <td>4</td>\n",
       "      <td>3</td>\n",
       "      <td>3</td>\n",
       "      <td>22</td>\n",
       "    </tr>\n",
       "    <tr>\n",
       "      <th>2</th>\n",
       "      <td>31</td>\n",
       "      <td>31</td>\n",
       "      <td>31</td>\n",
       "      <td>31</td>\n",
       "      <td>31</td>\n",
       "      <td>31</td>\n",
       "      <td>0</td>\n",
       "      <td>13</td>\n",
       "      <td>0</td>\n",
       "      <td>0</td>\n",
       "      <td>31</td>\n",
       "    </tr>\n",
       "    <tr>\n",
       "      <th rowspan=\"2\" valign=\"top\">NYU</th>\n",
       "      <th>1</th>\n",
       "      <td>150</td>\n",
       "      <td>150</td>\n",
       "      <td>150</td>\n",
       "      <td>150</td>\n",
       "      <td>150</td>\n",
       "      <td>149</td>\n",
       "      <td>149</td>\n",
       "      <td>150</td>\n",
       "      <td>138</td>\n",
       "      <td>138</td>\n",
       "      <td>150</td>\n",
       "    </tr>\n",
       "    <tr>\n",
       "      <th>2</th>\n",
       "      <td>135</td>\n",
       "      <td>135</td>\n",
       "      <td>135</td>\n",
       "      <td>135</td>\n",
       "      <td>135</td>\n",
       "      <td>135</td>\n",
       "      <td>135</td>\n",
       "      <td>135</td>\n",
       "      <td>0</td>\n",
       "      <td>0</td>\n",
       "      <td>135</td>\n",
       "    </tr>\n",
       "    <tr>\n",
       "      <th rowspan=\"2\" valign=\"top\">OHSU</th>\n",
       "      <th>1</th>\n",
       "      <td>37</td>\n",
       "      <td>37</td>\n",
       "      <td>37</td>\n",
       "      <td>37</td>\n",
       "      <td>0</td>\n",
       "      <td>37</td>\n",
       "      <td>0</td>\n",
       "      <td>0</td>\n",
       "      <td>37</td>\n",
       "      <td>37</td>\n",
       "      <td>37</td>\n",
       "    </tr>\n",
       "    <tr>\n",
       "      <th>2</th>\n",
       "      <td>54</td>\n",
       "      <td>54</td>\n",
       "      <td>54</td>\n",
       "      <td>54</td>\n",
       "      <td>0</td>\n",
       "      <td>54</td>\n",
       "      <td>0</td>\n",
       "      <td>0</td>\n",
       "      <td>0</td>\n",
       "      <td>0</td>\n",
       "      <td>54</td>\n",
       "    </tr>\n",
       "    <tr>\n",
       "      <th rowspan=\"2\" valign=\"top\">OLIN</th>\n",
       "      <th>1</th>\n",
       "      <td>20</td>\n",
       "      <td>20</td>\n",
       "      <td>20</td>\n",
       "      <td>20</td>\n",
       "      <td>20</td>\n",
       "      <td>18</td>\n",
       "      <td>0</td>\n",
       "      <td>0</td>\n",
       "      <td>0</td>\n",
       "      <td>0</td>\n",
       "      <td>20</td>\n",
       "    </tr>\n",
       "    <tr>\n",
       "      <th>2</th>\n",
       "      <td>16</td>\n",
       "      <td>16</td>\n",
       "      <td>16</td>\n",
       "      <td>16</td>\n",
       "      <td>16</td>\n",
       "      <td>16</td>\n",
       "      <td>0</td>\n",
       "      <td>0</td>\n",
       "      <td>0</td>\n",
       "      <td>0</td>\n",
       "      <td>16</td>\n",
       "    </tr>\n",
       "    <tr>\n",
       "      <th rowspan=\"2\" valign=\"top\">ONRC</th>\n",
       "      <th>1</th>\n",
       "      <td>7</td>\n",
       "      <td>7</td>\n",
       "      <td>7</td>\n",
       "      <td>7</td>\n",
       "      <td>0</td>\n",
       "      <td>7</td>\n",
       "      <td>0</td>\n",
       "      <td>0</td>\n",
       "      <td>3</td>\n",
       "      <td>3</td>\n",
       "      <td>7</td>\n",
       "    </tr>\n",
       "    <tr>\n",
       "      <th>2</th>\n",
       "      <td>11</td>\n",
       "      <td>11</td>\n",
       "      <td>11</td>\n",
       "      <td>11</td>\n",
       "      <td>0</td>\n",
       "      <td>11</td>\n",
       "      <td>0</td>\n",
       "      <td>0</td>\n",
       "      <td>0</td>\n",
       "      <td>0</td>\n",
       "      <td>11</td>\n",
       "    </tr>\n",
       "    <tr>\n",
       "      <th rowspan=\"2\" valign=\"top\">PITT</th>\n",
       "      <th>1</th>\n",
       "      <td>30</td>\n",
       "      <td>30</td>\n",
       "      <td>30</td>\n",
       "      <td>30</td>\n",
       "      <td>30</td>\n",
       "      <td>30</td>\n",
       "      <td>30</td>\n",
       "      <td>30</td>\n",
       "      <td>26</td>\n",
       "      <td>26</td>\n",
       "      <td>30</td>\n",
       "    </tr>\n",
       "    <tr>\n",
       "      <th>2</th>\n",
       "      <td>27</td>\n",
       "      <td>27</td>\n",
       "      <td>27</td>\n",
       "      <td>27</td>\n",
       "      <td>27</td>\n",
       "      <td>27</td>\n",
       "      <td>27</td>\n",
       "      <td>27</td>\n",
       "      <td>0</td>\n",
       "      <td>0</td>\n",
       "      <td>27</td>\n",
       "    </tr>\n",
       "    <tr>\n",
       "      <th rowspan=\"2\" valign=\"top\">SBL</th>\n",
       "      <th>1</th>\n",
       "      <td>15</td>\n",
       "      <td>15</td>\n",
       "      <td>15</td>\n",
       "      <td>15</td>\n",
       "      <td>15</td>\n",
       "      <td>5</td>\n",
       "      <td>12</td>\n",
       "      <td>12</td>\n",
       "      <td>8</td>\n",
       "      <td>8</td>\n",
       "      <td>15</td>\n",
       "    </tr>\n",
       "    <tr>\n",
       "      <th>2</th>\n",
       "      <td>15</td>\n",
       "      <td>15</td>\n",
       "      <td>15</td>\n",
       "      <td>15</td>\n",
       "      <td>15</td>\n",
       "      <td>0</td>\n",
       "      <td>0</td>\n",
       "      <td>0</td>\n",
       "      <td>0</td>\n",
       "      <td>0</td>\n",
       "      <td>15</td>\n",
       "    </tr>\n",
       "    <tr>\n",
       "      <th rowspan=\"2\" valign=\"top\">SDSU</th>\n",
       "      <th>1</th>\n",
       "      <td>47</td>\n",
       "      <td>47</td>\n",
       "      <td>47</td>\n",
       "      <td>47</td>\n",
       "      <td>12</td>\n",
       "      <td>46</td>\n",
       "      <td>46</td>\n",
       "      <td>47</td>\n",
       "      <td>45</td>\n",
       "      <td>45</td>\n",
       "      <td>47</td>\n",
       "    </tr>\n",
       "    <tr>\n",
       "      <th>2</th>\n",
       "      <td>46</td>\n",
       "      <td>46</td>\n",
       "      <td>46</td>\n",
       "      <td>46</td>\n",
       "      <td>21</td>\n",
       "      <td>46</td>\n",
       "      <td>46</td>\n",
       "      <td>46</td>\n",
       "      <td>0</td>\n",
       "      <td>0</td>\n",
       "      <td>46</td>\n",
       "    </tr>\n",
       "    <tr>\n",
       "      <th rowspan=\"2\" valign=\"top\">STANFORD</th>\n",
       "      <th>1</th>\n",
       "      <td>14</td>\n",
       "      <td>14</td>\n",
       "      <td>14</td>\n",
       "      <td>14</td>\n",
       "      <td>0</td>\n",
       "      <td>14</td>\n",
       "      <td>14</td>\n",
       "      <td>14</td>\n",
       "      <td>14</td>\n",
       "      <td>14</td>\n",
       "      <td>14</td>\n",
       "    </tr>\n",
       "    <tr>\n",
       "      <th>2</th>\n",
       "      <td>11</td>\n",
       "      <td>11</td>\n",
       "      <td>11</td>\n",
       "      <td>11</td>\n",
       "      <td>0</td>\n",
       "      <td>11</td>\n",
       "      <td>11</td>\n",
       "      <td>11</td>\n",
       "      <td>0</td>\n",
       "      <td>0</td>\n",
       "      <td>11</td>\n",
       "    </tr>\n",
       "    <tr>\n",
       "      <th rowspan=\"2\" valign=\"top\">TCD</th>\n",
       "      <th>1</th>\n",
       "      <td>45</td>\n",
       "      <td>45</td>\n",
       "      <td>45</td>\n",
       "      <td>45</td>\n",
       "      <td>45</td>\n",
       "      <td>45</td>\n",
       "      <td>45</td>\n",
       "      <td>44</td>\n",
       "      <td>45</td>\n",
       "      <td>45</td>\n",
       "      <td>45</td>\n",
       "    </tr>\n",
       "    <tr>\n",
       "      <th>2</th>\n",
       "      <td>46</td>\n",
       "      <td>46</td>\n",
       "      <td>46</td>\n",
       "      <td>46</td>\n",
       "      <td>46</td>\n",
       "      <td>46</td>\n",
       "      <td>46</td>\n",
       "      <td>46</td>\n",
       "      <td>0</td>\n",
       "      <td>0</td>\n",
       "      <td>46</td>\n",
       "    </tr>\n",
       "    <tr>\n",
       "      <th rowspan=\"2\" valign=\"top\">UCD</th>\n",
       "      <th>1</th>\n",
       "      <td>18</td>\n",
       "      <td>18</td>\n",
       "      <td>18</td>\n",
       "      <td>18</td>\n",
       "      <td>0</td>\n",
       "      <td>18</td>\n",
       "      <td>18</td>\n",
       "      <td>18</td>\n",
       "      <td>0</td>\n",
       "      <td>0</td>\n",
       "      <td>18</td>\n",
       "    </tr>\n",
       "    <tr>\n",
       "      <th>2</th>\n",
       "      <td>14</td>\n",
       "      <td>14</td>\n",
       "      <td>14</td>\n",
       "      <td>14</td>\n",
       "      <td>0</td>\n",
       "      <td>14</td>\n",
       "      <td>14</td>\n",
       "      <td>14</td>\n",
       "      <td>0</td>\n",
       "      <td>0</td>\n",
       "      <td>14</td>\n",
       "    </tr>\n",
       "    <tr>\n",
       "      <th rowspan=\"2\" valign=\"top\">UCLA</th>\n",
       "      <th>1</th>\n",
       "      <td>51</td>\n",
       "      <td>51</td>\n",
       "      <td>51</td>\n",
       "      <td>51</td>\n",
       "      <td>51</td>\n",
       "      <td>51</td>\n",
       "      <td>51</td>\n",
       "      <td>51</td>\n",
       "      <td>39</td>\n",
       "      <td>39</td>\n",
       "      <td>51</td>\n",
       "    </tr>\n",
       "    <tr>\n",
       "      <th>2</th>\n",
       "      <td>38</td>\n",
       "      <td>38</td>\n",
       "      <td>38</td>\n",
       "      <td>38</td>\n",
       "      <td>38</td>\n",
       "      <td>37</td>\n",
       "      <td>37</td>\n",
       "      <td>37</td>\n",
       "      <td>0</td>\n",
       "      <td>0</td>\n",
       "      <td>38</td>\n",
       "    </tr>\n",
       "    <tr>\n",
       "      <th rowspan=\"2\" valign=\"top\">UM</th>\n",
       "      <th>1</th>\n",
       "      <td>57</td>\n",
       "      <td>57</td>\n",
       "      <td>57</td>\n",
       "      <td>57</td>\n",
       "      <td>55</td>\n",
       "      <td>56</td>\n",
       "      <td>57</td>\n",
       "      <td>56</td>\n",
       "      <td>56</td>\n",
       "      <td>56</td>\n",
       "      <td>57</td>\n",
       "    </tr>\n",
       "    <tr>\n",
       "      <th>2</th>\n",
       "      <td>74</td>\n",
       "      <td>74</td>\n",
       "      <td>74</td>\n",
       "      <td>74</td>\n",
       "      <td>74</td>\n",
       "      <td>71</td>\n",
       "      <td>74</td>\n",
       "      <td>71</td>\n",
       "      <td>0</td>\n",
       "      <td>0</td>\n",
       "      <td>74</td>\n",
       "    </tr>\n",
       "    <tr>\n",
       "      <th rowspan=\"2\" valign=\"top\">USM</th>\n",
       "      <th>1</th>\n",
       "      <td>75</td>\n",
       "      <td>75</td>\n",
       "      <td>75</td>\n",
       "      <td>75</td>\n",
       "      <td>70</td>\n",
       "      <td>70</td>\n",
       "      <td>70</td>\n",
       "      <td>75</td>\n",
       "      <td>0</td>\n",
       "      <td>0</td>\n",
       "      <td>75</td>\n",
       "    </tr>\n",
       "    <tr>\n",
       "      <th>2</th>\n",
       "      <td>58</td>\n",
       "      <td>58</td>\n",
       "      <td>58</td>\n",
       "      <td>58</td>\n",
       "      <td>58</td>\n",
       "      <td>57</td>\n",
       "      <td>57</td>\n",
       "      <td>57</td>\n",
       "      <td>0</td>\n",
       "      <td>0</td>\n",
       "      <td>58</td>\n",
       "    </tr>\n",
       "    <tr>\n",
       "      <th rowspan=\"2\" valign=\"top\">YALE</th>\n",
       "      <th>1</th>\n",
       "      <td>27</td>\n",
       "      <td>27</td>\n",
       "      <td>27</td>\n",
       "      <td>27</td>\n",
       "      <td>27</td>\n",
       "      <td>27</td>\n",
       "      <td>27</td>\n",
       "      <td>27</td>\n",
       "      <td>21</td>\n",
       "      <td>21</td>\n",
       "      <td>27</td>\n",
       "    </tr>\n",
       "    <tr>\n",
       "      <th>2</th>\n",
       "      <td>28</td>\n",
       "      <td>28</td>\n",
       "      <td>28</td>\n",
       "      <td>28</td>\n",
       "      <td>28</td>\n",
       "      <td>28</td>\n",
       "      <td>28</td>\n",
       "      <td>28</td>\n",
       "      <td>0</td>\n",
       "      <td>0</td>\n",
       "      <td>28</td>\n",
       "    </tr>\n",
       "  </tbody>\n",
       "</table>\n",
       "</div>"
      ],
      "text/plain": [
       "                   SUB_ID  Unnamed: 0  SEX  AGE_AT_SCAN  DSM_IV_TR  FIQ  VIQ  \\\n",
       "SITE_ID  DX_GROUP                                                              \n",
       "BNI      1             29          29   29           29          0   29    0   \n",
       "         2             29          29   29           29          0   29    0   \n",
       "CALTECH  1             19          19   19           19         19   18   18   \n",
       "         2             19          19   19           19         19   19   19   \n",
       "CMU      1             13          13   13           13         13   13   13   \n",
       "         2             13          13   13           13         13   13   13   \n",
       "EMC      1             23          23   23           23          0    0    0   \n",
       "         2             26          26   26           26          0    0    0   \n",
       "ETH      1             11          11   11           11          0   11   11   \n",
       "         2             24          24   24           24          0   24   24   \n",
       "GU       1             47          47   47           47         46   46   46   \n",
       "         2             54          54   54           54         54   53   53   \n",
       "IU       1             17          17   17           17          0   17   17   \n",
       "         2             20          20   20           20          0   20   20   \n",
       "KKI      1             77          77   77           77         72   76   55   \n",
       "         2            186         186  186          186        182  186  154   \n",
       "LEUVEN   1             29          29   29           29         29   14   29   \n",
       "         2             35          35   35           35         35   15   35   \n",
       "MAX_MUN  1             22          22   22           22         22   20    0   \n",
       "         2             31          31   31           31         31   31    0   \n",
       "NYU      1            150         150  150          150        150  149  149   \n",
       "         2            135         135  135          135        135  135  135   \n",
       "OHSU     1             37          37   37           37          0   37    0   \n",
       "         2             54          54   54           54          0   54    0   \n",
       "OLIN     1             20          20   20           20         20   18    0   \n",
       "         2             16          16   16           16         16   16    0   \n",
       "ONRC     1              7           7    7            7          0    7    0   \n",
       "         2             11          11   11           11          0   11    0   \n",
       "PITT     1             30          30   30           30         30   30   30   \n",
       "         2             27          27   27           27         27   27   27   \n",
       "SBL      1             15          15   15           15         15    5   12   \n",
       "         2             15          15   15           15         15    0    0   \n",
       "SDSU     1             47          47   47           47         12   46   46   \n",
       "         2             46          46   46           46         21   46   46   \n",
       "STANFORD 1             14          14   14           14          0   14   14   \n",
       "         2             11          11   11           11          0   11   11   \n",
       "TCD      1             45          45   45           45         45   45   45   \n",
       "         2             46          46   46           46         46   46   46   \n",
       "UCD      1             18          18   18           18          0   18   18   \n",
       "         2             14          14   14           14          0   14   14   \n",
       "UCLA     1             51          51   51           51         51   51   51   \n",
       "         2             38          38   38           38         38   37   37   \n",
       "UM       1             57          57   57           57         55   56   57   \n",
       "         2             74          74   74           74         74   71   74   \n",
       "USM      1             75          75   75           75         70   70   70   \n",
       "         2             58          58   58           58         58   57   57   \n",
       "YALE     1             27          27   27           27         27   27   27   \n",
       "         2             28          28   28           28         28   28   28   \n",
       "\n",
       "                   PIQ  ADI_R_SOCIAL_TOTAL_A  ADI_R_VERBAL_TOTAL_BV  ABIDE_ID  \n",
       "SITE_ID  DX_GROUP                                                              \n",
       "BNI      1           0                     0                      0        29  \n",
       "         2           0                     0                      0        29  \n",
       "CALTECH  1          18                    15                     15        19  \n",
       "         2          19                     0                      0        19  \n",
       "CMU      1          13                    13                     13        13  \n",
       "         2          13                     0                      0        13  \n",
       "EMC      1          20                     0                      0        23  \n",
       "         2          25                     0                      0        26  \n",
       "ETH      1          11                    10                     10        11  \n",
       "         2          24                     0                      0        24  \n",
       "GU       1          34                    45                     45        47  \n",
       "         2          53                     0                      0        54  \n",
       "IU       1          17                     0                      0        17  \n",
       "         2          20                     0                      0        20  \n",
       "KKI      1          55                    75                     75        77  \n",
       "         2         154                     0                      0       186  \n",
       "LEUVEN   1          29                     0                      0        29  \n",
       "         2          35                     0                      0        35  \n",
       "MAX_MUN  1           4                     3                      3        22  \n",
       "         2          13                     0                      0        31  \n",
       "NYU      1         150                   138                    138       150  \n",
       "         2         135                     0                      0       135  \n",
       "OHSU     1           0                    37                     37        37  \n",
       "         2           0                     0                      0        54  \n",
       "OLIN     1           0                     0                      0        20  \n",
       "         2           0                     0                      0        16  \n",
       "ONRC     1           0                     3                      3         7  \n",
       "         2           0                     0                      0        11  \n",
       "PITT     1          30                    26                     26        30  \n",
       "         2          27                     0                      0        27  \n",
       "SBL      1          12                     8                      8        15  \n",
       "         2           0                     0                      0        15  \n",
       "SDSU     1          47                    45                     45        47  \n",
       "         2          46                     0                      0        46  \n",
       "STANFORD 1          14                    14                     14        14  \n",
       "         2          11                     0                      0        11  \n",
       "TCD      1          44                    45                     45        45  \n",
       "         2          46                     0                      0        46  \n",
       "UCD      1          18                     0                      0        18  \n",
       "         2          14                     0                      0        14  \n",
       "UCLA     1          51                    39                     39        51  \n",
       "         2          37                     0                      0        38  \n",
       "UM       1          56                    56                     56        57  \n",
       "         2          71                     0                      0        74  \n",
       "USM      1          75                     0                      0        75  \n",
       "         2          57                     0                      0        58  \n",
       "YALE     1          27                    21                     21        27  \n",
       "         2          28                     0                      0        28  "
      ]
     },
     "execution_count": 14,
     "metadata": {},
     "output_type": "execute_result"
    }
   ],
   "source": [
    "pd.merge(pd.DataFrame({'SUB_ID':subjects}), demo).groupby(['SITE_ID', 'DX_GROUP']).count()"
   ]
  },
  {
   "cell_type": "code",
   "execution_count": 15,
   "metadata": {},
   "outputs": [
    {
     "data": {
      "text/plain": [
       "SITE_ID   DX_GROUP\n",
       "BNI       1           37.448276\n",
       "          2           39.586207\n",
       "CALTECH   1           27.442105\n",
       "          2           28.868421\n",
       "CMU       1           26.769231\n",
       "          2           26.846154\n",
       "EMC       1            8.221052\n",
       "          2            8.208814\n",
       "ETH       1           20.560606\n",
       "          2           23.881944\n",
       "GU        1           10.943780\n",
       "          2           10.477539\n",
       "IU        1           25.235294\n",
       "          2           23.750000\n",
       "KKI       1           10.226983\n",
       "          2           10.292674\n",
       "LEUVEN    1           17.751724\n",
       "          2           18.165714\n",
       "MAX_MUN   1           27.727273\n",
       "          2           26.290323\n",
       "NYU       1           11.888393\n",
       "          2           14.408941\n",
       "OHSU      1           11.810811\n",
       "          2           10.370370\n",
       "OLIN      1           16.700000\n",
       "          2           16.937500\n",
       "ONRC      1           21.428571\n",
       "          2           23.000000\n",
       "PITT      1           18.929333\n",
       "          2           18.875556\n",
       "SBL       1           35.000000\n",
       "          2           33.733333\n",
       "SDSU      1           13.435532\n",
       "          2           13.676304\n",
       "STANFORD  1            9.870979\n",
       "          2           10.417409\n",
       "TCD       1           16.115778\n",
       "          2           16.408261\n",
       "UCD       1           14.754630\n",
       "          2           14.803571\n",
       "UCLA      1           13.062225\n",
       "          2           12.477203\n",
       "UM        1           13.424561\n",
       "          2           14.770270\n",
       "USM       1           21.665008\n",
       "          2           22.049441\n",
       "YALE      1           12.811481\n",
       "          2           12.678214\n",
       "Name: AGE_AT_SCAN, dtype: float64"
      ]
     },
     "execution_count": 15,
     "metadata": {},
     "output_type": "execute_result"
    }
   ],
   "source": [
    "pd.merge(pd.DataFrame({'SUB_ID':subjects}), demo).groupby(['SITE_ID', 'DX_GROUP'])['AGE_AT_SCAN'].mean()"
   ]
  },
  {
   "cell_type": "code",
   "execution_count": 15,
   "metadata": {},
   "outputs": [],
   "source": [
    "#np.savez('../data/age_sex_site_asd.npz', age_asd = age_asd, sex_asd=sex_asd, site_asd=site_asd)"
   ]
  },
  {
   "cell_type": "markdown",
   "metadata": {},
   "source": [
    "Compute which components correlate more with each source. In all the cases, we use a linear model to fit each components against the sources of variability and filter out those whose relationship is significant after family-wise correction."
   ]
  },
  {
   "cell_type": "code",
   "execution_count": 16,
   "metadata": {},
   "outputs": [],
   "source": [
    "sex_dummies = pd.get_dummies(sex, drop_first=True).values\n",
    "group_dummies = pd.get_dummies(group, drop_first=True).values\n",
    "#site_asd_dummies = pd.get_dummies(site_asd, drop_first=True).values"
   ]
  },
  {
   "cell_type": "code",
   "execution_count": 17,
   "metadata": {},
   "outputs": [],
   "source": [
    "C = np.column_stack((age, sex_dummies)) # Covariate effects\n",
    "X = group_dummies # effects of interest"
   ]
  },
  {
   "cell_type": "code",
   "execution_count": 18,
   "metadata": {},
   "outputs": [
    {
     "data": {
      "text/plain": [
       "array([[1],\n",
       "       [1],\n",
       "       [1],\n",
       "       ...,\n",
       "       [0],\n",
       "       [0],\n",
       "       [0]], dtype=uint8)"
      ]
     },
     "execution_count": 18,
     "metadata": {},
     "output_type": "execute_result"
    }
   ],
   "source": [
    "X"
   ]
  },
  {
   "cell_type": "code",
   "execution_count": 19,
   "metadata": {},
   "outputs": [
    {
     "data": {
      "text/plain": [
       "array([[44.2   ,  0.    ],\n",
       "       [39.3   ,  0.    ],\n",
       "       [42.5   ,  0.    ],\n",
       "       ...,\n",
       "       [23.332 ,  0.    ],\n",
       "       [20.6078,  1.    ],\n",
       "       [27.77  ,  1.    ]])"
      ]
     },
     "execution_count": 19,
     "metadata": {},
     "output_type": "execute_result"
    }
   ],
   "source": [
    "C"
   ]
  },
  {
   "cell_type": "code",
   "execution_count": 20,
   "metadata": {},
   "outputs": [],
   "source": [
    "X_2 = (X==0).astype(int)"
   ]
  },
  {
   "cell_type": "markdown",
   "metadata": {},
   "source": [
    "Y is our matrix of upper triangular correlations..."
   ]
  },
  {
   "cell_type": "code",
   "execution_count": 21,
   "metadata": {},
   "outputs": [],
   "source": [
    "Y_cor = np.row_stack([squareform(mat, checks=False) for mat in list_corrs])"
   ]
  },
  {
   "cell_type": "markdown",
   "metadata": {},
   "source": [
    "Convert this into z-fisher scores..."
   ]
  },
  {
   "cell_type": "code",
   "execution_count": 22,
   "metadata": {},
   "outputs": [],
   "source": [
    "Y = np.arctanh(Y_cor)"
   ]
  },
  {
   "cell_type": "markdown",
   "metadata": {},
   "source": [
    "let's adjust the differences in samples provided by scanner site difference using combat"
   ]
  },
  {
   "cell_type": "code",
   "execution_count": 24,
   "metadata": {},
   "outputs": [],
   "source": [
    "from pycombat import Combat"
   ]
  },
  {
   "cell_type": "code",
   "execution_count": 25,
   "metadata": {},
   "outputs": [],
   "source": [
    "from sklearn.preprocessing import LabelEncoder\n",
    "le =  LabelEncoder()\n",
    "b =le.fit_transform(site.values)"
   ]
  },
  {
   "cell_type": "code",
   "execution_count": 26,
   "metadata": {},
   "outputs": [],
   "source": [
    "combat = Combat()\n",
    "Y_combat = combat.fit_transform(Y, b=b, X=X, C=C)"
   ]
  },
  {
   "cell_type": "code",
   "execution_count": 27,
   "metadata": {},
   "outputs": [
    {
     "data": {
      "text/plain": [
       "array([[-0.11925007,  0.28276716,  0.15593146, ..., -0.29543541,\n",
       "         1.4066368 , -0.11545684],\n",
       "       [-0.03815172, -0.09611555,  0.24522728, ...,  0.29973546,\n",
       "         0.50388316,  0.16259441],\n",
       "       [-0.01334962,  0.2180422 ,  0.39951328, ...,  0.08188037,\n",
       "         0.68733974,  0.24909926],\n",
       "       ...,\n",
       "       [-0.01217997,  0.02195081, -0.06677656, ..., -0.05180459,\n",
       "         0.64762701,  0.11385277],\n",
       "       [-0.04597709,  0.53488645,  0.03296781, ..., -0.41689093,\n",
       "         0.5512583 , -0.32965413],\n",
       "       [-0.19477453,  0.15689519, -0.02710864, ..., -0.08984398,\n",
       "         0.27399229,  0.33172886]])"
      ]
     },
     "execution_count": 27,
     "metadata": {},
     "output_type": "execute_result"
    }
   ],
   "source": [
    "Y_combat"
   ]
  },
  {
   "cell_type": "code",
   "execution_count": 52,
   "metadata": {},
   "outputs": [
    {
     "data": {
      "text/plain": [
       "array([[-0.11925007,  0.28276716,  0.15593146, ..., -0.29543541,\n",
       "         1.4066368 , -0.11545684],\n",
       "       [-0.03815172, -0.09611555,  0.24522728, ...,  0.29973546,\n",
       "         0.50388316,  0.16259441],\n",
       "       [-0.01334962,  0.2180422 ,  0.39951328, ...,  0.08188037,\n",
       "         0.68733974,  0.24909926],\n",
       "       ...,\n",
       "       [-0.01217997,  0.02195081, -0.06677656, ..., -0.05180459,\n",
       "         0.64762701,  0.11385277],\n",
       "       [-0.04597709,  0.53488645,  0.03296781, ..., -0.41689093,\n",
       "         0.5512583 , -0.32965413],\n",
       "       [-0.19477453,  0.15689519, -0.02710864, ..., -0.08984398,\n",
       "         0.27399229,  0.33172886]])"
      ]
     },
     "execution_count": 52,
     "metadata": {},
     "output_type": "execute_result"
    }
   ],
   "source": [
    "Y_combat"
   ]
  },
  {
   "cell_type": "markdown",
   "metadata": {},
   "source": [
    "let's see how well harmonisation works"
   ]
  },
  {
   "cell_type": "code",
   "execution_count": 28,
   "metadata": {},
   "outputs": [
    {
     "data": {
      "image/png": "[encoded data removed]",
      "text/plain": [
       "<Figure size 1080x576 with 2 Axes>"
      ]
     },
     "metadata": {
      "needs_background": "light"
     },
     "output_type": "display_data"
    }
   ],
   "source": [
    "Y_df_raw = pd.DataFrame(Y)\n",
    "Y_df_raw['site'] = b\n",
    "\n",
    "fig, axs = plt.subplots(figsize=(15, 8), ncols=2, sharey=True)\n",
    "\n",
    "sns.boxplot(data=[Y[(site==name).values,:].mean(axis=0).T for name in site.unique()], \n",
    "            ax=axs[0], showfliers=True, orient='horizontal')\n",
    "axs[0].set_yticklabels(le.classes_, rotation=0, size=20)\n",
    "#axs[0].set_ylim([-2, 2])\n",
    "axs[0].set_xlabel(\"Z-fisher Pearson Connectivity\", size=22)\n",
    "axs[0].set_ylabel(\"\")\n",
    "axs[0].set_title(\"BEFORE HARMONIZATION\", size=25, weight='bold')\n",
    "axs[0].tick_params(labelsize=20)\n",
    "Y_df_combat = pd.DataFrame(Y_combat)\n",
    "Y_df_combat['site'] = b\n",
    "sns.boxplot(data=[Y_combat[(site==name).values,:].mean(axis=0).T for name in site.unique()], \n",
    "            showfliers=True, orient='horizontal')\n",
    "axs[1].set_yticklabels(le.classes_, rotation=0)\n",
    "#axs[1].set_ylim([-2, 2])\n",
    "axs[1].set_xlabel(\"Z-fisher Pearson Connectivity\", size=22)\n",
    "axs[1].set_title(\"AFTER HARMONIZATION\", size=25, weight='bold')\n",
    "axs[1].tick_params(labelsize=20)\n",
    "plt.savefig('../plots/harmonisation_plot.svg', dpi=300)\n",
    "plt.savefig('../plots/harmonisation_plot.png', dpi=300)\n",
    "pass"
   ]
  },
  {
   "cell_type": "markdown",
   "metadata": {},
   "source": [
    "Compare connectivity matrices before and after adjustment"
   ]
  },
  {
   "cell_type": "code",
   "execution_count": 30,
   "metadata": {},
   "outputs": [],
   "source": [
    "CC_adjust = np.array([squareform(Y_combat[ii, :]) + np.identity(n_rois) for ii in range(Y_combat.shape[0])])"
   ]
  },
  {
   "cell_type": "code",
   "execution_count": 31,
   "metadata": {},
   "outputs": [
    {
     "data": {
      "text/plain": [
       "(1890, 86, 86)"
      ]
     },
     "execution_count": 31,
     "metadata": {},
     "output_type": "execute_result"
    }
   ],
   "source": [
    "CC_adjust.shape"
   ]
  },
  {
   "cell_type": "code",
   "execution_count": 32,
   "metadata": {},
   "outputs": [],
   "source": [
    "# Save data\n",
    "np.savez('../data/data_after_combat.npz', \n",
    "         subjects=subjects,\n",
    "         age = age, \n",
    "         sex=sex, \n",
    "         site=site, \n",
    "         group=group, \n",
    "         Y=Y, \n",
    "         Y_combat = Y_combat, \n",
    "         CC_adjust = CC_adjust)"
   ]
  },
  {
   "cell_type": "code",
   "execution_count": 33,
   "metadata": {},
   "outputs": [],
   "source": [
    "# Save this also for clustering\n",
    "savemat('../data/cors_combat_both.mat', {'CC_combat': CC_adjust})"
   ]
  },
  {
   "cell_type": "markdown",
   "metadata": {},
   "source": [
    "Check that  links now have a reduced correlation with age..."
   ]
  },
  {
   "cell_type": "code",
   "execution_count": 34,
   "metadata": {},
   "outputs": [
    {
     "name": "stderr",
     "output_type": "stream",
     "text": [
      "/home/javi/anaconda3/lib/python3.8/site-packages/seaborn/distributions.py:2551: FutureWarning: `distplot` is a deprecated function and will be removed in a future version. Please adapt your code to use either `displot` (a figure-level function with similar flexibility) or `histplot` (an axes-level function for histograms).\n",
      "  warnings.warn(msg, FutureWarning)\n",
      "/home/javi/anaconda3/lib/python3.8/site-packages/seaborn/distributions.py:2551: FutureWarning: `distplot` is a deprecated function and will be removed in a future version. Please adapt your code to use either `displot` (a figure-level function with similar flexibility) or `histplot` (an axes-level function for histograms).\n",
      "  warnings.warn(msg, FutureWarning)\n"
     ]
    },
    {
     "data": {
      "image/png": "[encoded data removed]",
      "text/plain": [
       "<Figure size 720x360 with 2 Axes>"
      ]
     },
     "metadata": {
      "needs_background": "light"
     },
     "output_type": "display_data"
    }
   ],
   "source": [
    "import seaborn as sns\n",
    "fig, axs = plt.subplots(ncols=2, figsize=(10, 5))\n",
    "sns.distplot([np.corrcoef(Y[:,ii], age)[0,1] for ii in range(Y.shape[1])], ax = axs[0])\n",
    "axs[0].set_title(\"Before Regressing out\", size=15)\n",
    "axs[0].set_xlabel(\"Pearson r\", size=12)\n",
    "\n",
    "sns.distplot([np.corrcoef(Y_combat[:,ii], age)[0,1] for ii in range(Y_combat.shape[1])], ax = axs[1])\n",
    "axs[1].set_title(\"After Regressing out\", size=15)\n",
    "axs[1].set_xlabel(\"Pearson r\", size=12)\n",
    "plt.suptitle(\"Edge Correlation with Age\", size=20)\n",
    "fig.subplots_adjust(top=0.85, bottom=0.15)\n",
    "pass"
   ]
  },
  {
   "cell_type": "code",
   "execution_count": 35,
   "metadata": {},
   "outputs": [
    {
     "name": "stdout",
     "output_type": "stream",
     "text": [
      "Ttest_indResult(statistic=-0.22239198164868654, pvalue=0.8240328075686425)\n",
      "16.029396180485147   8.616659385909081\n",
      "16.120501460851134   9.17091808483689\n"
     ]
    }
   ],
   "source": [
    "#age\n",
    "print(ttest_ind(age[group==2], age[group==1]))\n",
    "print(np.mean(age[group==2]), \" \", np.std(age[group==2]))\n",
    "print(np.mean(age[group==1]), \" \", np.std(age[group==1]))"
   ]
  },
  {
   "cell_type": "code",
   "execution_count": 171,
   "metadata": {},
   "outputs": [
    {
     "data": {
      "text/plain": [
       "(2.059731816334823, 1.6155486985492338e-10)"
      ]
     },
     "execution_count": 171,
     "metadata": {},
     "output_type": "execute_result"
    }
   ],
   "source": [
    "fisher_exact(pd.crosstab(demo.SEX, demo.DX_GROUP))"
   ]
  },
  {
   "cell_type": "code",
   "execution_count": 228,
   "metadata": {},
   "outputs": [
    {
     "name": "stdout",
     "output_type": "stream",
     "text": [
      "col_0       1    2\n",
      "DX_GROUP          \n",
      "1         760  120\n",
      "2         777  233\n",
      "(1.8991848991848992, 1.288911987574178e-07)\n"
     ]
    }
   ],
   "source": [
    "from scipy.stats import fisher_exact\n",
    "print(pd.crosstab(group, sex))\n",
    "print(fisher_exact(pd.crosstab(group, sex)))"
   ]
  },
  {
   "cell_type": "code",
   "execution_count": 250,
   "metadata": {},
   "outputs": [],
   "source": [
    "our_demo = pd.merge(pd.DataFrame({'SUB_ID': subjects}), demo)"
   ]
  },
  {
   "cell_type": "code",
   "execution_count": 272,
   "metadata": {},
   "outputs": [
    {
     "data": {
      "text/plain": [
       "1    1537\n",
       "2     353\n",
       "Name: SEX, dtype: int64"
      ]
     },
     "execution_count": 272,
     "metadata": {},
     "output_type": "execute_result"
    }
   ],
   "source": [
    "our_demo.SEX.value_counts()"
   ]
  },
  {
   "cell_type": "code",
   "execution_count": 290,
   "metadata": {},
   "outputs": [
    {
     "name": "stdout",
     "output_type": "stream",
     "text": [
      "site = CALTECH,TC ratio = 0.266667, ASD ratio = 0.266667\n",
      "site = CALTECH,TC (M/F) = (15/4), ASD(M/F) = (15/4)\n",
      " \n",
      "site = CMU,TC ratio = 0.300000, ASD ratio = 0.300000\n",
      "site = CMU,TC (M/F) = (10/3), ASD(M/F) = (10/3)\n",
      " \n",
      "site = KKI,TC ratio = 0.537190, ASD ratio = 0.327586\n",
      "site = KKI,TC (M/F) = (121/65), ASD(M/F) = (58/19)\n",
      " \n",
      "site = LEUVEN,TC ratio = 0.166667, ASD ratio = 0.115385\n",
      "site = LEUVEN,TC (M/F) = (30/5), ASD(M/F) = (26/3)\n",
      " \n",
      "site = MAX_MUN,TC ratio = 0.148148, ASD ratio = 0.157895\n",
      "site = MAX_MUN,TC (M/F) = (27/4), ASD(M/F) = (19/3)\n",
      " \n",
      "site = NYU,TC ratio = 0.261682, ASD ratio = 0.145038\n",
      "site = NYU,TC (M/F) = (107/28), ASD(M/F) = (131/19)\n",
      " \n",
      "site = OLIN,TC ratio = 0.142857, ASD ratio = 0.176471\n",
      "site = OLIN,TC (M/F) = (14/2), ASD(M/F) = (17/3)\n",
      " \n",
      "site = PITT,TC ratio = 0.173913, ASD ratio = 0.153846\n",
      "site = PITT,TC (M/F) = (23/4), ASD(M/F) = (26/4)\n",
      " \n",
      "site = SBL,TC ratio = 0.000000, ASD ratio = 0.000000\n",
      "site = SBL,TC (M/F) = (15/0), ASD(M/F) = (15/0)\n",
      " \n",
      "site = SDSU,TC ratio = 0.210526, ASD ratio = 0.205128\n",
      "site = SDSU,TC (M/F) = (38/8), ASD(M/F) = (39/8)\n",
      " \n",
      "site = STANFORD,TC ratio = 0.222222, ASD ratio = 0.400000\n",
      "site = STANFORD,TC (M/F) = (9/2), ASD(M/F) = (10/4)\n",
      " \n",
      "site = TCD,TC ratio = 0.000000, ASD ratio = 0.000000\n",
      "site = TCD,TC (M/F) = (46/0), ASD(M/F) = (45/0)\n",
      " \n",
      "site = UCLA,TC ratio = 0.225806, ASD ratio = 0.062500\n",
      "site = UCLA,TC (M/F) = (31/7), ASD(M/F) = (48/3)\n",
      " \n",
      "site = UM,TC ratio = 0.321429, ASD ratio = 0.187500\n",
      "site = UM,TC (M/F) = (56/18), ASD(M/F) = (48/9)\n",
      " \n",
      "site = USM,TC ratio = 0.054545, ASD ratio = 0.027397\n",
      "site = USM,TC (M/F) = (55/3), ASD(M/F) = (73/2)\n",
      " \n",
      "site = YALE,TC ratio = 0.400000, ASD ratio = 0.350000\n",
      "site = YALE,TC (M/F) = (20/8), ASD(M/F) = (20/7)\n",
      " \n",
      "site = BNI,TC ratio = 0.000000, ASD ratio = 0.000000\n",
      "site = BNI,TC (M/F) = (29/0), ASD(M/F) = (29/0)\n",
      " \n",
      "site = EMC,TC ratio = 0.238095, ASD ratio = 0.277778\n",
      "site = EMC,TC (M/F) = (21/5), ASD(M/F) = (18/5)\n",
      " \n",
      "site = ETH,TC ratio = 0.000000, ASD ratio = 0.000000\n",
      "site = ETH,TC (M/F) = (24/0), ASD(M/F) = (11/0)\n",
      " \n",
      "site = GU,TC ratio = 0.928571, ASD ratio = 0.205128\n",
      "site = GU,TC (M/F) = (28/26), ASD(M/F) = (39/8)\n",
      " \n",
      "site = IU,TC ratio = 0.333333, ASD ratio = 0.307692\n",
      "site = IU,TC (M/F) = (15/5), ASD(M/F) = (13/4)\n",
      " \n",
      "site = OHSU,TC ratio = 1.076923, ASD ratio = 0.233333\n",
      "site = OHSU,TC (M/F) = (26/28), ASD(M/F) = (30/7)\n",
      " \n",
      "site = ONRC,TC ratio = 0.571429, ASD ratio = 0.166667\n",
      "site = ONRC,TC (M/F) = (7/4), ASD(M/F) = (6/1)\n",
      " \n",
      "site = UCD,TC ratio = 0.400000, ASD ratio = 0.285714\n",
      "site = UCD,TC (M/F) = (10/4), ASD(M/F) = (14/4)\n",
      " \n"
     ]
    }
   ],
   "source": [
    "for site in our_demo.SITE_ID.unique():\n",
    "    site_df = our_demo.loc[(our_demo.SITE_ID == site),:]\n",
    "    tc_site_df = site_df.loc[site_df.DX_GROUP == 2,:]\n",
    "    ratio_tc = sum(tc_site_df.SEX==2)/sum(tc_site_df.SEX==1)\n",
    "    \n",
    "    asd_site_df = site_df.loc[site_df.DX_GROUP == 1,:]\n",
    "    ratio_asd = sum(asd_site_df.SEX==2)/sum(asd_site_df.SEX==1)\n",
    "    print(\"site = %s,TC ratio = %f, ASD ratio = %f\" % (site, ratio_tc, ratio_asd))\n",
    "    print(\"site = %s,TC (M/F) = (%d/%d), ASD(M/F) = (%d/%d)\" % (site, \n",
    "                                                                sum(tc_site_df.SEX==1), \n",
    "                                                                         sum(tc_site_df.SEX==2),\n",
    "                                                                         sum(asd_site_df.SEX==1), \n",
    "                                                                         sum(asd_site_df.SEX==2)))\n",
    "    print(\" \")"
   ]
  },
  {
   "cell_type": "code",
   "execution_count": 271,
   "metadata": {},
   "outputs": [
    {
     "name": "stdout",
     "output_type": "stream",
     "text": [
      "SITE_ID   SEX  DX_GROUP\n",
      "BNI       1    1            29\n",
      "               2            29\n",
      "CALTECH   1    1            15\n",
      "               2            15\n",
      "          2    1             4\n",
      "               2             4\n",
      "CMU       1    1            10\n",
      "               2            10\n",
      "          2    1             3\n",
      "               2             3\n",
      "EMC       1    1            18\n",
      "               2            21\n",
      "          2    1             5\n",
      "               2             5\n",
      "ETH       1    1            11\n",
      "               2            24\n",
      "GU        1    1            39\n",
      "               2            28\n",
      "          2    1             8\n",
      "               2            26\n",
      "IU        1    1            13\n",
      "               2            15\n",
      "          2    1             4\n",
      "               2             5\n",
      "KKI       1    1            58\n",
      "               2           121\n",
      "          2    1            19\n",
      "               2            65\n",
      "LEUVEN    1    1            26\n",
      "               2            30\n",
      "          2    1             3\n",
      "               2             5\n",
      "MAX_MUN   1    1            19\n",
      "               2            27\n",
      "          2    1             3\n",
      "               2             4\n",
      "NYU       1    1           131\n",
      "               2           107\n",
      "          2    1            19\n",
      "               2            28\n",
      "OHSU      1    1            30\n",
      "               2            26\n",
      "          2    1             7\n",
      "               2            28\n",
      "OLIN      1    1            17\n",
      "               2            14\n",
      "          2    1             3\n",
      "               2             2\n",
      "ONRC      1    1             6\n",
      "               2             7\n",
      "          2    1             1\n",
      "               2             4\n",
      "PITT      1    1            26\n",
      "               2            23\n",
      "          2    1             4\n",
      "               2             4\n",
      "SBL       1    1            15\n",
      "               2            15\n",
      "SDSU      1    1            39\n",
      "               2            38\n",
      "          2    1             8\n",
      "               2             8\n",
      "STANFORD  1    1            10\n",
      "               2             9\n",
      "          2    1             4\n",
      "               2             2\n",
      "TCD       1    1            45\n",
      "               2            46\n",
      "UCD       1    1            14\n",
      "               2            10\n",
      "          2    1             4\n",
      "               2             4\n",
      "UCLA      1    1            48\n",
      "               2            31\n",
      "          2    1             3\n",
      "               2             7\n",
      "UM        1    1            48\n",
      "               2            56\n",
      "          2    1             9\n",
      "               2            18\n",
      "USM       1    1            73\n",
      "               2            55\n",
      "          2    1             2\n",
      "               2             3\n",
      "YALE      1    1            20\n",
      "               2            20\n",
      "          2    1             7\n",
      "               2             8\n",
      "Name: SUB_ID, dtype: int64\n"
     ]
    }
   ],
   "source": [
    "with pd.option_context('display.max_rows', None):\n",
    "    print(our_demo.groupby(by=['SITE_ID', 'SEX', 'DX_GROUP']).count().iloc[:,0])"
   ]
  },
  {
   "cell_type": "code",
   "execution_count": 305,
   "metadata": {},
   "outputs": [
    {
     "data": {
      "text/plain": [
       "285"
      ]
     },
     "execution_count": 305,
     "metadata": {},
     "output_type": "execute_result"
    }
   ],
   "source": [
    "our_demo.SUB_ID[our_demo.SITE_ID=='NYU'].values"
   ]
  },
  {
   "cell_type": "code",
   "execution_count": 306,
   "metadata": {},
   "outputs": [
    {
     "data": {
      "text/plain": [
       "(2.043048357867294, 1.384173573466282e-10)"
      ]
     },
     "execution_count": 306,
     "metadata": {},
     "output_type": "execute_result"
    }
   ],
   "source": [
    "foo = pd.concat([pd.read_csv('../data/ABIDEI_Composite_Phenotypic.csv', encoding = \"ISO-8859-1\").loc[:, ['SUB_ID', 'SITE_ID', 'DX_GROUP', 'SEX']],\n",
    "                 pd.read_csv('../data/ABIDEII_Composite_Phenotypic.csv', encoding = \"ISO-8859-1\").loc[:, ['SUB_ID','SITE_ID','DX_GROUP', 'SEX']]])\n",
    "fisher_exact(pd.crosstab(foo.SEX, foo.DX_GROUP))"
   ]
  },
  {
   "cell_type": "code",
   "execution_count": 311,
   "metadata": {},
   "outputs": [
    {
     "data": {
      "text/plain": [
       "NYU              184\n",
       "ABIDEII-NYU_1     78\n",
       "ABIDEII-NYU_2     23\n",
       "Name: SITE_ID, dtype: int64"
      ]
     },
     "execution_count": 311,
     "metadata": {},
     "output_type": "execute_result"
    }
   ],
   "source": [
    "pd.merge(foo, our_demo.SUB_ID[our_demo.SITE_ID=='NYU'], on = 'SUB_ID').SITE_ID.value_counts()"
   ]
  },
  {
   "cell_type": "code",
   "execution_count": 51,
   "metadata": {},
   "outputs": [],
   "source": [
    "def cohen(x, y):\n",
    "    n_x = len(x)\n",
    "    n_y = len(y)\n",
    "    \n",
    "    mu_x = np.mean(x)\n",
    "    mu_y = np.mean(y)\n",
    "    \n",
    "    var_x = np.var(x)\n",
    "    var_y = np.var(y)\n",
    "    \n",
    "    s = np.sqrt(((n_x-1)*var_x + (n_y-1)*var_y)/(n_x + n_y -2))\n",
    "    \n",
    "    d = (mu_x - mu_y)/s\n",
    "    \n",
    "    return d"
   ]
  },
  {
   "cell_type": "code",
   "execution_count": 52,
   "metadata": {},
   "outputs": [],
   "source": [
    "def compute_ci(data,  alpha=0.05, random_state=0, n_boots=1000, estimator=np.mean):\n",
    "    from sklearn.utils import resample\n",
    "    np.random.seed(random_state)\n",
    "    \n",
    "    boot_dist = [estimator(resample(data)) for ii in range(n_boots)]\n",
    "    \n",
    "    l,u = np.quantile(boot_dist, q=[alpha/2, 1-alpha/2])\n",
    "    \n",
    "    return (l, u)\n",
    "    "
   ]
  },
  {
   "cell_type": "code",
   "execution_count": 342,
   "metadata": {},
   "outputs": [
    {
     "name": "stdout",
     "output_type": "stream",
     "text": [
      "(0.0729154045419061, 0.07630581785150327)\n",
      "(0.08666342680782334, 0.09066811534741985)\n"
     ]
    }
   ],
   "source": [
    "from scipy.stats import t, sem\n",
    "print(t.interval(0.95, len(r_age_before)-1, loc=np.mean(r_age_before), scale=sem(r_age_before)))\n",
    "print(t.interval(0.95, len(d_sex)-1, loc=np.mean(d_sex), scale=sem(d_sex)))"
   ]
  },
  {
   "cell_type": "code",
   "execution_count": 343,
   "metadata": {},
   "outputs": [
    {
     "data": {
      "text/plain": [
       "array([0.00708656, 0.19902188])"
      ]
     },
     "execution_count": 343,
     "metadata": {},
     "output_type": "execute_result"
    }
   ],
   "source": [
    "np.quantile(d_sex, q=[0.05, 0.95])"
   ]
  },
  {
   "cell_type": "code",
   "execution_count": 335,
   "metadata": {},
   "outputs": [
    {
     "data": {
      "text/plain": [
       "(0.07292707533503272, 0.07628148972114979)"
      ]
     },
     "execution_count": 335,
     "metadata": {},
     "output_type": "execute_result"
    }
   ],
   "source": [
    "compute_ci(r_age_before)"
   ]
  },
  {
   "cell_type": "code",
   "execution_count": 334,
   "metadata": {},
   "outputs": [
    {
     "data": {
      "text/plain": [
       "(0.0868318046289161, 0.09077711971227118)"
      ]
     },
     "execution_count": 334,
     "metadata": {},
     "output_type": "execute_result"
    }
   ],
   "source": [
    "compute_ci(d_sex)"
   ]
  },
  {
   "cell_type": "code",
   "execution_count": 330,
   "metadata": {},
   "outputs": [
    {
     "data": {
      "text/plain": [
       "0.0886657710776216"
      ]
     },
     "execution_count": 330,
     "metadata": {},
     "output_type": "execute_result"
    }
   ],
   "source": [
    "np.mean(d_sex)"
   ]
  },
  {
   "cell_type": "code",
   "execution_count": 152,
   "metadata": {},
   "outputs": [
    {
     "data": {
      "text/plain": [
       "Ttest_relResult(statistic=79.3144539223793, pvalue=0.0)"
      ]
     },
     "execution_count": 152,
     "metadata": {},
     "output_type": "execute_result"
    }
   ],
   "source": [
    "from scipy.stats import ttest_rel\n",
    "ttest_rel(r_age_before, r_age_after)"
   ]
  },
  {
   "cell_type": "code",
   "execution_count": 146,
   "metadata": {},
   "outputs": [],
   "source": [
    "p_1 = [pearsonr(Y[:,ii], age)[1] for ii in range(Y.shape[1])]\n",
    "p_2 = [pearsonr(Y_combat[:,ii], age)[1] for ii in range(Y.shape[1])]"
   ]
  },
  {
   "cell_type": "code",
   "execution_count": 153,
   "metadata": {},
   "outputs": [],
   "source": [
    "p_1 = [pearsonr(Y[:,ii], age)[1] for ii in range(Y.shape[1])]\n",
    "p_2 = [pearsonr(Y_combat[:,ii], age)[1] for ii in range(Y.shape[1])]"
   ]
  },
  {
   "cell_type": "code",
   "execution_count": 368,
   "metadata": {},
   "outputs": [],
   "source": [
    "d_group_before = [cohen(Y[group==2,ii], Y[group==1,ii]) for ii in range(Y.shape[0])]\n",
    "d_group_after = [cohen(Y_combat[group==2,ii], Y_combat[group==1,ii]) for ii in range(Y_combat.shape[0])]"
   ]
  },
  {
   "cell_type": "code",
   "execution_count": 53,
   "metadata": {},
   "outputs": [
    {
     "data": {
      "image/png": "[encoded data removed]",
      "text/plain": [
       "<Figure size 720x360 with 2 Axes>"
      ]
     },
     "metadata": {
      "needs_background": "light"
     },
     "output_type": "display_data"
    }
   ],
   "source": [
    "import seaborn as sns\n",
    "from scipy.stats import pearsonr\n",
    "\n",
    "fig, axs = plt.subplots(ncols=2, figsize=(10, 5))\n",
    "sns.distplot([pearsonr(Y[:,ii], age)[1] for ii in range(Y.shape[1])], ax = axs[0])\n",
    "axs[0].set_title(\"Before Regressing out\", size=15)\n",
    "axs[0].set_xlabel(\"P-value\", size=12)\n",
    "\n",
    "sns.distplot([pearsonr(Y_combat[:,ii], age)[1] \\\n",
    "              for ii in range(Y_combat.shape[1])], ax = axs[1])\n",
    "axs[1].set_title(\"After Regressing out\", size=15)\n",
    "axs[1].set_xlabel(\"P-value\", size=12)\n",
    "plt.suptitle(\"p-values edge Correlation with Age\", size=20)\n",
    "fig.subplots_adjust(top=0.85, bottom=0.15)\n",
    "#plt.savefig(opj(plot_dir, \"edge_age_cor_pvals.png\"))\n",
    "pass"
   ]
  },
  {
   "cell_type": "code",
   "execution_count": 31,
   "metadata": {},
   "outputs": [],
   "source": [
    "ps_age_raw = [pearsonr(Y[:, ii], C[:, 0])[1] for ii in range(Y.shape[1])]\n",
    "ps_age_combat = [pearsonr(Y_combat[:, ii], C[:, 0])[1] for ii in range(Y_combat.shape[1])]"
   ]
  },
  {
   "cell_type": "code",
   "execution_count": 35,
   "metadata": {},
   "outputs": [
    {
     "data": {
      "text/plain": [
       "0.9995388716886316"
      ]
     },
     "execution_count": 35,
     "metadata": {},
     "output_type": "execute_result"
    }
   ],
   "source": [
    "np.max(ps_age_raw)"
   ]
  },
  {
   "cell_type": "code",
   "execution_count": 32,
   "metadata": {},
   "outputs": [
    {
     "name": "stdout",
     "output_type": "stream",
     "text": [
      "the number of links associated with age before combat = 1102\n",
      "the number of links associated with age after combat = 0\n"
     ]
    }
   ],
   "source": [
    "print(\"the number of links associated with age before combat = %d\"% sum(multipletests(ps_age_raw, method='holm')[0]))\n",
    "print(\"the number of links associated with age after combat = %d\"% sum(multipletests(ps_age_combat, method='holm')[0]))"
   ]
  },
  {
   "cell_type": "code",
   "execution_count": 33,
   "metadata": {},
   "outputs": [
    {
     "name": "stdout",
     "output_type": "stream",
     "text": [
      "the number of links associated with age before combat = 2236\n",
      "the number of links associated with age after combat = 0\n"
     ]
    }
   ],
   "source": [
    "print(\"the number of links associated with age before combat = %d\"% sum(multipletests(ps_age_raw, method='fdr_bh')[0]))\n",
    "print(\"the number of links associated with age after combat = %d\"% sum(multipletests(ps_age_combat, method='fdr_bh')[0]))"
   ]
  },
  {
   "cell_type": "code",
   "execution_count": 57,
   "metadata": {},
   "outputs": [
    {
     "data": {
      "image/png": "[encoded data removed]",
      "text/plain": [
       "<Figure size 720x360 with 2 Axes>"
      ]
     },
     "metadata": {
      "needs_background": "light"
     },
     "output_type": "display_data"
    }
   ],
   "source": [
    "from scipy.stats import ttest_ind\n",
    "\n",
    "fig, axs = plt.subplots(ncols=2, figsize=(10, 5))\n",
    "sns.distplot([ttest_ind(Y[sex==1,ii], Y[sex==2,ii])[1] for ii in range(Y.shape[1])], ax = axs[0])\n",
    "axs[0].set_title(\"Before Regressing out\", size=15)\n",
    "axs[0].set_xlabel(\"p-value (t-test)\", size=12)\n",
    "\n",
    "sns.distplot([ttest_ind(Y_combat[sex==1,ii], \n",
    "                        Y_combat[sex==2, ii])[1] for ii in range(Y_combat.shape[1])], ax = axs[1])\n",
    "axs[1].set_title(\"After Regressing out\", size=15)\n",
    "axs[1].set_xlabel(\"p-value (t-test)\", size=12)\n",
    "plt.suptitle(\"Edge association with Sex\", size=20)\n",
    "fig.subplots_adjust(top=0.85, bottom=0.15)\n",
    "#plt.savefig(opj(plot_dir, \"edge_sex_association.png\"))\n",
    "pass"
   ]
  },
  {
   "cell_type": "code",
   "execution_count": 39,
   "metadata": {},
   "outputs": [],
   "source": [
    "ps_sex_raw = [ttest_ind(Y[sex==1,ii], Y[sex==2,ii])[1] for ii in range(Y.shape[1])]\n",
    "ps_sex_combat = [ttest_ind(Y_combat[sex==1,ii], Y_combat[sex==2,ii])[1] for ii in range(Y_combat.shape[1])]"
   ]
  },
  {
   "cell_type": "code",
   "execution_count": 37,
   "metadata": {},
   "outputs": [
    {
     "name": "stdout",
     "output_type": "stream",
     "text": [
      "the number of links associated with sex before combat = 28\n",
      "the number of links associated with sex after combat = 0\n"
     ]
    }
   ],
   "source": [
    "print(\"the number of links associated with sex before combat = %d\"% sum(multipletests(ps_sex_raw, method='holm')[0]))\n",
    "print(\"the number of links associated with sex after combat = %d\"% sum(multipletests(ps_sex_combat, method='holm')[0]))"
   ]
  },
  {
   "cell_type": "code",
   "execution_count": 36,
   "metadata": {},
   "outputs": [
    {
     "name": "stdout",
     "output_type": "stream",
     "text": [
      "the number of links associated with sex before combat = 565\n",
      "the number of links associated with sex after combat = 0\n"
     ]
    }
   ],
   "source": [
    "print(\"the number of links associated with sex before combat = %d\"% sum(multipletests(ps_sex_raw, method='fdr_bh')[0]))\n",
    "print(\"the number of links associated with sex after combat = %d\"% sum(multipletests(ps_sex_combat, method='fdr_bh')[0]))"
   ]
  },
  {
   "cell_type": "code",
   "execution_count": 151,
   "metadata": {},
   "outputs": [
    {
     "data": {
      "image/png": "[encoded data removed]",
      "text/plain": [
       "<Figure size 720x360 with 2 Axes>"
      ]
     },
     "metadata": {
      "needs_background": "light"
     },
     "output_type": "display_data"
    }
   ],
   "source": [
    "from scipy.stats import ttest_ind\n",
    "\n",
    "fig, axs = plt.subplots(ncols=2, figsize=(10, 5))\n",
    "sns.distplot([ttest_ind(Y[group==1,ii], Y[group==2,ii])[1] for ii in range(Y.shape[1])], ax = axs[0])\n",
    "axs[0].set_title(\"Before Regressing out\", size=15)\n",
    "axs[0].set_xlabel(\"p-value (t-test)\", size=12)\n",
    "\n",
    "sns.distplot([ttest_ind(Y_combat[group==1,ii], \n",
    "                        Y_combat[group==2, ii])[1] for ii in range(Y_combat.shape[1])], ax = axs[1])\n",
    "axs[1].set_title(\"After Regressing out\", size=15)\n",
    "axs[1].set_xlabel(\"p-value (t-test)\", size=12)\n",
    "plt.suptitle(\"Edge association with Group\", size=20)\n",
    "fig.subplots_adjust(top=0.85, bottom=0.15)\n",
    "#plt.savefig(opj(plot_dir, \"edge_sex_association.png\"))\n",
    "pass"
   ]
  },
  {
   "cell_type": "code",
   "execution_count": 41,
   "metadata": {},
   "outputs": [],
   "source": [
    "ps_group_raw = [ttest_ind(Y[group==2,ii], Y[group==1,ii])[1] for ii in range(Y.shape[1])]\n",
    "ps_group_combat = [ttest_ind(Y_combat[group==2,ii], Y_combat[group==1,ii])[1] for ii in range(Y_combat.shape[1])]"
   ]
  },
  {
   "cell_type": "code",
   "execution_count": 43,
   "metadata": {},
   "outputs": [
    {
     "name": "stdout",
     "output_type": "stream",
     "text": [
      "the number of links associated with group before combat = 209\n",
      "the number of links associated with group after combat = 178\n"
     ]
    }
   ],
   "source": [
    "print(\"the number of links associated with group before combat = %d\" % sum(multipletests(ps_group_raw, \n",
    "                                                                                         method='holm')[0]))\n",
    "print(\"the number of links associated with group after combat = %d\" % sum(multipletests(ps_group_combat, \n",
    "                                                                                        method='holm')[0]))"
   ]
  },
  {
   "cell_type": "code",
   "execution_count": 68,
   "metadata": {},
   "outputs": [
    {
     "name": "stdout",
     "output_type": "stream",
     "text": [
      "the number of links associated with group before combat = 209\n",
      "the number of links associated with group after combat = 179\n"
     ]
    }
   ],
   "source": [
    "\n",
    "print(\"the number of links associated with group before combat = %d\" % sum(multipletests(ps_group_raw, \n",
    "                                                                                         method='holm')[0]))\n",
    "print(\"the number of links associated with group after combat = %d\" % sum(multipletests(ps_group_combat, \n",
    "                                                                                        method='holm')[0]))"
   ]
  },
  {
   "cell_type": "code",
   "execution_count": 44,
   "metadata": {},
   "outputs": [
    {
     "name": "stdout",
     "output_type": "stream",
     "text": [
      "the number of links associated with group before combat = 1184\n",
      "the number of links associated with group after combat = 1095\n"
     ]
    }
   ],
   "source": [
    "print(\"the number of links associated with group before combat = %d\" % sum(multipletests(ps_group_raw, \n",
    "                                                                                         method='fdr_bh')[0]))\n",
    "print(\"the number of links associated with group after combat = %d\" % sum(multipletests(ps_group_combat, \n",
    "                                                                                        method='fdr_bh')[0]))"
   ]
  },
  {
   "cell_type": "code",
   "execution_count": 69,
   "metadata": {},
   "outputs": [
    {
     "name": "stdout",
     "output_type": "stream",
     "text": [
      "the number of links associated with group before combat = 1189\n",
      "the number of links associated with group after combat = 1099\n"
     ]
    }
   ],
   "source": [
    "print(\"the number of links associated with group before combat = %d\" % sum(multipletests(ps_group_raw, \n",
    "                                                                                         method='fdr_bh')[0]))\n",
    "print(\"the number of links associated with group after combat = %d\" % sum(multipletests(ps_group_combat, \n",
    "                                                                                        method='fdr_bh')[0]))"
   ]
  },
  {
   "cell_type": "markdown",
   "metadata": {},
   "source": [
    "SITE DIFFERENCES"
   ]
  },
  {
   "cell_type": "code",
   "execution_count": 45,
   "metadata": {},
   "outputs": [],
   "source": [
    "from sklearn.linear_model import LinearRegression\n",
    "linReg = LinearRegression()\n",
    "\n",
    "linReg.fit(np.column_stack((X,C)), Y)\n",
    "levene_data_before = Y - linReg.predict(np.column_stack((X,C))) + linReg.intercept_\n",
    "\n",
    "linReg.fit(np.column_stack((X,C)), Y_combat)\n",
    "\n",
    "levene_data_after = Y_combat - linReg.predict(np.column_stack((X,C))) + linReg.intercept_"
   ]
  },
  {
   "cell_type": "code",
   "execution_count": 49,
   "metadata": {},
   "outputs": [],
   "source": [
    "levene_before = [levene(*[levene_data_before[np.where(b==ii)[0], jj] \\\n",
    "                              for ii in np.unique(b)])[0] for jj in range(levene_data_before.shape[1])]\n",
    "levene_after = [levene(*[levene_data_after[np.where(b==ii)[0], jj] \\\n",
    "                              for ii in np.unique(b)])[0] for jj in range(levene_data_after.shape[1])]"
   ]
  },
  {
   "cell_type": "code",
   "execution_count": 362,
   "metadata": {},
   "outputs": [
    {
     "data": {
      "text/plain": [
       "<matplotlib.collections.PathCollection at 0x7f33d0aa29d0>"
      ]
     },
     "execution_count": 362,
     "metadata": {},
     "output_type": "execute_result"
    },
    {
     "data": {
      "image/png": "[encoded data removed]",
      "text/plain": [
       "<Figure size 432x288 with 1 Axes>"
      ]
     },
     "metadata": {
      "needs_background": "light"
     },
     "output_type": "display_data"
    }
   ],
   "source": [
    "plt.scatter(levene_before, levene_after)"
   ]
  },
  {
   "cell_type": "code",
   "execution_count": 51,
   "metadata": {},
   "outputs": [],
   "source": [
    "site_p_before = [levene(*[levene_data_before[np.where(b==ii)[0], jj] \\\n",
    "                          for ii in np.unique(b)])[1] for jj in range(levene_data_before.shape[1])]\n",
    "site_p_after = [levene(*[levene_data_after[np.where(b==ii)[0], jj] \\\n",
    "                          for ii in np.unique(b)])[1] for jj in range(levene_data_after.shape[1])]"
   ]
  },
  {
   "cell_type": "code",
   "execution_count": 47,
   "metadata": {},
   "outputs": [
    {
     "name": "stdout",
     "output_type": "stream",
     "text": [
      "1498\n",
      "0\n"
     ]
    }
   ],
   "source": [
    "print(sum(multipletests(site_p_before, method='fdr_bh')[0]))\n",
    "print(sum(multipletests(site_p_after, method='fdr_bh')[0]))"
   ]
  },
  {
   "cell_type": "code",
   "execution_count": 54,
   "metadata": {},
   "outputs": [
    {
     "name": "stdout",
     "output_type": "stream",
     "text": [
      "136\n",
      "0\n"
     ]
    }
   ],
   "source": [
    "print(sum(multipletests(site_p_before)[0]))\n",
    "print(sum(multipletests(site_p_after)[0]))"
   ]
  },
  {
   "cell_type": "code",
   "execution_count": 61,
   "metadata": {},
   "outputs": [
    {
     "data": {
      "image/png": "[encoded data removed]",
      "text/plain": [
       "<Figure size 720x360 with 2 Axes>"
      ]
     },
     "metadata": {
      "needs_background": "light"
     },
     "output_type": "display_data"
    }
   ],
   "source": [
    "from scipy.stats import kruskal\n",
    "\n",
    "fig, axs = plt.subplots(ncols=2, figsize=(10, 5))\n",
    "sns.distplot([kruskal(*[Y[site_bool, ii] for site_bool in [(site==this_site).values for this_site in site.unique()]])[0] \\\n",
    "for ii in range(Y.shape[1])], ax = axs[0])\n",
    "axs[0].set_title(\"Before Regressing out\", size=15)\n",
    "axs[0].set_xlabel(\"H-stat (Kruskal-Wallis)\", size=12)\n",
    "\n",
    "sns.distplot([kruskal(*[Y_combat[site_bool, ii] for site_bool in [(site==this_site).values for this_site in site.unique()]])[0] \\\n",
    "for ii in range(Y_combat.shape[1])], ax = axs[1])\n",
    "axs[1].set_title(\"After Regressing out\", size=15)\n",
    "axs[1].set_xlabel(\"H-stat (Kruskal-Wallis)\", size=12)\n",
    "plt.suptitle(\"Edge association with Site\", size=20)\n",
    "fig.subplots_adjust(top=0.85, bottom=0.15)\n",
    "#plt.savefig(opj(plot_dir, \"edge_site_association.png\"))\n",
    "pass"
   ]
  },
  {
   "cell_type": "code",
   "execution_count": 76,
   "metadata": {},
   "outputs": [
    {
     "name": "stdout",
     "output_type": "stream",
     "text": [
      "the number of links associated with center before combat = 3655\n",
      "the number of links associated with center after combat = 0\n"
     ]
    }
   ],
   "source": [
    "ps_site_raw = [kruskal(*[Y[site_bool, ii] \\\n",
    "                        for site_bool in [(site==this_site).values for this_site in site.unique()]])[1] \\\n",
    "                                              for ii in range(Y.shape[1])]\n",
    "\n",
    "ps_site_combat = [kruskal(*[Y_combat[site_bool, ii] \\\n",
    "                            for site_bool in [(site==this_site).values for this_site in site.unique()]])[1] \\\n",
    "                                              for ii in range(Y_combat.shape[1])]\n",
    "\n",
    "print(\"the number of links associated with center before combat = %d\"% sum(multipletests(ps_site_raw)[0]))\n",
    "print(\"the number of links associated with center after combat = %d\"% sum(multipletests(ps_site_combat)[0]))"
   ]
  },
  {
   "cell_type": "code",
   "execution_count": 65,
   "metadata": {},
   "outputs": [
    {
     "name": "stdout",
     "output_type": "stream",
     "text": [
      "the minimum p-value is 0.074\n"
     ]
    }
   ],
   "source": [
    "print(\"the minimum p-value is %.3f\" % np.min([kruskal(*[Y_combat[site_bool, ii] \\\n",
    "                                                        for site_bool in [(site==this_site).values for this_site in site.unique()]])[1] \\\n",
    "                                              for ii in range(Y_combat.shape[1])]))"
   ]
  },
  {
   "cell_type": "markdown",
   "metadata": {},
   "source": [
    "### COMPUTE EFFECT SIZES FOR EACH CASE AFTER HRAMONISATION"
   ]
  },
  {
   "cell_type": "code",
   "execution_count": 36,
   "metadata": {},
   "outputs": [],
   "source": [
    "# Pearson correlations with age\n",
    "r_age_before = [abs(np.corrcoef(Y[:,ii], age)[0,1]) for ii in range(Y.shape[1])]\n",
    "r_age_after = [abs(np.corrcoef(Y_combat[:,ii], age)[0,1]) for ii in range(Y_combat.shape[1])]"
   ]
  },
  {
   "cell_type": "code",
   "execution_count": 55,
   "metadata": {},
   "outputs": [
    {
     "name": "stdout",
     "output_type": "stream",
     "text": [
      "mean = 0.07\n",
      "std = 0.05\n",
      "max = 0.32\n"
     ]
    }
   ],
   "source": [
    "# Compute descriptive of age effect size\n",
    "print(\"mean = %.2f\" % np.mean(r_age_before))\n",
    "print(\"std = %.2f\" % np.std(r_age_before))\n",
    "print(\"max = %.2f\" % np.max(r_age_before))"
   ]
  },
  {
   "cell_type": "code",
   "execution_count": 53,
   "metadata": {},
   "outputs": [],
   "source": [
    "# cohens of sex\n",
    "d_sex_before = [abs(cohen(Y[sex==1,ii], Y[sex==2,ii])) for ii in range(Y.shape[1])]\n",
    "d_sex_after = [abs(cohen(Y_combat[sex==1,ii], Y_combat[sex==2,ii])) for ii in range(Y_combat.shape[1])]"
   ]
  },
  {
   "cell_type": "code",
   "execution_count": 56,
   "metadata": {},
   "outputs": [
    {
     "name": "stdout",
     "output_type": "stream",
     "text": [
      "mean = 0.09\n",
      "std = 0.06\n",
      "max = 0.32\n"
     ]
    }
   ],
   "source": [
    "# Compute descriptive of age effect size\n",
    "print(\"mean = %.2f\" % np.mean(d_sex_before))\n",
    "print(\"std = %.2f\" % np.std(d_sex_before))\n",
    "print(\"max = %.2f\" % np.max(d_sex_before))"
   ]
  },
  {
   "cell_type": "code",
   "execution_count": 415,
   "metadata": {},
   "outputs": [],
   "source": [
    "# cohens of group\n",
    "d_group_before = [abs(cohen(Y[group==1,ii], Y[group==2,ii])) for ii in range(Y.shape[1])]\n",
    "d_group_after = [abs(cohen(Y_combat[group==1,ii], Y_combat[group==2,ii])) for ii in range(Y_combat.shape[1])]"
   ]
  },
  {
   "cell_type": "code",
   "execution_count": 427,
   "metadata": {},
   "outputs": [],
   "source": [
    "# leven's test\n",
    "stat_site_before = [levene(*[barlett_data_before[np.where(site==name)[0], jj] \\\n",
    "                             for name in np.unique(site)])[0] for jj in range(barlett_data_before.shape[1])]\n",
    "\n",
    "stat_site_after = [levene(*[barlett_data_after[np.where(site==name)[0], jj] \\\n",
    "                            for name in np.unique(site)])[0] for jj in range(barlett_data_after.shape[1])]"
   ]
  },
  {
   "cell_type": "code",
   "execution_count": 462,
   "metadata": {},
   "outputs": [
    {
     "data": {
      "image/png": "[encoded data removed]",
      "text/plain": [
       "<Figure size 1440x360 with 4 Axes>"
      ]
     },
     "metadata": {
      "needs_background": "light"
     },
     "output_type": "display_data"
    }
   ],
   "source": [
    "fig, axs = plt.subplots(ncols=4, figsize=(20,5))\n",
    "\n",
    "titles = [\"SITE\", \"AGE\", \"SEX\", \"GROUP\"]\n",
    "ylabels = [\"LEVENE W\", \"PEARSON R\", \"COHEN D\", \"COHEN D\"]\n",
    "for ii, (b, a) in enumerate(zip([stat_site_before, r_age_before, d_sex_before, d_group_before],\n",
    "                                [stat_site_after, r_age_after, d_sex_after, d_group_after])):\n",
    "    sns.boxplot(data=[b, a], width=0.2, ax=axs[ii], linewidth=2)\n",
    "    #axs[ii].boxplot([b, a])\n",
    "    axs[ii].set_xticklabels([\"BEFORE\", \"AFTER\"], size=30)\n",
    "    axs[ii].set_title(titles[ii], size=40, weight='bold')\n",
    "    axs[ii].set_ylabel(ylabels[ii], size=30)\n",
    "    axs[ii].tick_params(labelsize=20)\n",
    "\n",
    "plt.tight_layout()\n",
    "plt.savefig('../plots/FigS1.png', dpi=600)\n",
    "plt.savefig('../plots/FigS1.svg', dpi=600)"
   ]
  }
 ],
 "metadata": {
  "kernelspec": {
   "display_name": "Python 3",
   "language": "python",
   "name": "python3"
  },
  "language_info": {
   "codemirror_mode": {
    "name": "ipython",
    "version": 3
   },
   "file_extension": ".py",
   "mimetype": "text/x-python",
   "name": "python",
   "nbconvert_exporter": "python",
   "pygments_lexer": "ipython3",
   "version": "3.8.5"
  }
 },
 "nbformat": 4,
 "nbformat_minor": 4
}
